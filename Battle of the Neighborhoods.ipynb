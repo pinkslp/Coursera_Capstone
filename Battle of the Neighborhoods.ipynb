{
 "metadata": {
  "language_info": {
   "codemirror_mode": {
    "name": "ipython",
    "version": 3
   },
   "file_extension": ".py",
   "mimetype": "text/x-python",
   "name": "python",
   "nbconvert_exporter": "python",
   "pygments_lexer": "ipython3",
   "version": "3.9.5"
  },
  "orig_nbformat": 4,
  "kernelspec": {
   "name": "python3",
   "display_name": "Python 3.9.5 64-bit"
  },
  "interpreter": {
   "hash": "aee8b7b246df8f9039afb4144a1f6fd8d2ca17a180786b69acc140d282b71a49"
  }
 },
 "nbformat": 4,
 "nbformat_minor": 2,
 "cells": [
  {
   "source": [
    "## Week 4 and 5 Capstone Project - The Battle of Neighborhoods\n",
    "\n",
    "### For this project, I want to find out which city, New York City or Toronto, is more vegan friendly, so that I can recommend one over the other as a better travel destination for my vegan clients at my fictional travel agenecy business.\n",
    "\n",
    "\n",
    "### NOTE: if there is a key error: ‘groups’ when running the code in the notebook, it might be because the number of calls I can make with my free foursquare account is limited and as a result the quota might have been exceeded. I tried running my code and I couldn't get the venue data and then plot the map data as a result after I reset it one too many times. Please look at my work closely as a result, and not just the output or lack of output. Thank You!\n"
   ],
   "cell_type": "markdown",
   "metadata": {}
  },
  {
   "cell_type": "code",
   "execution_count": 40,
   "metadata": {},
   "outputs": [],
   "source": [
    "import pandas as pd \n",
    "import numpy as np \n",
    "\n",
    "from bs4 import BeautifulSoup\n",
    "import requests \n",
    "\n",
    "import geocoder \n",
    "import folium\n",
    "from geopy.geocoders import Nominatim\n",
    "\n",
    "pd.set_option('display.max_columns', None)\n",
    "pd.set_option('display.max_rows', None)\n",
    "\n",
    "import matplotlib.cm as cm\n",
    "import matplotlib.colors as colors"
   ]
  },
  {
   "source": [
    "### Firstly, we need to make a table for New York and Toronto, which contains the Neighborhoods of each city, the postal codes/zip codes, borough, and the Lat-Long coordinates for each neighborhood.\n",
    "\n"
   ],
   "cell_type": "markdown",
   "metadata": {}
  },
  {
   "cell_type": "code",
   "execution_count": 41,
   "metadata": {},
   "outputs": [
    {
     "output_type": "stream",
     "name": "stdout",
     "text": [
      "https://cf-courses-data.s3.us.cloud-object-storage.appdomain.cloud/IBMDeveloperSkillsNetwork-DS0701EN-SkillsNetwork/labs/newyork_data.json\n"
     ]
    },
    {
     "output_type": "execute_result",
     "data": {
      "text/plain": [
       "  Borough Neighborhood   Latitude  Longitude\n",
       "0   Bronx    Wakefield  40.894705 -73.847201\n",
       "1   Bronx   Co-op City  40.874294 -73.829939\n",
       "2   Bronx  Eastchester  40.887556 -73.827806\n",
       "3   Bronx    Fieldston  40.895437 -73.905643\n",
       "4   Bronx    Riverdale  40.890834 -73.912585"
      ],
      "text/html": "<div>\n<style scoped>\n    .dataframe tbody tr th:only-of-type {\n        vertical-align: middle;\n    }\n\n    .dataframe tbody tr th {\n        vertical-align: top;\n    }\n\n    .dataframe thead th {\n        text-align: right;\n    }\n</style>\n<table border=\"1\" class=\"dataframe\">\n  <thead>\n    <tr style=\"text-align: right;\">\n      <th></th>\n      <th>Borough</th>\n      <th>Neighborhood</th>\n      <th>Latitude</th>\n      <th>Longitude</th>\n    </tr>\n  </thead>\n  <tbody>\n    <tr>\n      <th>0</th>\n      <td>Bronx</td>\n      <td>Wakefield</td>\n      <td>40.894705</td>\n      <td>-73.847201</td>\n    </tr>\n    <tr>\n      <th>1</th>\n      <td>Bronx</td>\n      <td>Co-op City</td>\n      <td>40.874294</td>\n      <td>-73.829939</td>\n    </tr>\n    <tr>\n      <th>2</th>\n      <td>Bronx</td>\n      <td>Eastchester</td>\n      <td>40.887556</td>\n      <td>-73.827806</td>\n    </tr>\n    <tr>\n      <th>3</th>\n      <td>Bronx</td>\n      <td>Fieldston</td>\n      <td>40.895437</td>\n      <td>-73.905643</td>\n    </tr>\n    <tr>\n      <th>4</th>\n      <td>Bronx</td>\n      <td>Riverdale</td>\n      <td>40.890834</td>\n      <td>-73.912585</td>\n    </tr>\n  </tbody>\n</table>\n</div>"
     },
     "metadata": {},
     "execution_count": 41
    }
   ],
   "source": [
    "#New York\n",
    "\n",
    "# #grab URL and store it in a URL variable\n",
    "NURL = \"https://cf-courses-data.s3.us.cloud-object-storage.appdomain.cloud/IBMDeveloperSkillsNetwork-DS0701EN-SkillsNetwork/labs/newyork_data.json\"\n",
    "\n",
    "print(NURL)\n",
    "\n",
    "# #obtain raw html\n",
    "nyr = requests.get(NURL).json()\n",
    "\n",
    "nydata = nyr[\"features\"]\n",
    "\n",
    "# define the dataframe columns\n",
    "column_names = ['Borough', 'Neighborhood', 'Latitude', 'Longitude'] \n",
    "\n",
    "# instantiate the dataframe\n",
    "nyneigh = pd.DataFrame(columns=column_names)    \n",
    "\n",
    "for data in nydata:\n",
    "    borough = neighborhood_name = data['properties']['borough'] \n",
    "    neighborhood_name = data['properties']['name']\n",
    "        \n",
    "    neighborhood_latlon = data['geometry']['coordinates']\n",
    "    neighborhood_lat = neighborhood_latlon[1]\n",
    "    neighborhood_lon = neighborhood_latlon[0]\n",
    "    \n",
    "    nyneigh = nyneigh.append({'Borough': borough,\n",
    "                                          'Neighborhood': neighborhood_name,\n",
    "                                          'Latitude': neighborhood_lat,\n",
    "                                          'Longitude': neighborhood_lon}, ignore_index=True)\n",
    "\n",
    "nyneigh.head()\n"
   ]
  },
  {
   "cell_type": "code",
   "execution_count": 42,
   "metadata": {},
   "outputs": [
    {
     "output_type": "stream",
     "name": "stderr",
     "text": [
      "/Users/shreyasiyengar/Library/Python/3.9/lib/python/site-packages/IPython/core/interactiveshell.py:3441: FutureWarning: In a future version of pandas all arguments of read_csv except for the argument 'filepath_or_buffer' will be keyword-only\n  exec(code_obj, self.user_global_ns, self.user_ns)\n"
     ]
    },
    {
     "output_type": "execute_result",
     "data": {
      "text/plain": [
       "  Postal Code           Borough                      Neighborhood   Latitude  \\\n",
       "0         M3A        North York                         Parkwoods  43.753259   \n",
       "1         M4A        North York                  Victoria Village  43.725882   \n",
       "2         M5A  Downtown Toronto         Regent Park, Harbourfront  43.654260   \n",
       "3         M6A        North York  Lawrence Manor, Lawrence Heights  43.718518   \n",
       "4         M7A      Queen's Park     Ontario Provincial Government  43.662301   \n",
       "\n",
       "   Longitude  \n",
       "0 -79.329656  \n",
       "1 -79.315572  \n",
       "2 -79.360636  \n",
       "3 -79.464763  \n",
       "4 -79.389494  "
      ],
      "text/html": "<div>\n<style scoped>\n    .dataframe tbody tr th:only-of-type {\n        vertical-align: middle;\n    }\n\n    .dataframe tbody tr th {\n        vertical-align: top;\n    }\n\n    .dataframe thead th {\n        text-align: right;\n    }\n</style>\n<table border=\"1\" class=\"dataframe\">\n  <thead>\n    <tr style=\"text-align: right;\">\n      <th></th>\n      <th>Postal Code</th>\n      <th>Borough</th>\n      <th>Neighborhood</th>\n      <th>Latitude</th>\n      <th>Longitude</th>\n    </tr>\n  </thead>\n  <tbody>\n    <tr>\n      <th>0</th>\n      <td>M3A</td>\n      <td>North York</td>\n      <td>Parkwoods</td>\n      <td>43.753259</td>\n      <td>-79.329656</td>\n    </tr>\n    <tr>\n      <th>1</th>\n      <td>M4A</td>\n      <td>North York</td>\n      <td>Victoria Village</td>\n      <td>43.725882</td>\n      <td>-79.315572</td>\n    </tr>\n    <tr>\n      <th>2</th>\n      <td>M5A</td>\n      <td>Downtown Toronto</td>\n      <td>Regent Park, Harbourfront</td>\n      <td>43.654260</td>\n      <td>-79.360636</td>\n    </tr>\n    <tr>\n      <th>3</th>\n      <td>M6A</td>\n      <td>North York</td>\n      <td>Lawrence Manor, Lawrence Heights</td>\n      <td>43.718518</td>\n      <td>-79.464763</td>\n    </tr>\n    <tr>\n      <th>4</th>\n      <td>M7A</td>\n      <td>Queen's Park</td>\n      <td>Ontario Provincial Government</td>\n      <td>43.662301</td>\n      <td>-79.389494</td>\n    </tr>\n  </tbody>\n</table>\n</div>"
     },
     "metadata": {},
     "execution_count": 42
    }
   ],
   "source": [
    "#toronto\n",
    "\n",
    "#grab URL and store it in a URL variable\n",
    "URL = \"https://en.wikipedia.org/wiki/List_of_postal_codes_of_Canada:_M\"\n",
    "\n",
    "#obtain raw html\n",
    "r = requests.get(URL)\n",
    "#parse into beautifulsoup \n",
    "soup = BeautifulSoup(r.content) \n",
    "#find required content\n",
    "table = soup.findAll('table',attrs ={'rules':'all','cellspacing':0,}) \n",
    "#convert to text\n",
    "a = table[0].text\n",
    "\n",
    "\"\"\"\n",
    "beautiful soup text has a lot of newlines. split by new line, and then run through\n",
    "the rest of the code to remove the newline and replace it with an empty char\n",
    "\"\"\"\n",
    "b = a.split(\"\\n\")\n",
    "for word in b:\n",
    "    word.replace(\"\\n\", \"\")\n",
    "    word.replace(\"\\n\", \"\")\n",
    "    word.replace(\"\\n\", \"\")\n",
    "#create a list\n",
    "c = []\n",
    "#now only add stuff that isn't an empty char or does not contain Not Assigned\n",
    "for word in b:\n",
    "    if \"Not assigned\" not in word and word != \"\":\n",
    "        c.append(word)\n",
    "#create a new table to store results\n",
    "table_contents=[]\n",
    "\n",
    "for word in c:\n",
    "    #dict to store values for each neighborhood\n",
    "    cell = {}\n",
    "    #Since each postal code is 3 digits, go till the third digit and set it as the postal code value\n",
    "    cell['Postal Code'] = word[:3]\n",
    "    #set a temp variable equal to the rest of the word, which has the borough and the neighborhood\n",
    "    temp = word.replace(word[:3], '')\n",
    "    #split by the parenthesis, and grab the first half which is the borough, set it to the borough of the cell\n",
    "    cell['Borough'] = temp.split('(')[0]\n",
    "    #same logic for the neighborhood, just strip all the uneeded characters\n",
    "    cell['Neighborhood'] = (((((temp).split('(')[1]).strip(')')).replace(' /',',')).replace(')',' ')).strip(' ')\n",
    "    #append the dict to the table\n",
    "    table_contents.append(cell)\n",
    "#convert to trawneigh\n",
    "trawneigh=pd.DataFrame(table_contents)\n",
    "#handle special cases\n",
    "trawneigh['Borough']=trawneigh['Borough'].replace({'Downtown TorontoStn A PO Boxes25 The Esplanade':'Downtown Toronto Stn A',\n",
    "                                             'East TorontoBusiness reply mail Processing Centre969 Eastern':'East Toronto Business',\n",
    "                                             'EtobicokeNorthwest':'Etobicoke Northwest','East YorkEast Toronto':'East York/East Toronto',\n",
    "                                             'MississaugaCanada Post Gateway Processing Centre':'Mississauga'})\n",
    "\n",
    "f = open(\"/Users/shreyasiyengar/VSC/Coursera_Capstone/Geospatial_Coordinates.csv\", \"r\")\n",
    "trawnocoords = pd.read_csv(\"/Users/shreyasiyengar/VSC/Coursera_Capstone/Geospatial_Coordinates.csv\",\",\",header = 0)\n",
    "\n",
    "\n",
    "\n",
    "trawneigh.head()\n",
    "    \n",
    "trawneigh = pd.merge(trawneigh, trawnocoords[['Postal Code', 'Latitude', 'Longitude']], )\n",
    "trawneigh.head()\n",
    "    "
   ]
  },
  {
   "source": [
    "### Now that we have the neighborhood tables for NYC and Toronto, we need to grab the foursquare venue tables for each city."
   ],
   "cell_type": "markdown",
   "metadata": {}
  },
  {
   "cell_type": "code",
   "execution_count": 43,
   "metadata": {},
   "outputs": [
    {
     "output_type": "stream",
     "name": "stdout",
     "text": [
      "Your credentials:\nCLIENT_ID: KOGTV4EAQCBU054ZKLCRMAINCATFAHUJWLHPTAUZ4A3N33SG\nCLIENT_SECRET:R0X1HHFDDDIQF5EHZHICRSD1IX2J4BWNEWP4VF3XFC43EYDP\n"
     ]
    }
   ],
   "source": [
    "# Foursquare Credential Prep\n",
    "CLIENT_ID = 'KOGTV4EAQCBU054ZKLCRMAINCATFAHUJWLHPTAUZ4A3N33SG' # your Foursquare ID\n",
    "CLIENT_SECRET = 'R0X1HHFDDDIQF5EHZHICRSD1IX2J4BWNEWP4VF3XFC43EYDP' # your Foursquare Secret\n",
    "VERSION = '20180605' # Foursquare API version\n",
    "LIMIT = 100 # A default Foursquare API limit value\n",
    "\n",
    "print('Your credentials:')\n",
    "print('CLIENT_ID: ' + CLIENT_ID)\n",
    "print('CLIENT_SECRET:' + CLIENT_SECRET)"
   ]
  },
  {
   "source": [
    "#### The following code, following the New York Lab, gets the nearby venues for a neighborhood using the lat-long, we then use this function to grab the nearby venues for each neighborhood in our dataset."
   ],
   "cell_type": "markdown",
   "metadata": {}
  },
  {
   "cell_type": "code",
   "execution_count": 44,
   "metadata": {},
   "outputs": [],
   "source": [
    "def getNearbyVenues(names, latitudes, longitudes, radius=500):\n",
    "    \n",
    "    venues_list=[]\n",
    "    for name, lat, lng in zip(names, latitudes, longitudes):\n",
    "        print(name)\n",
    "            \n",
    "        # create the API request URL\n",
    "        url = 'https://api.foursquare.com/v2/venues/explore?&client_id={}&client_secret={}&v={}&ll={},{}&radius={}&limit={}'.format(\n",
    "            CLIENT_ID, \n",
    "            CLIENT_SECRET, \n",
    "            VERSION, \n",
    "            lat, \n",
    "            lng, \n",
    "            radius, \n",
    "            LIMIT)\n",
    "            \n",
    "        # make the GET request\n",
    "        results = requests.get(url).json()[\"response\"]['groups'][0]['items']\n",
    "        \n",
    "        # return only relevant information for each nearby venue\n",
    "        venues_list.append([(\n",
    "            name, \n",
    "            lat, \n",
    "            lng, \n",
    "            v['venue']['name'], \n",
    "            v['venue']['location']['lat'], \n",
    "            v['venue']['location']['lng'],  \n",
    "            v['venue']['categories'][0]['name']) for v in results])\n",
    "\n",
    "    nearby_venues = pd.DataFrame([item for venue_list in venues_list for item in venue_list])\n",
    "    nearby_venues.columns = ['Neighborhood', \n",
    "                  'Neighborhood Latitude', \n",
    "                  'Neighborhood Longitude', \n",
    "                  'Venue', \n",
    "                  'Venue Latitude', \n",
    "                  'Venue Longitude', \n",
    "                  'Venue Category']\n",
    "    \n",
    "    return(nearby_venues)\n",
    "\n",
    "    "
   ]
  },
  {
   "cell_type": "code",
   "execution_count": 46,
   "metadata": {},
   "outputs": [
    {
     "output_type": "stream",
     "name": "stdout",
     "text": [
      "Parkwoods\n"
     ]
    },
    {
     "output_type": "error",
     "ename": "KeyError",
     "evalue": "'groups'",
     "traceback": [
      "\u001b[0;31m---------------------------------------------------------------------------\u001b[0m",
      "\u001b[0;31mKeyError\u001b[0m                                  Traceback (most recent call last)",
      "\u001b[0;32m/var/folders/dm/t3m4kf4x7xj5zk522qnk7lxr0000gr/T/ipykernel_67506/1567878927.py\u001b[0m in \u001b[0;36m<module>\u001b[0;34m\u001b[0m\n\u001b[0;32m----> 1\u001b[0;31m trawno_venues = getNearbyVenues(names=trawneigh['Neighborhood'],\n\u001b[0m\u001b[1;32m      2\u001b[0m                                    \u001b[0mlatitudes\u001b[0m\u001b[0;34m=\u001b[0m \u001b[0mtrawneigh\u001b[0m\u001b[0;34m[\u001b[0m\u001b[0;34m'Latitude'\u001b[0m\u001b[0;34m]\u001b[0m\u001b[0;34m,\u001b[0m\u001b[0;34m\u001b[0m\u001b[0;34m\u001b[0m\u001b[0m\n\u001b[1;32m      3\u001b[0m                                    \u001b[0mlongitudes\u001b[0m\u001b[0;34m=\u001b[0m\u001b[0mtrawneigh\u001b[0m\u001b[0;34m[\u001b[0m\u001b[0;34m'Longitude'\u001b[0m\u001b[0;34m]\u001b[0m\u001b[0;34m\u001b[0m\u001b[0;34m\u001b[0m\u001b[0m\n\u001b[1;32m      4\u001b[0m                                   )\n\u001b[1;32m      5\u001b[0m nyc_venues = getNearbyVenues(names=nyneigh['Neighborhood'],\n",
      "\u001b[0;32m/var/folders/dm/t3m4kf4x7xj5zk522qnk7lxr0000gr/T/ipykernel_67506/2920326309.py\u001b[0m in \u001b[0;36mgetNearbyVenues\u001b[0;34m(names, latitudes, longitudes, radius)\u001b[0m\n\u001b[1;32m     16\u001b[0m \u001b[0;34m\u001b[0m\u001b[0m\n\u001b[1;32m     17\u001b[0m         \u001b[0;31m# make the GET request\u001b[0m\u001b[0;34m\u001b[0m\u001b[0;34m\u001b[0m\u001b[0;34m\u001b[0m\u001b[0m\n\u001b[0;32m---> 18\u001b[0;31m         \u001b[0mresults\u001b[0m \u001b[0;34m=\u001b[0m \u001b[0mrequests\u001b[0m\u001b[0;34m.\u001b[0m\u001b[0mget\u001b[0m\u001b[0;34m(\u001b[0m\u001b[0murl\u001b[0m\u001b[0;34m)\u001b[0m\u001b[0;34m.\u001b[0m\u001b[0mjson\u001b[0m\u001b[0;34m(\u001b[0m\u001b[0;34m)\u001b[0m\u001b[0;34m[\u001b[0m\u001b[0;34m\"response\"\u001b[0m\u001b[0;34m]\u001b[0m\u001b[0;34m[\u001b[0m\u001b[0;34m'groups'\u001b[0m\u001b[0;34m]\u001b[0m\u001b[0;34m[\u001b[0m\u001b[0;36m0\u001b[0m\u001b[0;34m]\u001b[0m\u001b[0;34m[\u001b[0m\u001b[0;34m'items'\u001b[0m\u001b[0;34m]\u001b[0m\u001b[0;34m\u001b[0m\u001b[0;34m\u001b[0m\u001b[0m\n\u001b[0m\u001b[1;32m     19\u001b[0m \u001b[0;34m\u001b[0m\u001b[0m\n\u001b[1;32m     20\u001b[0m         \u001b[0;31m# return only relevant information for each nearby venue\u001b[0m\u001b[0;34m\u001b[0m\u001b[0;34m\u001b[0m\u001b[0;34m\u001b[0m\u001b[0m\n",
      "\u001b[0;31mKeyError\u001b[0m: 'groups'"
     ]
    }
   ],
   "source": [
    "trawno_venues = getNearbyVenues(names=trawneigh['Neighborhood'],\n",
    "                                   latitudes= trawneigh['Latitude'],\n",
    "                                   longitudes=trawneigh['Longitude']\n",
    "                                  )\n",
    "nyc_venues = getNearbyVenues(names=nyneigh['Neighborhood'],\n",
    "                                   latitudes= nyneigh['Latitude'],\n",
    "                                   longitudes=nyneigh['Longitude']\n",
    "                                  )                                 "
   ]
  },
  {
   "source": [
    "NOTE: if there is a key error: ‘groups’ when running the code in the notebook, it might be because the number of calls I can make with my free foursquare account is limited and as a result the quota might have been exceeded.\n"
   ],
   "cell_type": "markdown",
   "metadata": {}
  },
  {
   "cell_type": "code",
   "execution_count": null,
   "metadata": {},
   "outputs": [],
   "source": [
    "trawno_venues.head()"
   ]
  },
  {
   "cell_type": "code",
   "execution_count": null,
   "metadata": {},
   "outputs": [],
   "source": [
    "nyc_venues.head()"
   ]
  },
  {
   "cell_type": "code",
   "execution_count": null,
   "metadata": {},
   "outputs": [],
   "source": [
    "trawveg = trawno_venues.loc[trawno_venues['Venue Category'] == 'Vegetarian / Vegan Restaurant']\n",
    "trawveg.head()"
   ]
  },
  {
   "cell_type": "code",
   "execution_count": null,
   "metadata": {},
   "outputs": [],
   "source": [
    "nyveg = nyc_venues.loc[nyc_venues['Venue Category'] == 'Vegetarian / Vegan Restaurant']\n",
    "nyveg.head()"
   ]
  },
  {
   "cell_type": "code",
   "execution_count": null,
   "metadata": {},
   "outputs": [],
   "source": [
    "taddress = 'Toronto, ON'\n",
    "\n",
    "geolocator = Nominatim(user_agent=\"trawno_explorer\")\n",
    "tlocation = geolocator.geocode(taddress)\n",
    "tlatitude = tlocation.latitude\n",
    "tlongitude = tlocation.longitude\n",
    "print('The geograpical coordinates of Toronto are {}, {}.'.format(tlatitude, tlongitude))\n"
   ]
  },
  {
   "cell_type": "code",
   "execution_count": null,
   "metadata": {},
   "outputs": [],
   "source": [
    "naddress = 'New York City, NY'\n",
    "\n",
    "geolocator = Nominatim(user_agent=\"nyc_explorer\")\n",
    "nlocation = geolocator.geocode(naddress)\n",
    "nlatitude = nlocation.latitude\n",
    "nlongitude = nlocation.longitude\n",
    "print('The geograpical coordinates of New York City are {}, {}.'.format(nlatitude, nlongitude))\n"
   ]
  },
  {
   "cell_type": "code",
   "execution_count": null,
   "metadata": {},
   "outputs": [],
   "source": [
    "map_trawno = folium.Map(location=[tlatitude, tlongitude], zoom_start=10)\n",
    "\n",
    "# add markers to map\n",
    "for lat, lng, venue, neighborhood in zip(trawveg['Neighborhood Latitude'], trawveg['Neighborhood Longitude'], trawveg['Venue'], trawveg['Neighborhood']):\n",
    "    label = '{}, {}'.format(neighborhood, borough)\n",
    "    label = folium.Popup(label, parse_html=True)\n",
    "    folium.CircleMarker(\n",
    "        [lat, lng],\n",
    "        radius=5,\n",
    "        popup=label,\n",
    "        color='red',\n",
    "        fill=True,\n",
    "        fill_color='#ffffff',\n",
    "        fill_opacity=0.7,\n",
    "        parse_html=False).add_to(map_trawno)  \n",
    "    \n",
    "map_trawno"
   ]
  },
  {
   "cell_type": "code",
   "execution_count": null,
   "metadata": {},
   "outputs": [],
   "source": [
    " map_ny = folium.Map(location=[nlatitude, nlongitude], zoom_start=10)\n",
    "\n",
    "# add markers to map\n",
    "for lat, lng, venue, neighborhood in zip(nyveg['Neighborhood Latitude'], nyveg['Neighborhood Longitude'], nyveg['Venue'], nyveg['Neighborhood']):\n",
    "    label = '{}, {}'.format(neighborhood, borough)\n",
    "    label = folium.Popup(label, parse_html=True)\n",
    "    folium.CircleMarker(\n",
    "        [lat, lng],\n",
    "        radius=5,\n",
    "        popup=label,\n",
    "        color='blue',\n",
    "        fill=True,\n",
    "        fill_color='#ffffff',\n",
    "        fill_opacity=0.7,\n",
    "        parse_html=False).add_to(map_ny)  \n",
    "    \n",
    "map_ny"
   ]
  }
 ]
}