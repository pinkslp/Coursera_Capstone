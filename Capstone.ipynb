{
 "metadata": {
  "language_info": {
   "codemirror_mode": {
    "name": "ipython",
    "version": 3
   },
   "file_extension": ".py",
   "mimetype": "text/x-python",
   "name": "python",
   "nbconvert_exporter": "python",
   "pygments_lexer": "ipython3",
   "version": "3.9.5"
  },
  "orig_nbformat": 4,
  "kernelspec": {
   "name": "python3",
   "display_name": "Python 3.9.5 64-bit"
  },
  "interpreter": {
   "hash": "aee8b7b246df8f9039afb4144a1f6fd8d2ca17a180786b69acc140d282b71a49"
  }
 },
 "nbformat": 4,
 "nbformat_minor": 2,
 "cells": [
  {
   "source": [
    "# Coursera Capstone Project\n",
    "# Name: Shreyas Iyengar\n",
    "# Occupation: Student\n",
    "\n",
    "## This Notebook will be used for all of the Capstone Assignments, and will use markdown to organize the sections based on each week, and then subsections for each week.\n",
    "\n",
    "\n",
    "\n",
    "\n",
    "\n"
   ],
   "cell_type": "markdown",
   "metadata": {}
  },
  {
   "source": [
    "## Week 1: Capstone Project Notebook\n",
    "### This week, we have to create a notebook, with our name, and the title \"Cousera Capstone Project\". This will also include importing pandas and numpy, and then finally printing \"Hello Capstone Project Course\". \n",
    "\n",
    "### For ease of use, I have included the import statements at the top of the notebook as I will be using the import statements in other sections of the notebook. ###\n"
   ],
   "cell_type": "markdown",
   "metadata": {}
  },
  {
   "cell_type": "code",
   "execution_count": null,
   "metadata": {},
   "outputs": [],
   "source": [
    "print(\"Hello Capstone Project Course\")"
   ]
  },
  {
   "cell_type": "code",
   "execution_count": 32,
   "metadata": {},
   "outputs": [],
   "source": [
    "import pandas as pd \n",
    "import numpy as np \n",
    "\n",
    "from bs4 import BeautifulSoup\n",
    "import requests \n",
    "\n",
    "import geocoder \n",
    "import folium\n",
    "from geopy.geocoders import Nominatim\n",
    "\n",
    "pd.set_option('display.max_columns', None)\n",
    "pd.set_option('display.max_rows', None)\n",
    "\n",
    "import matplotlib.cm as cm\n",
    "import matplotlib.colors as colors\n",
    "\n",
    "from sklearn.cluster import KMeans\n",
    "\n",
    "\n"
   ]
  },
  {
   "source": [
    "## Week 3: Segmenting and Clustering Neighborhoods in Toronto\n",
    "### Following the lab where we had to work with the New York Neighborhoods and create an clustering analysis based on the venues in each neighborhood, we have to replicate the same idea using the city of Toronto, with some added stuff, including some webscraping to grab the data and then further data wrangling and cleaning to suit our purposes. For this assignment, I followed the analysis that we tried to do with the New York data, which was clustering based on most common venues in the area. That is replicated below."
   ],
   "cell_type": "markdown",
   "metadata": {}
  },
  {
   "source": [
    "#### Here we are trying to grab the data from the wikipedia page of postal codes in Canada, mader easier by the fact that postal codes in Toronto start with the letter M."
   ],
   "cell_type": "markdown",
   "metadata": {}
  },
  {
   "cell_type": "code",
   "execution_count": null,
   "metadata": {
    "tags": []
   },
   "outputs": [],
   "source": [
    "#grab URL and store it in a URL variable\n",
    "URL = \"https://en.wikipedia.org/wiki/List_of_postal_codes_of_Canada:_M\"\n",
    "\n",
    "#obtain raw html\n",
    "r = requests.get(URL)\n",
    "#parse into beautifulsoup \n",
    "soup = BeautifulSoup(r.content) \n",
    "#find required content\n",
    "table = soup.findAll('table',attrs ={'rules':'all','cellspacing':0,}) \n",
    "#convert to text\n",
    "a = table[0].text\n",
    "\n",
    "\"\"\"\n",
    "beautiful soup text has a lot of newlines. split by new line, and then run through\n",
    "the rest of the code to remove the newline and replace it with an empty char\n",
    "\"\"\"\n",
    "b = a.split(\"\\n\")\n",
    "for word in b:\n",
    "    word.replace(\"\\n\", \"\")\n",
    "    word.replace(\"\\n\", \"\")\n",
    "    word.replace(\"\\n\", \"\")\n",
    "#create a list\n",
    "c = []\n",
    "#now only add stuff that isn't an empty char or does not contain Not Assigned\n",
    "for word in b:\n",
    "    if \"Not assigned\" not in word and word != \"\":\n",
    "        c.append(word)\n",
    "#create a new table to store results\n",
    "table_contents=[]\n",
    "\n",
    "for word in c:\n",
    "    #dict to store values for each neighborhood\n",
    "    cell = {}\n",
    "    #Since each postal code is 3 digits, go till the third digit and set it as the postal code value\n",
    "    cell['Postal Code'] = word[:3]\n",
    "    #set a temp variable equal to the rest of the word, which has the borough and the neighborhood\n",
    "    temp = word.replace(word[:3], '')\n",
    "    #split by the parenthesis, and grab the first half which is the borough, set it to the borough of the cell\n",
    "    cell['Borough'] = temp.split('(')[0]\n",
    "    #same logic for the neighborhood, just strip all the uneeded characters\n",
    "    cell['Neighborhood'] = (((((temp).split('(')[1]).strip(')')).replace(' /',',')).replace(')',' ')).strip(' ')\n",
    "    #append the dict to the table\n",
    "    table_contents.append(cell)\n",
    "#convert to df\n",
    "df=pd.DataFrame(table_contents)\n",
    "#handle special cases\n",
    "df['Borough']=df['Borough'].replace({'Downtown TorontoStn A PO Boxes25 The Esplanade':'Downtown Toronto Stn A',\n",
    "                                             'East TorontoBusiness reply mail Processing Centre969 Eastern':'East Toronto Business',\n",
    "                                             'EtobicokeNorthwest':'Etobicoke Northwest','East YorkEast Toronto':'East York/East Toronto',\n",
    "                                             'MississaugaCanada Post Gateway Processing Centre':'Mississauga'})\n",
    "\n",
    "    \n",
    "    \n",
    "    "
   ]
  },
  {
   "cell_type": "code",
   "execution_count": null,
   "metadata": {},
   "outputs": [],
   "source": [
    "#print the shape \n",
    "df.shape"
   ]
  },
  {
   "cell_type": "code",
   "execution_count": null,
   "metadata": {},
   "outputs": [],
   "source": [
    "\n",
    "df.head()"
   ]
  },
  {
   "source": [
    "#### Couldn't get the geocoder package to work, so I used the Geospatial dataset to grab the Latitude and Longitude for each neighborhood\n"
   ],
   "cell_type": "markdown",
   "metadata": {}
  },
  {
   "cell_type": "code",
   "execution_count": null,
   "metadata": {},
   "outputs": [],
   "source": [
    "f = open(\"/Users/shreyasiyengar/VSC/Coursera_Capstone/Geospatial_Coordinates.csv\", \"r\")\n",
    "df2 = pd.read_csv(\"/Users/shreyasiyengar/VSC/Coursera_Capstone/Geospatial_Coordinates.csv\",\",\",header = 0)\n",
    "df2.head()\n",
    "\n",
    "\n"
   ]
  },
  {
   "cell_type": "code",
   "execution_count": null,
   "metadata": {},
   "outputs": [],
   "source": [
    "df.head()"
   ]
  },
  {
   "source": [
    "#### Here I merged df, which had the postal code borough and neighborhood with df2 which contained the Lat and Long coordinates of each postal code."
   ],
   "cell_type": "markdown",
   "metadata": {}
  },
  {
   "cell_type": "code",
   "execution_count": null,
   "metadata": {},
   "outputs": [],
   "source": [
    "result = pd.merge(df, df2[['Postal Code', 'Latitude', 'Longitude']], )\n",
    "result"
   ]
  },
  {
   "source": [
    "#### Here we're grabbing the coordinates of the city of Toronto to generate the base map upon which we will overlay the neighborhoods and clusters."
   ],
   "cell_type": "markdown",
   "metadata": {}
  },
  {
   "cell_type": "code",
   "execution_count": null,
   "metadata": {},
   "outputs": [],
   "source": [
    "address = 'Toronto, ON'\n",
    "\n",
    "geolocator = Nominatim(user_agent=\"trawno_explorer\")\n",
    "location = geolocator.geocode(address)\n",
    "latitude = location.latitude\n",
    "longitude = location.longitude\n",
    "print('The geograpical coordinates of Toronto are {}, {}.'.format(latitude, longitude))\n"
   ]
  },
  {
   "source": [
    "#### Below we are printing the base map with each neighborhood marked in red and white"
   ],
   "cell_type": "markdown",
   "metadata": {}
  },
  {
   "cell_type": "code",
   "execution_count": null,
   "metadata": {},
   "outputs": [],
   "source": [
    "map_trawno = folium.Map(location=[latitude, longitude], zoom_start=10)\n",
    "\n",
    "# add markers to map\n",
    "for lat, lng, borough, neighborhood in zip(result['Latitude'], result['Longitude'], result['Borough'], result['Neighborhood']):\n",
    "    label = '{}, {}'.format(neighborhood, borough)\n",
    "    label = folium.Popup(label, parse_html=True)\n",
    "    folium.CircleMarker(\n",
    "        [lat, lng],\n",
    "        radius=5,\n",
    "        popup=label,\n",
    "        color='red',\n",
    "        fill=True,\n",
    "        fill_color='#ffffff',\n",
    "        fill_opacity=0.7,\n",
    "        parse_html=False).add_to(map_trawno)  \n",
    "    \n",
    "map_trawno"
   ]
  },
  {
   "source": [
    "#### This cell is for prepping for using the Foursquare places API"
   ],
   "cell_type": "markdown",
   "metadata": {}
  },
  {
   "cell_type": "code",
   "execution_count": null,
   "metadata": {},
   "outputs": [],
   "source": [
    "CLIENT_ID = 'KOGTV4EAQCBU054ZKLCRMAINCATFAHUJWLHPTAUZ4A3N33SG' # your Foursquare ID\n",
    "CLIENT_SECRET = '4UAMZ5NN21XIQHRK0MRSJ20TYYMF5MABJLQAQEDLRLEPTWGA' # your Foursquare Secret\n",
    "VERSION = '20180605' # Foursquare API version\n",
    "LIMIT = 100 # A default Foursquare API limit value\n",
    "\n",
    "print('Your credentials:')\n",
    "print('CLIENT_ID: ' + CLIENT_ID)\n",
    "print('CLIENT_SECRET:' + CLIENT_SECRET)"
   ]
  },
  {
   "cell_type": "code",
   "execution_count": null,
   "metadata": {},
   "outputs": [],
   "source": [
    "#### The following code, following the New York Lab, gets the nearby venues for a neighborhood using the lat-long, we then use this function to grab the nearby venues for each neighborhood in our dataset."
   ]
  },
  {
   "cell_type": "code",
   "execution_count": null,
   "metadata": {},
   "outputs": [],
   "source": [
    "def getNearbyVenues(names, latitudes, longitudes, radius=500):\n",
    "    \n",
    "    venues_list=[]\n",
    "    for name, lat, lng in zip(names, latitudes, longitudes):\n",
    "        print(name)\n",
    "            \n",
    "        # create the API request URL\n",
    "        url = 'https://api.foursquare.com/v2/venues/explore?&client_id={}&client_secret={}&v={}&ll={},{}&radius={}&limit={}'.format(\n",
    "            CLIENT_ID, \n",
    "            CLIENT_SECRET, \n",
    "            VERSION, \n",
    "            lat, \n",
    "            lng, \n",
    "            radius, \n",
    "            LIMIT)\n",
    "            \n",
    "        # make the GET request\n",
    "        results = requests.get(url).json()[\"response\"]['groups'][0]['items']\n",
    "        \n",
    "        # return only relevant information for each nearby venue\n",
    "        venues_list.append([(\n",
    "            name, \n",
    "            lat, \n",
    "            lng, \n",
    "            v['venue']['name'], \n",
    "            v['venue']['location']['lat'], \n",
    "            v['venue']['location']['lng'],  \n",
    "            v['venue']['categories'][0]['name']) for v in results])\n",
    "\n",
    "    nearby_venues = pd.DataFrame([item for venue_list in venues_list for item in venue_list])\n",
    "    nearby_venues.columns = ['Neighborhood', \n",
    "                  'Neighborhood Latitude', \n",
    "                  'Neighborhood Longitude', \n",
    "                  'Venue', \n",
    "                  'Venue Latitude', \n",
    "                  'Venue Longitude', \n",
    "                  'Venue Category']\n",
    "    \n",
    "    return(nearby_venues)"
   ]
  },
  {
   "source": [
    "#### All the nearby venues for each neighboorhood are stored in trawno_venues, and the name of each neighborhood is pritned out."
   ],
   "cell_type": "markdown",
   "metadata": {}
  },
  {
   "cell_type": "code",
   "execution_count": null,
   "metadata": {},
   "outputs": [],
   "source": [
    "trawno_venues = getNearbyVenues(names=result['Neighborhood'],\n",
    "                                   latitudes= result['Latitude'],\n",
    "                                   longitudes=result['Longitude']\n",
    "                                  )"
   ]
  },
  {
   "cell_type": "code",
   "execution_count": null,
   "metadata": {},
   "outputs": [],
   "source": [
    "trawno_venues.head()"
   ]
  },
  {
   "cell_type": "code",
   "execution_count": null,
   "metadata": {},
   "outputs": [],
   "source": [
    "print('There are {} unique categories.'.format(len(trawno_venues['Venue Category'].unique())))"
   ]
  },
  {
   "source": [
    "#### One Hot encoding for later grouping by mean."
   ],
   "cell_type": "markdown",
   "metadata": {}
  },
  {
   "cell_type": "code",
   "execution_count": null,
   "metadata": {},
   "outputs": [],
   "source": [
    "# one hot encoding\n",
    "trawno_onehot = pd.get_dummies(trawno_venues[['Venue Category']], prefix=\"\", prefix_sep=\"\")\n",
    "\n",
    "# add neighborhood column back to dataframe\n",
    "trawno_onehot['Neighborhood'] = trawno_venues['Neighborhood'] \n",
    "\n",
    "# move neighborhood column to the first column\n",
    "fixed_columns = [trawno_onehot.columns[-1]] + list(trawno_onehot.columns[:-1])\n",
    "trawno_onehot = trawno_onehot[fixed_columns]\n",
    "\n",
    "trawno_onehot.head()"
   ]
  },
  {
   "cell_type": "code",
   "execution_count": null,
   "metadata": {},
   "outputs": [],
   "source": [
    "trawno_grouped = trawno_onehot.groupby('Neighborhood').mean().reset_index()\n",
    "trawno_grouped"
   ]
  },
  {
   "source": [
    "#### the code below grabs the top 5 venues for each neighborhood and prints the frequency of each venue "
   ],
   "cell_type": "markdown",
   "metadata": {}
  },
  {
   "cell_type": "code",
   "execution_count": null,
   "metadata": {
    "tags": [
     "outputPrepend"
    ]
   },
   "outputs": [],
   "source": [
    "num_top_venues = 5\n",
    "\n",
    "for hood in trawno_grouped['Neighborhood']:\n",
    "    print(\"----\"+hood+\"----\")\n",
    "    temp = trawno_grouped[trawno_grouped['Neighborhood'] == hood].T.reset_index()\n",
    "    temp.columns = ['venue','freq']\n",
    "    temp = temp.iloc[1:]\n",
    "    temp['freq'] = temp['freq'].astype(float)\n",
    "    temp = temp.round({'freq': 2})\n",
    "    print(temp.sort_values('freq', ascending=False).reset_index(drop=True).head(num_top_venues))\n",
    "    print('\\n')"
   ]
  },
  {
   "source": [
    "#### Grab the most common venues, limit by 10."
   ],
   "cell_type": "markdown",
   "metadata": {}
  },
  {
   "cell_type": "code",
   "execution_count": null,
   "metadata": {},
   "outputs": [],
   "source": [
    "def return_most_common_venues(row, num_top_venues):\n",
    "    row_categories = row.iloc[1:]\n",
    "    row_categories_sorted = row_categories.sort_values(ascending=False)\n",
    "    \n",
    "    return row_categories_sorted.index.values[0:num_top_venues]"
   ]
  },
  {
   "cell_type": "code",
   "execution_count": null,
   "metadata": {},
   "outputs": [],
   "source": [
    "num_top_venues = 10\n",
    "\n",
    "indicators = ['st', 'nd', 'rd']\n",
    "\n",
    "# create columns according to number of top venues\n",
    "columns = ['Neighborhood']\n",
    "for ind in np.arange(num_top_venues):\n",
    "    try:\n",
    "        columns.append('{}{} Most Common Venue'.format(ind+1, indicators[ind]))\n",
    "    except:\n",
    "        columns.append('{}th Most Common Venue'.format(ind+1))\n",
    "\n",
    "# create a new dataframe\n",
    "neighborhoods_venues_sorted = pd.DataFrame(columns=columns)\n",
    "neighborhoods_venues_sorted['Neighborhood'] = trawno_grouped['Neighborhood']\n",
    "\n",
    "for ind in np.arange(trawno_grouped.shape[0]):\n",
    "    neighborhoods_venues_sorted.iloc[ind, 1:] = return_most_common_venues(trawno_grouped.iloc[ind, :], num_top_venues)\n",
    "\n",
    "neighborhoods_venues_sorted.head()"
   ]
  },
  {
   "source": [
    "#### Clustering Analysis"
   ],
   "cell_type": "markdown",
   "metadata": {}
  },
  {
   "cell_type": "code",
   "execution_count": null,
   "metadata": {},
   "outputs": [],
   "source": [
    "# set number of clusters\n",
    "kclusters = 5\n",
    "\n",
    "trawno_grouped_clustering = trawno_grouped.drop('Neighborhood', 1)\n",
    "\n",
    "# run k-means clustering\n",
    "kmeans = KMeans(n_clusters=kclusters, random_state=0).fit(trawno_grouped_clustering)\n",
    "\n",
    "# check cluster labels generated for each row in the dataframe\n",
    "kmeans.labels_[0:10] "
   ]
  },
  {
   "cell_type": "code",
   "execution_count": null,
   "metadata": {},
   "outputs": [],
   "source": [
    "# add clustering labels\n",
    "neighborhoods_venues_sorted.insert(0, 'Cluster Labels', kmeans.labels_)\n",
    "\n",
    "trawno_merged = result\n",
    "\n",
    "# merge trawno_grouped with trawno_data to add latitude/longitude for each neighborhood\n",
    "trawno_merged = trawno_merged.join(neighborhoods_venues_sorted.set_index('Neighborhood'), on='Neighborhood')\n",
    "\n",
    "trawno_merged.head() # check the last columns!"
   ]
  },
  {
   "cell_type": "code",
   "execution_count": null,
   "metadata": {},
   "outputs": [],
   "source": [
    "#For some reason the Cluster Labels are converted to float which won't work with the mapping,so convert to ints.\n",
    "trawno_merged['Cluster Labels'] = trawno_merged['Cluster Labels'].fillna(0.0).astype(int)\n",
    "trawno_merged.head()\n",
    "\n",
    "\n",
    "\n",
    "\n",
    "\n",
    "\n",
    "\n"
   ]
  },
  {
   "source": [
    "#### Map out each Cluster."
   ],
   "cell_type": "markdown",
   "metadata": {}
  },
  {
   "cell_type": "code",
   "execution_count": null,
   "metadata": {},
   "outputs": [],
   "source": [
    "# create map\n",
    "map_clusters = folium.Map(location=[latitude, longitude], zoom_start=11)\n",
    "\n",
    "\n",
    "# set color scheme for the clusters\n",
    "x = np.arange(kclusters)\n",
    "ys = [i + x + (i*x)**2 for i in range(kclusters)]\n",
    "colors_array = cm.rainbow(np.linspace(0, 1, len(ys)))\n",
    "rainbow = [colors.rgb2hex(i) for i in colors_array]\n",
    "\n",
    "# add markers to the map\n",
    "markers_colors = []\n",
    "for lat, lon, poi, cluster in zip(trawno_merged['Latitude'], trawno_merged['Longitude'], trawno_merged['Neighborhood'], trawno_merged['Cluster Labels']):\n",
    "    label = folium.Popup(str(poi) + ' Cluster ' + str(cluster), parse_html=True)\n",
    "    folium.CircleMarker(\n",
    "        [lat, lon],\n",
    "        radius=5,\n",
    "        popup=label,\n",
    "        color=rainbow[cluster-1],\n",
    "        fill=True,\n",
    "        fill_color=rainbow[cluster-1],\n",
    "        fill_opacity=0.7).add_to(map_clusters)\n",
    "       \n",
    "map_clusters"
   ]
  },
  {
   "cell_type": "code",
   "execution_count": null,
   "metadata": {},
   "outputs": [],
   "source": [
    "trawno_merged.loc[trawno_merged['Cluster Labels'] == 0, trawno_merged.columns[[1] + list(range(5, trawno_merged.shape[1]))]]\n",
    "\n",
    "\n"
   ]
  },
  {
   "cell_type": "code",
   "execution_count": null,
   "metadata": {},
   "outputs": [],
   "source": [
    "trawno_merged.loc[trawno_merged['Cluster Labels'] == 1, trawno_merged.columns[[1] + list(range(5, trawno_merged.shape[1]))]]\n"
   ]
  },
  {
   "cell_type": "code",
   "execution_count": null,
   "metadata": {},
   "outputs": [],
   "source": [
    "trawno_merged.loc[trawno_merged['Cluster Labels'] == 2, trawno_merged.columns[[1] + list(range(5, trawno_merged.shape[1]))]]\n"
   ]
  },
  {
   "cell_type": "code",
   "execution_count": null,
   "metadata": {},
   "outputs": [],
   "source": [
    "trawno_merged.loc[trawno_merged['Cluster Labels'] == 3, trawno_merged.columns[[1] + list(range(5, trawno_merged.shape[1]))]]\n"
   ]
  },
  {
   "cell_type": "code",
   "execution_count": null,
   "metadata": {},
   "outputs": [],
   "source": [
    "trawno_merged.loc[trawno_merged['Cluster Labels'] == 4, trawno_merged.columns[[1] + list(range(5, trawno_merged.shape[1]))]]\n"
   ]
  },
  {
   "source": [
    "## Cluster Data Analysis\n",
    "\n",
    "Cluster 0: Most likely very dense, very people focused areas, as there are a lot of food joints, restaurants and cafes in the area, and not a lot of parks in many neighborhoods, implying that there isn't a lot of space for parks.\n",
    "\n",
    "Cluster 1: Maybe a lot of immigrants, considering that there are a lot of mexican and middle eastern restaurants in the area. Might also not be as dense as cluster 0, considering there are a lot more parks than food destinations in the area.\n",
    "\n",
    "Cluster 2: Seems further away from city center, as there are more parks and trails, and some of these neighborhoods might be closer to the airports seeing as there is an airport as a venue in one of the boroughs.\n",
    "\n",
    "Cluster 3: Maybe more suburban as it has more variety in venues, as well as more pools, baseball fields, and a variety of services and restaurants\n",
    "\n",
    "Cluster 4: Not really sure about the distinguishing feature in this cluster, but I would assume that this is in a more dense area, becasue of the restuaruants and the gyms in the area. "
   ],
   "cell_type": "markdown",
   "metadata": {}
  },
  {
   "source": [
    "##"
   ],
   "cell_type": "markdown",
   "metadata": {}
  },
  {
   "source": [
    "## Week 4 and 5 Capstone Project - The Battle of Neighborhoods\n",
    "\n",
    "### For this project, I want to find out which city, New York City or Toronto, is more vegan friendly, so that I can recommend one over the other as a better travel destination for my fictional travel agenecy business.\n"
   ],
   "cell_type": "markdown",
   "metadata": {}
  },
  {
   "source": [
    "### Firstly, we need to make a table for New York and Toronto, which contains the Neighborhoods of each city, the postal codes/zip codes, borough, and the Lat-Long coordinates for each neighborhood.\n",
    "\n"
   ],
   "cell_type": "markdown",
   "metadata": {}
  },
  {
   "cell_type": "code",
   "execution_count": 34,
   "metadata": {
    "tags": []
   },
   "outputs": [
    {
     "output_type": "stream",
     "name": "stdout",
     "text": [
      "https://cf-courses-data.s3.us.cloud-object-storage.appdomain.cloud/IBMDeveloperSkillsNetwork-DS0701EN-SkillsNetwork/labs/newyork_data.json\n"
     ]
    },
    {
     "output_type": "execute_result",
     "data": {
      "text/plain": [
       "  Borough Neighborhood   Latitude  Longitude\n",
       "0   Bronx    Wakefield  40.894705 -73.847201\n",
       "1   Bronx   Co-op City  40.874294 -73.829939\n",
       "2   Bronx  Eastchester  40.887556 -73.827806\n",
       "3   Bronx    Fieldston  40.895437 -73.905643\n",
       "4   Bronx    Riverdale  40.890834 -73.912585"
      ],
      "text/html": "<div>\n<style scoped>\n    .dataframe tbody tr th:only-of-type {\n        vertical-align: middle;\n    }\n\n    .dataframe tbody tr th {\n        vertical-align: top;\n    }\n\n    .dataframe thead th {\n        text-align: right;\n    }\n</style>\n<table border=\"1\" class=\"dataframe\">\n  <thead>\n    <tr style=\"text-align: right;\">\n      <th></th>\n      <th>Borough</th>\n      <th>Neighborhood</th>\n      <th>Latitude</th>\n      <th>Longitude</th>\n    </tr>\n  </thead>\n  <tbody>\n    <tr>\n      <th>0</th>\n      <td>Bronx</td>\n      <td>Wakefield</td>\n      <td>40.894705</td>\n      <td>-73.847201</td>\n    </tr>\n    <tr>\n      <th>1</th>\n      <td>Bronx</td>\n      <td>Co-op City</td>\n      <td>40.874294</td>\n      <td>-73.829939</td>\n    </tr>\n    <tr>\n      <th>2</th>\n      <td>Bronx</td>\n      <td>Eastchester</td>\n      <td>40.887556</td>\n      <td>-73.827806</td>\n    </tr>\n    <tr>\n      <th>3</th>\n      <td>Bronx</td>\n      <td>Fieldston</td>\n      <td>40.895437</td>\n      <td>-73.905643</td>\n    </tr>\n    <tr>\n      <th>4</th>\n      <td>Bronx</td>\n      <td>Riverdale</td>\n      <td>40.890834</td>\n      <td>-73.912585</td>\n    </tr>\n  </tbody>\n</table>\n</div>"
     },
     "metadata": {},
     "execution_count": 34
    }
   ],
   "source": [
    "#New York\n",
    "\n",
    "# #grab URL and store it in a URL variable\n",
    "NURL = \"https://cf-courses-data.s3.us.cloud-object-storage.appdomain.cloud/IBMDeveloperSkillsNetwork-DS0701EN-SkillsNetwork/labs/newyork_data.json\"\n",
    "\n",
    "print(NURL)\n",
    "\n",
    "# #obtain raw html\n",
    "nyr = requests.get(NURL).json()\n",
    "\n",
    "nydata = nyr[\"features\"]\n",
    "\n",
    "# define the dataframe columns\n",
    "column_names = ['Borough', 'Neighborhood', 'Latitude', 'Longitude'] \n",
    "\n",
    "# instantiate the dataframe\n",
    "nyneigh = pd.DataFrame(columns=column_names)    \n",
    "\n",
    "for data in nydata:\n",
    "    borough = neighborhood_name = data['properties']['borough'] \n",
    "    neighborhood_name = data['properties']['name']\n",
    "        \n",
    "    neighborhood_latlon = data['geometry']['coordinates']\n",
    "    neighborhood_lat = neighborhood_latlon[1]\n",
    "    neighborhood_lon = neighborhood_latlon[0]\n",
    "    \n",
    "    nyneigh = nyneigh.append({'Borough': borough,\n",
    "                                          'Neighborhood': neighborhood_name,\n",
    "                                          'Latitude': neighborhood_lat,\n",
    "                                          'Longitude': neighborhood_lon}, ignore_index=True)\n",
    "\n",
    "nyneigh.head()\n"
   ]
  },
  {
   "cell_type": "code",
   "execution_count": 35,
   "metadata": {},
   "outputs": [
    {
     "output_type": "stream",
     "name": "stderr",
     "text": [
      "/Users/shreyasiyengar/Library/Python/3.9/lib/python/site-packages/IPython/core/interactiveshell.py:3441: FutureWarning: In a future version of pandas all arguments of read_csv except for the argument 'filepath_or_buffer' will be keyword-only\n  exec(code_obj, self.user_global_ns, self.user_ns)\n"
     ]
    },
    {
     "output_type": "execute_result",
     "data": {
      "text/plain": [
       "  Postal Code           Borough                      Neighborhood   Latitude  \\\n",
       "0         M3A        North York                         Parkwoods  43.753259   \n",
       "1         M4A        North York                  Victoria Village  43.725882   \n",
       "2         M5A  Downtown Toronto         Regent Park, Harbourfront  43.654260   \n",
       "3         M6A        North York  Lawrence Manor, Lawrence Heights  43.718518   \n",
       "4         M7A      Queen's Park     Ontario Provincial Government  43.662301   \n",
       "\n",
       "   Longitude  \n",
       "0 -79.329656  \n",
       "1 -79.315572  \n",
       "2 -79.360636  \n",
       "3 -79.464763  \n",
       "4 -79.389494  "
      ],
      "text/html": "<div>\n<style scoped>\n    .dataframe tbody tr th:only-of-type {\n        vertical-align: middle;\n    }\n\n    .dataframe tbody tr th {\n        vertical-align: top;\n    }\n\n    .dataframe thead th {\n        text-align: right;\n    }\n</style>\n<table border=\"1\" class=\"dataframe\">\n  <thead>\n    <tr style=\"text-align: right;\">\n      <th></th>\n      <th>Postal Code</th>\n      <th>Borough</th>\n      <th>Neighborhood</th>\n      <th>Latitude</th>\n      <th>Longitude</th>\n    </tr>\n  </thead>\n  <tbody>\n    <tr>\n      <th>0</th>\n      <td>M3A</td>\n      <td>North York</td>\n      <td>Parkwoods</td>\n      <td>43.753259</td>\n      <td>-79.329656</td>\n    </tr>\n    <tr>\n      <th>1</th>\n      <td>M4A</td>\n      <td>North York</td>\n      <td>Victoria Village</td>\n      <td>43.725882</td>\n      <td>-79.315572</td>\n    </tr>\n    <tr>\n      <th>2</th>\n      <td>M5A</td>\n      <td>Downtown Toronto</td>\n      <td>Regent Park, Harbourfront</td>\n      <td>43.654260</td>\n      <td>-79.360636</td>\n    </tr>\n    <tr>\n      <th>3</th>\n      <td>M6A</td>\n      <td>North York</td>\n      <td>Lawrence Manor, Lawrence Heights</td>\n      <td>43.718518</td>\n      <td>-79.464763</td>\n    </tr>\n    <tr>\n      <th>4</th>\n      <td>M7A</td>\n      <td>Queen's Park</td>\n      <td>Ontario Provincial Government</td>\n      <td>43.662301</td>\n      <td>-79.389494</td>\n    </tr>\n  </tbody>\n</table>\n</div>"
     },
     "metadata": {},
     "execution_count": 35
    }
   ],
   "source": [
    "#toronto\n",
    "\n",
    "#grab URL and store it in a URL variable\n",
    "URL = \"https://en.wikipedia.org/wiki/List_of_postal_codes_of_Canada:_M\"\n",
    "\n",
    "#obtain raw html\n",
    "r = requests.get(URL)\n",
    "#parse into beautifulsoup \n",
    "soup = BeautifulSoup(r.content) \n",
    "#find required content\n",
    "table = soup.findAll('table',attrs ={'rules':'all','cellspacing':0,}) \n",
    "#convert to text\n",
    "a = table[0].text\n",
    "\n",
    "\"\"\"\n",
    "beautiful soup text has a lot of newlines. split by new line, and then run through\n",
    "the rest of the code to remove the newline and replace it with an empty char\n",
    "\"\"\"\n",
    "b = a.split(\"\\n\")\n",
    "for word in b:\n",
    "    word.replace(\"\\n\", \"\")\n",
    "    word.replace(\"\\n\", \"\")\n",
    "    word.replace(\"\\n\", \"\")\n",
    "#create a list\n",
    "c = []\n",
    "#now only add stuff that isn't an empty char or does not contain Not Assigned\n",
    "for word in b:\n",
    "    if \"Not assigned\" not in word and word != \"\":\n",
    "        c.append(word)\n",
    "#create a new table to store results\n",
    "table_contents=[]\n",
    "\n",
    "for word in c:\n",
    "    #dict to store values for each neighborhood\n",
    "    cell = {}\n",
    "    #Since each postal code is 3 digits, go till the third digit and set it as the postal code value\n",
    "    cell['Postal Code'] = word[:3]\n",
    "    #set a temp variable equal to the rest of the word, which has the borough and the neighborhood\n",
    "    temp = word.replace(word[:3], '')\n",
    "    #split by the parenthesis, and grab the first half which is the borough, set it to the borough of the cell\n",
    "    cell['Borough'] = temp.split('(')[0]\n",
    "    #same logic for the neighborhood, just strip all the uneeded characters\n",
    "    cell['Neighborhood'] = (((((temp).split('(')[1]).strip(')')).replace(' /',',')).replace(')',' ')).strip(' ')\n",
    "    #append the dict to the table\n",
    "    table_contents.append(cell)\n",
    "#convert to trawneigh\n",
    "trawneigh=pd.DataFrame(table_contents)\n",
    "#handle special cases\n",
    "trawneigh['Borough']=trawneigh['Borough'].replace({'Downtown TorontoStn A PO Boxes25 The Esplanade':'Downtown Toronto Stn A',\n",
    "                                             'East TorontoBusiness reply mail Processing Centre969 Eastern':'East Toronto Business',\n",
    "                                             'EtobicokeNorthwest':'Etobicoke Northwest','East YorkEast Toronto':'East York/East Toronto',\n",
    "                                             'MississaugaCanada Post Gateway Processing Centre':'Mississauga'})\n",
    "\n",
    "f = open(\"/Users/shreyasiyengar/VSC/Coursera_Capstone/Geospatial_Coordinates.csv\", \"r\")\n",
    "trawnocoords = pd.read_csv(\"/Users/shreyasiyengar/VSC/Coursera_Capstone/Geospatial_Coordinates.csv\",\",\",header = 0)\n",
    "\n",
    "\n",
    "\n",
    "trawneigh.head()\n",
    "    \n",
    "trawneigh = pd.merge(trawneigh, trawnocoords[['Postal Code', 'Latitude', 'Longitude']], )\n",
    "trawneigh.head()\n",
    "    "
   ]
  },
  {
   "source": [
    "### Now that we have the neighborhood tables for NYC and Toronto, we need to grab the foursquare venue tables for each city."
   ],
   "cell_type": "markdown",
   "metadata": {}
  },
  {
   "source": [
    "#### Foursquare Credential Prep"
   ],
   "cell_type": "markdown",
   "metadata": {}
  },
  {
   "cell_type": "code",
   "execution_count": 36,
   "metadata": {},
   "outputs": [
    {
     "output_type": "stream",
     "name": "stdout",
     "text": [
      "Your credentials:\nCLIENT_ID: KOGTV4EAQCBU054ZKLCRMAINCATFAHUJWLHPTAUZ4A3N33SG\nCLIENT_SECRET:4UAMZ5NN21XIQHRK0MRSJ20TYYMF5MABJLQAQEDLRLEPTWGA\n"
     ]
    }
   ],
   "source": [
    "\n",
    "CLIENT_ID = 'KOGTV4EAQCBU054ZKLCRMAINCATFAHUJWLHPTAUZ4A3N33SG' # your Foursquare ID\n",
    "CLIENT_SECRET = '4UAMZ5NN21XIQHRK0MRSJ20TYYMF5MABJLQAQEDLRLEPTWGA' # your Foursquare Secret\n",
    "VERSION = '20180605' # Foursquare API version\n",
    "LIMIT = 100 # A default Foursquare API limit value\n",
    "\n",
    "print('Your credentials:')\n",
    "print('CLIENT_ID: ' + CLIENT_ID)\n",
    "print('CLIENT_SECRET:' + CLIENT_SECRET)"
   ]
  },
  {
   "source": [
    "#### The following code, following the New York Lab, gets the nearby venues for a neighborhood using the lat-long, we then use this function to grab the nearby venues for each neighborhood in our dataset."
   ],
   "cell_type": "markdown",
   "metadata": {}
  },
  {
   "cell_type": "code",
   "execution_count": 37,
   "metadata": {},
   "outputs": [],
   "source": [
    "def getNearbyVenues(names, latitudes, longitudes, radius=500):\n",
    "    \n",
    "    venues_list=[]\n",
    "    for name, lat, lng in zip(names, latitudes, longitudes):\n",
    "        print(name)\n",
    "            \n",
    "        # create the API request URL\n",
    "        url = 'https://api.foursquare.com/v2/venues/explore?&client_id={}&client_secret={}&v={}&ll={},{}&radius={}&limit={}'.format(\n",
    "            CLIENT_ID, \n",
    "            CLIENT_SECRET, \n",
    "            VERSION, \n",
    "            lat, \n",
    "            lng, \n",
    "            radius, \n",
    "            LIMIT)\n",
    "            \n",
    "        # make the GET request\n",
    "        results = requests.get(url).json()[\"response\"]['groups'][0]['items']\n",
    "        \n",
    "        # return only relevant information for each nearby venue\n",
    "        venues_list.append([(\n",
    "            name, \n",
    "            lat, \n",
    "            lng, \n",
    "            v['venue']['name'], \n",
    "            v['venue']['location']['lat'], \n",
    "            v['venue']['location']['lng'],  \n",
    "            v['venue']['categories'][0]['name']) for v in results])\n",
    "\n",
    "    nearby_venues = pd.DataFrame([item for venue_list in venues_list for item in venue_list])\n",
    "    nearby_venues.columns = ['Neighborhood', \n",
    "                  'Neighborhood Latitude', \n",
    "                  'Neighborhood Longitude', \n",
    "                  'Venue', \n",
    "                  'Venue Latitude', \n",
    "                  'Venue Longitude', \n",
    "                  'Venue Category']\n",
    "    \n",
    "    return(nearby_venues)\n",
    "\n",
    "    "
   ]
  },
  {
   "cell_type": "code",
   "execution_count": 38,
   "metadata": {},
   "outputs": [
    {
     "output_type": "stream",
     "name": "stdout",
     "text": [
      "Parkwoods\n",
      "Victoria Village\n",
      "Regent Park, Harbourfront\n",
      "Lawrence Manor, Lawrence Heights\n",
      "Ontario Provincial Government\n",
      "Islington Avenue\n",
      "Malvern, Rouge\n",
      "Don Mills North\n",
      "Parkview Hill, Woodbine Gardens\n",
      "Garden District, Ryerson\n",
      "Glencairn\n",
      "West Deane Park, Princess Gardens, Martin Grove, Islington, Cloverdale\n",
      "Rouge Hill, Port Union, Highland Creek\n",
      "Don Mills South\n",
      "Woodbine Heights\n",
      "St. James Town\n",
      "Humewood-Cedarvale\n",
      "Eringate, Bloordale Gardens, Old Burnhamthorpe, Markland Wood\n",
      "Guildwood, Morningside, West Hill\n",
      "The Beaches\n",
      "Berczy Park\n",
      "Caledonia-Fairbanks\n",
      "Woburn\n",
      "Leaside\n",
      "Central Bay Street\n",
      "Christie\n",
      "Cedarbrae\n",
      "Hillcrest Village\n",
      "Bathurst Manor, Wilson Heights, Downsview North\n",
      "Thorncliffe Park\n",
      "Richmond, Adelaide, King\n",
      "Dufferin, Dovercourt Village\n",
      "Scarborough Village\n",
      "Fairview, Henry Farm, Oriole\n",
      "Northwood Park, York University\n",
      "The Danforth  East\n",
      "Harbourfront East, Union Station, Toronto Islands\n",
      "Little Portugal, Trinity\n",
      "Kennedy Park, Ionview, East Birchmount Park\n",
      "Bayview Village\n",
      "Downsview East\n",
      "The Danforth West, Riverdale\n",
      "Toronto Dominion Centre, Design Exchange\n",
      "Brockton, Parkdale Village, Exhibition Place\n",
      "Golden Mile, Clairlea, Oakridge\n",
      "York Mills, Silver Hills\n",
      "Downsview West\n",
      "India Bazaar, The Beaches West\n",
      "Commerce Court, Victoria Hotel\n",
      "North Park, Maple Leaf Park, Upwood Park\n",
      "Humber Summit\n",
      "Cliffside, Cliffcrest, Scarborough Village West\n",
      "Willowdale, Newtonbrook\n",
      "Downsview Central\n",
      "Studio District\n",
      "Bedford Park, Lawrence Manor East\n",
      "Del Ray, Mount Dennis, Keelsdale and Silverthorn\n",
      "Humberlea, Emery\n",
      "Birch Cliff, Cliffside West\n",
      "Willowdale South\n",
      "Downsview Northwest\n",
      "Lawrence Park\n",
      "Roselawn\n",
      "Runnymede, The Junction North\n",
      "Weston\n",
      "Dorset Park, Wexford Heights, Scarborough Town Centre\n",
      "York Mills West\n",
      "Davisville North\n",
      "Forest Hill North & West\n",
      "High Park, The Junction South\n",
      "Westmount\n",
      "Wexford, Maryvale\n",
      "Willowdale West\n",
      "North Toronto West\n",
      "The Annex, North Midtown, Yorkville\n",
      "Parkdale, Roncesvalles\n",
      "Enclave of L4W\n",
      "Kingsview Village, St. Phillips, Martin Grove Gardens, Richview Gardens\n",
      "Agincourt\n",
      "Davisville\n",
      "University of Toronto, Harbord\n",
      "Runnymede, Swansea\n",
      "Clarks Corners, Tam O'Shanter, Sullivan\n",
      "Moore Park, Summerhill East\n",
      "Kensington Market, Chinatown, Grange Park\n",
      "Milliken, Agincourt North, Steeles East, L'Amoreaux East\n",
      "Summerhill West, Rathnelly, South Hill, Forest Hill SE, Deer Park\n",
      "CN Tower, King and Spadina, Railway Lands, Harbourfront West, Bathurst Quay, South Niagara, Island airport\n",
      "New Toronto, Mimico South, Humber Bay Shores\n",
      "South Steeles, Silverstone, Humbergate, Jamestown, Mount Olive, Beaumond Heights, Thistletown, Albion Gardens\n",
      "Steeles West, L'Amoreaux West\n",
      "Rosedale\n",
      "Enclave of M5E\n",
      "Alderwood, Long Branch\n",
      "Clairville, Humberwood, Woodbine Downs, West Humber, Kipling Heights, Rexdale, Elms, Tandridge, Old Rexdale\n",
      "Upper Rouge\n",
      "St. James Town, Cabbagetown\n",
      "First Canadian Place, Underground city\n",
      "The Kingsway, Montgomery Road, Old Mill North\n",
      "Church and Wellesley\n",
      "Enclave of M4L\n",
      "Old Mill South, King's Mill Park, Sunnylea, Humber Bay, Mimico NE, The Queensway East, Royal York South East, Kingsway Park South East\n",
      "Mimico NW, The Queensway West, South of Bloor, Kingsway Park South West, Royal York South West\n",
      "Wakefield\n",
      "Co-op City\n",
      "Eastchester\n",
      "Fieldston\n",
      "Riverdale\n",
      "Kingsbridge\n",
      "Marble Hill\n",
      "Woodlawn\n",
      "Norwood\n",
      "Williamsbridge\n",
      "Baychester\n",
      "Pelham Parkway\n",
      "City Island\n",
      "Bedford Park\n",
      "University Heights\n",
      "Morris Heights\n",
      "Fordham\n",
      "East Tremont\n",
      "West Farms\n",
      "High  Bridge\n",
      "Melrose\n",
      "Mott Haven\n",
      "Port Morris\n",
      "Longwood\n",
      "Hunts Point\n",
      "Morrisania\n",
      "Soundview\n",
      "Clason Point\n",
      "Throgs Neck\n",
      "Country Club\n",
      "Parkchester\n",
      "Westchester Square\n",
      "Van Nest\n",
      "Morris Park\n",
      "Belmont\n",
      "Spuyten Duyvil\n",
      "North Riverdale\n",
      "Pelham Bay\n",
      "Schuylerville\n",
      "Edgewater Park\n",
      "Castle Hill\n",
      "Olinville\n",
      "Pelham Gardens\n",
      "Concourse\n",
      "Unionport\n",
      "Edenwald\n",
      "Bay Ridge\n",
      "Bensonhurst\n",
      "Sunset Park\n",
      "Greenpoint\n",
      "Gravesend\n",
      "Brighton Beach\n",
      "Sheepshead Bay\n",
      "Manhattan Terrace\n",
      "Flatbush\n",
      "Crown Heights\n",
      "East Flatbush\n",
      "Kensington\n",
      "Windsor Terrace\n",
      "Prospect Heights\n",
      "Brownsville\n",
      "Williamsburg\n",
      "Bushwick\n",
      "Bedford Stuyvesant\n",
      "Brooklyn Heights\n",
      "Cobble Hill\n",
      "Carroll Gardens\n",
      "Red Hook\n",
      "Gowanus\n",
      "Fort Greene\n",
      "Park Slope\n",
      "Cypress Hills\n",
      "East New York\n",
      "Starrett City\n",
      "Canarsie\n",
      "Flatlands\n",
      "Mill Island\n",
      "Manhattan Beach\n",
      "Coney Island\n",
      "Bath Beach\n",
      "Borough Park\n",
      "Dyker Heights\n",
      "Gerritsen Beach\n",
      "Marine Park\n",
      "Clinton Hill\n",
      "Sea Gate\n",
      "Downtown\n",
      "Boerum Hill\n",
      "Prospect Lefferts Gardens\n",
      "Ocean Hill\n",
      "City Line\n",
      "Bergen Beach\n",
      "Midwood\n",
      "Prospect Park South\n",
      "Georgetown\n",
      "East Williamsburg\n",
      "North Side\n",
      "South Side\n",
      "Ocean Parkway\n",
      "Fort Hamilton\n",
      "Chinatown\n",
      "Washington Heights\n",
      "Inwood\n",
      "Hamilton Heights\n",
      "Manhattanville\n",
      "Central Harlem\n",
      "East Harlem\n",
      "Upper East Side\n",
      "Yorkville\n",
      "Lenox Hill\n",
      "Roosevelt Island\n",
      "Upper West Side\n",
      "Lincoln Square\n",
      "Clinton\n",
      "Midtown\n",
      "Murray Hill\n",
      "Chelsea\n",
      "Greenwich Village\n",
      "East Village\n",
      "Lower East Side\n",
      "Tribeca\n",
      "Little Italy\n",
      "Soho\n",
      "West Village\n",
      "Manhattan Valley\n",
      "Morningside Heights\n",
      "Gramercy\n",
      "Battery Park City\n",
      "Financial District\n",
      "Astoria\n",
      "Woodside\n",
      "Jackson Heights\n",
      "Elmhurst\n",
      "Howard Beach\n",
      "Corona\n",
      "Forest Hills\n",
      "Kew Gardens\n",
      "Richmond Hill\n",
      "Flushing\n",
      "Long Island City\n",
      "Sunnyside\n",
      "East Elmhurst\n",
      "Maspeth\n",
      "Ridgewood\n",
      "Glendale\n",
      "Rego Park\n",
      "Woodhaven\n",
      "Ozone Park\n",
      "South Ozone Park\n",
      "College Point\n",
      "Whitestone\n",
      "Bayside\n",
      "Auburndale\n",
      "Little Neck\n",
      "Douglaston\n",
      "Glen Oaks\n",
      "Bellerose\n",
      "Kew Gardens Hills\n",
      "Fresh Meadows\n",
      "Briarwood\n",
      "Jamaica Center\n",
      "Oakland Gardens\n",
      "Queens Village\n",
      "Hollis\n",
      "South Jamaica\n",
      "St. Albans\n",
      "Rochdale\n",
      "Springfield Gardens\n",
      "Cambria Heights\n",
      "Rosedale\n",
      "Far Rockaway\n",
      "Broad Channel\n",
      "Breezy Point\n",
      "Steinway\n",
      "Beechhurst\n",
      "Bay Terrace\n",
      "Edgemere\n",
      "Arverne\n",
      "Rockaway Beach\n",
      "Neponsit\n",
      "Murray Hill\n",
      "Floral Park\n",
      "Holliswood\n",
      "Jamaica Estates\n",
      "Queensboro Hill\n",
      "Hillcrest\n",
      "Ravenswood\n",
      "Lindenwood\n",
      "Laurelton\n",
      "Lefrak City\n",
      "Belle Harbor\n",
      "Rockaway Park\n",
      "Somerville\n",
      "Brookville\n",
      "Bellaire\n",
      "North Corona\n",
      "Forest Hills Gardens\n",
      "St. George\n",
      "New Brighton\n",
      "Stapleton\n",
      "Rosebank\n",
      "West Brighton\n",
      "Grymes Hill\n",
      "Todt Hill\n",
      "South Beach\n",
      "Port Richmond\n",
      "Mariner's Harbor\n",
      "Port Ivory\n",
      "Castleton Corners\n",
      "New Springville\n",
      "Travis\n",
      "New Dorp\n",
      "Oakwood\n",
      "Great Kills\n",
      "Eltingville\n",
      "Annadale\n",
      "Woodrow\n",
      "Tottenville\n",
      "Tompkinsville\n",
      "Silver Lake\n",
      "Sunnyside\n",
      "Ditmas Park\n",
      "Wingate\n",
      "Rugby\n",
      "Park Hill\n",
      "Westerleigh\n",
      "Graniteville\n",
      "Arlington\n",
      "Arrochar\n",
      "Grasmere\n",
      "Old Town\n",
      "Dongan Hills\n",
      "Midland Beach\n",
      "Grant City\n",
      "New Dorp Beach\n",
      "Bay Terrace\n",
      "Huguenot\n",
      "Pleasant Plains\n",
      "Butler Manor\n",
      "Charleston\n",
      "Rossville\n",
      "Arden Heights\n",
      "Greenridge\n",
      "Heartland Village\n",
      "Chelsea\n",
      "Bloomfield\n",
      "Bulls Head\n",
      "Carnegie Hill\n",
      "Noho\n",
      "Civic Center\n",
      "Midtown South\n",
      "Richmond Town\n",
      "Shore Acres\n",
      "Clifton\n",
      "Concord\n",
      "Emerson Hill\n",
      "Randall Manor\n",
      "Howland Hook\n",
      "Elm Park\n",
      "Remsen Village\n",
      "New Lots\n",
      "Paerdegat Basin\n",
      "Mill Basin\n",
      "Jamaica Hills\n",
      "Utopia\n",
      "Pomonok\n",
      "Astoria Heights\n",
      "Claremont Village\n",
      "Concourse Village\n",
      "Mount Eden\n",
      "Mount Hope\n",
      "Sutton Place\n",
      "Hunters Point\n",
      "Turtle Bay\n",
      "Tudor City\n",
      "Stuyvesant Town\n",
      "Flatiron\n",
      "Sunnyside Gardens\n",
      "Blissville\n",
      "Fulton Ferry\n",
      "Vinegar Hill\n",
      "Weeksville\n",
      "Broadway Junction\n",
      "Dumbo\n",
      "Manor Heights\n",
      "Willowbrook\n",
      "Sandy Ground\n",
      "Egbertville\n",
      "Roxbury\n",
      "Homecrest\n",
      "Middle Village\n",
      "Prince's Bay\n",
      "Lighthouse Hill\n",
      "Richmond Valley\n",
      "Malba\n",
      "Highland Park\n",
      "Madison\n",
      "Bronxdale\n",
      "Allerton\n",
      "Kingsbridge Heights\n",
      "Erasmus\n",
      "Hudson Yards\n",
      "Hammels\n",
      "Bayswater\n",
      "Queensbridge\n",
      "Fox Hills\n"
     ]
    }
   ],
   "source": [
    "trawno_venues = getNearbyVenues(names=trawneigh['Neighborhood'],\n",
    "                                   latitudes= trawneigh['Latitude'],\n",
    "                                   longitudes=trawneigh['Longitude']\n",
    "                                  )\n",
    "nyc_venues = getNearbyVenues(names=nyneigh['Neighborhood'],\n",
    "                                   latitudes= nyneigh['Latitude'],\n",
    "                                   longitudes=nyneigh['Longitude']\n",
    "                                  )                                 "
   ]
  },
  {
   "cell_type": "code",
   "execution_count": 39,
   "metadata": {},
   "outputs": [
    {
     "output_type": "execute_result",
     "data": {
      "text/plain": [
       "       Neighborhood  Neighborhood Latitude  Neighborhood Longitude  \\\n",
       "0         Parkwoods              43.753259              -79.329656   \n",
       "1         Parkwoods              43.753259              -79.329656   \n",
       "2         Parkwoods              43.753259              -79.329656   \n",
       "3         Parkwoods              43.753259              -79.329656   \n",
       "4  Victoria Village              43.725882              -79.315572   \n",
       "\n",
       "                    Venue  Venue Latitude  Venue Longitude  \\\n",
       "0         Brookbanks Park       43.751976       -79.332140   \n",
       "1                     KFC       43.754387       -79.333021   \n",
       "2          TTC stop #8380       43.752672       -79.326351   \n",
       "3           Variety Store       43.751974       -79.333114   \n",
       "4  Victoria Village Arena       43.723481       -79.315635   \n",
       "\n",
       "         Venue Category  \n",
       "0                  Park  \n",
       "1  Fast Food Restaurant  \n",
       "2              Bus Stop  \n",
       "3     Food & Drink Shop  \n",
       "4          Hockey Arena  "
      ],
      "text/html": "<div>\n<style scoped>\n    .dataframe tbody tr th:only-of-type {\n        vertical-align: middle;\n    }\n\n    .dataframe tbody tr th {\n        vertical-align: top;\n    }\n\n    .dataframe thead th {\n        text-align: right;\n    }\n</style>\n<table border=\"1\" class=\"dataframe\">\n  <thead>\n    <tr style=\"text-align: right;\">\n      <th></th>\n      <th>Neighborhood</th>\n      <th>Neighborhood Latitude</th>\n      <th>Neighborhood Longitude</th>\n      <th>Venue</th>\n      <th>Venue Latitude</th>\n      <th>Venue Longitude</th>\n      <th>Venue Category</th>\n    </tr>\n  </thead>\n  <tbody>\n    <tr>\n      <th>0</th>\n      <td>Parkwoods</td>\n      <td>43.753259</td>\n      <td>-79.329656</td>\n      <td>Brookbanks Park</td>\n      <td>43.751976</td>\n      <td>-79.332140</td>\n      <td>Park</td>\n    </tr>\n    <tr>\n      <th>1</th>\n      <td>Parkwoods</td>\n      <td>43.753259</td>\n      <td>-79.329656</td>\n      <td>KFC</td>\n      <td>43.754387</td>\n      <td>-79.333021</td>\n      <td>Fast Food Restaurant</td>\n    </tr>\n    <tr>\n      <th>2</th>\n      <td>Parkwoods</td>\n      <td>43.753259</td>\n      <td>-79.329656</td>\n      <td>TTC stop #8380</td>\n      <td>43.752672</td>\n      <td>-79.326351</td>\n      <td>Bus Stop</td>\n    </tr>\n    <tr>\n      <th>3</th>\n      <td>Parkwoods</td>\n      <td>43.753259</td>\n      <td>-79.329656</td>\n      <td>Variety Store</td>\n      <td>43.751974</td>\n      <td>-79.333114</td>\n      <td>Food &amp; Drink Shop</td>\n    </tr>\n    <tr>\n      <th>4</th>\n      <td>Victoria Village</td>\n      <td>43.725882</td>\n      <td>-79.315572</td>\n      <td>Victoria Village Arena</td>\n      <td>43.723481</td>\n      <td>-79.315635</td>\n      <td>Hockey Arena</td>\n    </tr>\n  </tbody>\n</table>\n</div>"
     },
     "metadata": {},
     "execution_count": 39
    }
   ],
   "source": [
    "trawno_venues.head()"
   ]
  },
  {
   "cell_type": "code",
   "execution_count": 40,
   "metadata": {},
   "outputs": [
    {
     "output_type": "execute_result",
     "data": {
      "text/plain": [
       "  Neighborhood  Neighborhood Latitude  Neighborhood Longitude  \\\n",
       "0    Wakefield              40.894705              -73.847201   \n",
       "1    Wakefield              40.894705              -73.847201   \n",
       "2    Wakefield              40.894705              -73.847201   \n",
       "3    Wakefield              40.894705              -73.847201   \n",
       "4    Wakefield              40.894705              -73.847201   \n",
       "\n",
       "              Venue  Venue Latitude  Venue Longitude  Venue Category  \n",
       "0  Lollipops Gelato       40.894123       -73.845892    Dessert Shop  \n",
       "1          Rite Aid       40.896649       -73.844846        Pharmacy  \n",
       "2  Carvel Ice Cream       40.890487       -73.848568  Ice Cream Shop  \n",
       "3         Walgreens       40.896528       -73.844700        Pharmacy  \n",
       "4           Dunkin'       40.890459       -73.849089      Donut Shop  "
      ],
      "text/html": "<div>\n<style scoped>\n    .dataframe tbody tr th:only-of-type {\n        vertical-align: middle;\n    }\n\n    .dataframe tbody tr th {\n        vertical-align: top;\n    }\n\n    .dataframe thead th {\n        text-align: right;\n    }\n</style>\n<table border=\"1\" class=\"dataframe\">\n  <thead>\n    <tr style=\"text-align: right;\">\n      <th></th>\n      <th>Neighborhood</th>\n      <th>Neighborhood Latitude</th>\n      <th>Neighborhood Longitude</th>\n      <th>Venue</th>\n      <th>Venue Latitude</th>\n      <th>Venue Longitude</th>\n      <th>Venue Category</th>\n    </tr>\n  </thead>\n  <tbody>\n    <tr>\n      <th>0</th>\n      <td>Wakefield</td>\n      <td>40.894705</td>\n      <td>-73.847201</td>\n      <td>Lollipops Gelato</td>\n      <td>40.894123</td>\n      <td>-73.845892</td>\n      <td>Dessert Shop</td>\n    </tr>\n    <tr>\n      <th>1</th>\n      <td>Wakefield</td>\n      <td>40.894705</td>\n      <td>-73.847201</td>\n      <td>Rite Aid</td>\n      <td>40.896649</td>\n      <td>-73.844846</td>\n      <td>Pharmacy</td>\n    </tr>\n    <tr>\n      <th>2</th>\n      <td>Wakefield</td>\n      <td>40.894705</td>\n      <td>-73.847201</td>\n      <td>Carvel Ice Cream</td>\n      <td>40.890487</td>\n      <td>-73.848568</td>\n      <td>Ice Cream Shop</td>\n    </tr>\n    <tr>\n      <th>3</th>\n      <td>Wakefield</td>\n      <td>40.894705</td>\n      <td>-73.847201</td>\n      <td>Walgreens</td>\n      <td>40.896528</td>\n      <td>-73.844700</td>\n      <td>Pharmacy</td>\n    </tr>\n    <tr>\n      <th>4</th>\n      <td>Wakefield</td>\n      <td>40.894705</td>\n      <td>-73.847201</td>\n      <td>Dunkin'</td>\n      <td>40.890459</td>\n      <td>-73.849089</td>\n      <td>Donut Shop</td>\n    </tr>\n  </tbody>\n</table>\n</div>"
     },
     "metadata": {},
     "execution_count": 40
    }
   ],
   "source": [
    "nyc_venues.head()"
   ]
  },
  {
   "cell_type": "code",
   "execution_count": 54,
   "metadata": {},
   "outputs": [
    {
     "output_type": "execute_result",
     "data": {
      "text/plain": [
       "                                           Neighborhood  \\\n",
       "271                                      St. James Town   \n",
       "360                                         Berczy Park   \n",
       "476                                  Central Bay Street   \n",
       "600                            Richmond, Adelaide, King   \n",
       "621                            Richmond, Adelaide, King   \n",
       "844   Harbourfront East, Union Station, Toronto Islands   \n",
       "908                            Little Portugal, Trinity   \n",
       "1021           Toronto Dominion Centre, Design Exchange   \n",
       "1174                     Commerce Court, Victoria Hotel   \n",
       "1214                     Commerce Court, Victoria Hotel   \n",
       "1584                                 Runnymede, Swansea   \n",
       "1644          Kensington Market, Chinatown, Grange Park   \n",
       "1659          Kensington Market, Chinatown, Grange Park   \n",
       "1662          Kensington Market, Chinatown, Grange Park   \n",
       "1750                                     Enclave of M5E   \n",
       "1926             First Canadian Place, Underground city   \n",
       "\n",
       "      Neighborhood Latitude  Neighborhood Longitude                Venue  \\\n",
       "271               43.651494              -79.375418       Fresh On Front   \n",
       "360               43.644771              -79.373306       Fresh On Front   \n",
       "476               43.657952              -79.387383     Vegetarian Haven   \n",
       "600               43.650571              -79.384568            Rosalinda   \n",
       "621               43.650571              -79.384568         Planta Queen   \n",
       "844               43.640816              -79.381752        Kupfert & Kim   \n",
       "908               43.647927              -79.419750               Veghed   \n",
       "1021              43.647177              -79.381576            Rosalinda   \n",
       "1174              43.648198              -79.379817       Fresh On Front   \n",
       "1214              43.648198              -79.379817            Rosalinda   \n",
       "1584              43.651571              -79.484450                 Awai   \n",
       "1644              43.653206              -79.400049             Hibiscus   \n",
       "1659              43.653206              -79.400049      Urban Herbivore   \n",
       "1662              43.653206              -79.400049  Buddha's Vegetarian   \n",
       "1750              43.646435              -79.374846       Fresh On Front   \n",
       "1926              43.648429              -79.382280            Rosalinda   \n",
       "\n",
       "      Venue Latitude  Venue Longitude                 Venue Category  \n",
       "271        43.647815       -79.374453  Vegetarian / Vegan Restaurant  \n",
       "360        43.647815       -79.374453  Vegetarian / Vegan Restaurant  \n",
       "476        43.656016       -79.392758  Vegetarian / Vegan Restaurant  \n",
       "600        43.650252       -79.385156  Vegetarian / Vegan Restaurant  \n",
       "621        43.650622       -79.388154  Vegetarian / Vegan Restaurant  \n",
       "844        43.641179       -79.378144  Vegetarian / Vegan Restaurant  \n",
       "908        43.649224       -79.422326  Vegetarian / Vegan Restaurant  \n",
       "1021       43.650252       -79.385156  Vegetarian / Vegan Restaurant  \n",
       "1174       43.647815       -79.374453  Vegetarian / Vegan Restaurant  \n",
       "1214       43.650252       -79.385156  Vegetarian / Vegan Restaurant  \n",
       "1584       43.650412       -79.478477  Vegetarian / Vegan Restaurant  \n",
       "1644       43.655454       -79.402439  Vegetarian / Vegan Restaurant  \n",
       "1659       43.656193       -79.402673  Vegetarian / Vegan Restaurant  \n",
       "1662       43.651904       -79.403312  Vegetarian / Vegan Restaurant  \n",
       "1750       43.647815       -79.374453  Vegetarian / Vegan Restaurant  \n",
       "1926       43.650252       -79.385156  Vegetarian / Vegan Restaurant  "
      ],
      "text/html": "<div>\n<style scoped>\n    .dataframe tbody tr th:only-of-type {\n        vertical-align: middle;\n    }\n\n    .dataframe tbody tr th {\n        vertical-align: top;\n    }\n\n    .dataframe thead th {\n        text-align: right;\n    }\n</style>\n<table border=\"1\" class=\"dataframe\">\n  <thead>\n    <tr style=\"text-align: right;\">\n      <th></th>\n      <th>Neighborhood</th>\n      <th>Neighborhood Latitude</th>\n      <th>Neighborhood Longitude</th>\n      <th>Venue</th>\n      <th>Venue Latitude</th>\n      <th>Venue Longitude</th>\n      <th>Venue Category</th>\n    </tr>\n  </thead>\n  <tbody>\n    <tr>\n      <th>271</th>\n      <td>St. James Town</td>\n      <td>43.651494</td>\n      <td>-79.375418</td>\n      <td>Fresh On Front</td>\n      <td>43.647815</td>\n      <td>-79.374453</td>\n      <td>Vegetarian / Vegan Restaurant</td>\n    </tr>\n    <tr>\n      <th>360</th>\n      <td>Berczy Park</td>\n      <td>43.644771</td>\n      <td>-79.373306</td>\n      <td>Fresh On Front</td>\n      <td>43.647815</td>\n      <td>-79.374453</td>\n      <td>Vegetarian / Vegan Restaurant</td>\n    </tr>\n    <tr>\n      <th>476</th>\n      <td>Central Bay Street</td>\n      <td>43.657952</td>\n      <td>-79.387383</td>\n      <td>Vegetarian Haven</td>\n      <td>43.656016</td>\n      <td>-79.392758</td>\n      <td>Vegetarian / Vegan Restaurant</td>\n    </tr>\n    <tr>\n      <th>600</th>\n      <td>Richmond, Adelaide, King</td>\n      <td>43.650571</td>\n      <td>-79.384568</td>\n      <td>Rosalinda</td>\n      <td>43.650252</td>\n      <td>-79.385156</td>\n      <td>Vegetarian / Vegan Restaurant</td>\n    </tr>\n    <tr>\n      <th>621</th>\n      <td>Richmond, Adelaide, King</td>\n      <td>43.650571</td>\n      <td>-79.384568</td>\n      <td>Planta Queen</td>\n      <td>43.650622</td>\n      <td>-79.388154</td>\n      <td>Vegetarian / Vegan Restaurant</td>\n    </tr>\n    <tr>\n      <th>844</th>\n      <td>Harbourfront East, Union Station, Toronto Islands</td>\n      <td>43.640816</td>\n      <td>-79.381752</td>\n      <td>Kupfert &amp; Kim</td>\n      <td>43.641179</td>\n      <td>-79.378144</td>\n      <td>Vegetarian / Vegan Restaurant</td>\n    </tr>\n    <tr>\n      <th>908</th>\n      <td>Little Portugal, Trinity</td>\n      <td>43.647927</td>\n      <td>-79.419750</td>\n      <td>Veghed</td>\n      <td>43.649224</td>\n      <td>-79.422326</td>\n      <td>Vegetarian / Vegan Restaurant</td>\n    </tr>\n    <tr>\n      <th>1021</th>\n      <td>Toronto Dominion Centre, Design Exchange</td>\n      <td>43.647177</td>\n      <td>-79.381576</td>\n      <td>Rosalinda</td>\n      <td>43.650252</td>\n      <td>-79.385156</td>\n      <td>Vegetarian / Vegan Restaurant</td>\n    </tr>\n    <tr>\n      <th>1174</th>\n      <td>Commerce Court, Victoria Hotel</td>\n      <td>43.648198</td>\n      <td>-79.379817</td>\n      <td>Fresh On Front</td>\n      <td>43.647815</td>\n      <td>-79.374453</td>\n      <td>Vegetarian / Vegan Restaurant</td>\n    </tr>\n    <tr>\n      <th>1214</th>\n      <td>Commerce Court, Victoria Hotel</td>\n      <td>43.648198</td>\n      <td>-79.379817</td>\n      <td>Rosalinda</td>\n      <td>43.650252</td>\n      <td>-79.385156</td>\n      <td>Vegetarian / Vegan Restaurant</td>\n    </tr>\n    <tr>\n      <th>1584</th>\n      <td>Runnymede, Swansea</td>\n      <td>43.651571</td>\n      <td>-79.484450</td>\n      <td>Awai</td>\n      <td>43.650412</td>\n      <td>-79.478477</td>\n      <td>Vegetarian / Vegan Restaurant</td>\n    </tr>\n    <tr>\n      <th>1644</th>\n      <td>Kensington Market, Chinatown, Grange Park</td>\n      <td>43.653206</td>\n      <td>-79.400049</td>\n      <td>Hibiscus</td>\n      <td>43.655454</td>\n      <td>-79.402439</td>\n      <td>Vegetarian / Vegan Restaurant</td>\n    </tr>\n    <tr>\n      <th>1659</th>\n      <td>Kensington Market, Chinatown, Grange Park</td>\n      <td>43.653206</td>\n      <td>-79.400049</td>\n      <td>Urban Herbivore</td>\n      <td>43.656193</td>\n      <td>-79.402673</td>\n      <td>Vegetarian / Vegan Restaurant</td>\n    </tr>\n    <tr>\n      <th>1662</th>\n      <td>Kensington Market, Chinatown, Grange Park</td>\n      <td>43.653206</td>\n      <td>-79.400049</td>\n      <td>Buddha's Vegetarian</td>\n      <td>43.651904</td>\n      <td>-79.403312</td>\n      <td>Vegetarian / Vegan Restaurant</td>\n    </tr>\n    <tr>\n      <th>1750</th>\n      <td>Enclave of M5E</td>\n      <td>43.646435</td>\n      <td>-79.374846</td>\n      <td>Fresh On Front</td>\n      <td>43.647815</td>\n      <td>-79.374453</td>\n      <td>Vegetarian / Vegan Restaurant</td>\n    </tr>\n    <tr>\n      <th>1926</th>\n      <td>First Canadian Place, Underground city</td>\n      <td>43.648429</td>\n      <td>-79.382280</td>\n      <td>Rosalinda</td>\n      <td>43.650252</td>\n      <td>-79.385156</td>\n      <td>Vegetarian / Vegan Restaurant</td>\n    </tr>\n  </tbody>\n</table>\n</div>"
     },
     "metadata": {},
     "execution_count": 54
    }
   ],
   "source": [
    "trawveg = trawno_venues.loc[trawno_venues['Venue Category'] == 'Vegetarian / Vegan Restaurant']\n",
    "trawveg"
   ]
  },
  {
   "cell_type": "code",
   "execution_count": 59,
   "metadata": {},
   "outputs": [
    {
     "output_type": "execute_result",
     "data": {
      "text/plain": [
       "           Neighborhood  Neighborhood Latitude  Neighborhood Longitude  \\\n",
       "131         Kingsbridge              40.881687              -73.902818   \n",
       "1266         Greenpoint              40.730201              -73.954241   \n",
       "1597   Prospect Heights              40.676822              -73.964859   \n",
       "1718           Bushwick              40.698116              -73.925258   \n",
       "1727           Bushwick              40.698116              -73.925258   \n",
       "2224        Fort Greene              40.688527              -73.972906   \n",
       "2585       Clinton Hill              40.693229              -73.967843   \n",
       "3045  East Williamsburg              40.708492              -73.938858   \n",
       "3090  East Williamsburg              40.708492              -73.938858   \n",
       "3142         North Side              40.714823              -73.958809   \n",
       "3144         North Side              40.714823              -73.958809   \n",
       "3296         South Side              40.710861              -73.958001   \n",
       "3478          Chinatown              40.715618              -73.994279   \n",
       "3876    Upper East Side              40.775639              -73.960508   \n",
       "4160    Upper West Side              40.787658              -73.977059   \n",
       "4200    Upper West Side              40.787658              -73.977059   \n",
       "4539        Murray Hill              40.748303              -73.978332   \n",
       "4632        Murray Hill              40.748303              -73.978332   \n",
       "4822  Greenwich Village              40.726933              -73.999914   \n",
       "4862       East Village              40.727847              -73.982226   \n",
       "4864       East Village              40.727847              -73.982226   \n",
       "4912       East Village              40.727847              -73.982226   \n",
       "5010            Tribeca              40.721522              -74.010683   \n",
       "5123       Little Italy              40.719324              -73.997305   \n",
       "5186               Soho              40.722184              -74.000657   \n",
       "5772            Astoria              40.768509              -73.915654   \n",
       "6450          Ridgewood              40.708323              -73.901435   \n",
       "6874      Fresh Meadows              40.734394              -73.782713   \n",
       "6994      South Jamaica              40.696911              -73.790426   \n",
       "7257     Rockaway Beach              40.582802              -73.822361   \n",
       "8086           Grasmere              40.598268              -74.076674   \n",
       "8383      Carnegie Hill              40.782683              -73.953256   \n",
       "8471               Noho              40.723259              -73.988434   \n",
       "8620       Civic Center              40.715229              -74.005415   \n",
       "8724      Midtown South              40.748510              -73.988713   \n",
       "9119       Sutton Place              40.760280              -73.963556   \n",
       "9142       Sutton Place              40.760280              -73.963556   \n",
       "9447           Flatiron              40.739673              -73.990947   \n",
       "9952              Malba              40.790602              -73.826678   \n",
       "\n",
       "                                      Venue  Venue Latitude  Venue Longitude  \\\n",
       "131   Kingsbridge-Riverdale Farmers' Market       40.879973       -73.907295   \n",
       "1266                            Jungle Cafe       40.730201       -73.954761   \n",
       "1597                          Natural Blend       40.673819       -73.962923   \n",
       "1718                               Sol Sips       40.699135       -73.922510   \n",
       "1727                           Hartbreakers       40.701627       -73.922853   \n",
       "2224                   LuAnne's Wild Ginger       40.689644       -73.969824   \n",
       "2585                   LuAnne's Wild Ginger       40.689644       -73.969824   \n",
       "3045                           Champs Diner       40.708335       -73.940816   \n",
       "3090                             Loving Hut       40.712549       -73.941106   \n",
       "3142                 The Butcher’s Daughter       40.714905       -73.958520   \n",
       "3144                              by CHLOE.       40.715214       -73.959363   \n",
       "3296                 The Butcher’s Daughter       40.714905       -73.958520   \n",
       "3478                         Orchard Grocer       40.717847       -73.990358   \n",
       "3876                           Beyond Sushi       40.775317       -73.956347   \n",
       "4160                         Peacefood Cafe       40.785166       -73.977064   \n",
       "4200                    Blossom on Columbus       40.785511       -73.972829   \n",
       "4539                               Franchia       40.747549       -73.981124   \n",
       "4632                           Le Botaniste       40.751316       -73.974187   \n",
       "4822                           Quantum Leap       40.729209       -73.998867   \n",
       "4862                     Superiority Burger       40.727549       -73.983290   \n",
       "4864                           Avant Garden       40.726161       -73.983866   \n",
       "4912                               Ladybird       40.726514       -73.984669   \n",
       "5010                            juice press       40.722048       -74.009743   \n",
       "5123                           Le Botaniste       40.720545       -74.000138   \n",
       "5186                           Le Botaniste       40.720545       -74.000138   \n",
       "5772                            Jujube Tree       40.765309       -73.918162   \n",
       "6450              Coco Lin Vegetarian House       40.709853       -73.899018   \n",
       "6874              Peking Chinese Restaurant       40.733397       -73.783293   \n",
       "6994                       The Nourish Spot       40.697966       -73.792267   \n",
       "7257                          Island Veggie       40.585257       -73.817947   \n",
       "8086                       Fuel Health Cafe       40.598464       -74.080913   \n",
       "8383                            juice press       40.784718       -73.955995   \n",
       "8471                        Divya's Kitchen       40.723501       -73.988304   \n",
       "8620                            Juice Press       40.714788       -74.011132   \n",
       "8724                                Hangawi       40.746927       -73.984779   \n",
       "9119                            juice press       40.763467       -73.965122   \n",
       "9142           Ginger Root Vegan Restaurant       40.762475       -73.959583   \n",
       "9447                                   abcV       40.738182       -73.989210   \n",
       "9952                            Clean Table       40.791660       -73.828467   \n",
       "\n",
       "                     Venue Category  \n",
       "131   Vegetarian / Vegan Restaurant  \n",
       "1266  Vegetarian / Vegan Restaurant  \n",
       "1597  Vegetarian / Vegan Restaurant  \n",
       "1718  Vegetarian / Vegan Restaurant  \n",
       "1727  Vegetarian / Vegan Restaurant  \n",
       "2224  Vegetarian / Vegan Restaurant  \n",
       "2585  Vegetarian / Vegan Restaurant  \n",
       "3045  Vegetarian / Vegan Restaurant  \n",
       "3090  Vegetarian / Vegan Restaurant  \n",
       "3142  Vegetarian / Vegan Restaurant  \n",
       "3144  Vegetarian / Vegan Restaurant  \n",
       "3296  Vegetarian / Vegan Restaurant  \n",
       "3478  Vegetarian / Vegan Restaurant  \n",
       "3876  Vegetarian / Vegan Restaurant  \n",
       "4160  Vegetarian / Vegan Restaurant  \n",
       "4200  Vegetarian / Vegan Restaurant  \n",
       "4539  Vegetarian / Vegan Restaurant  \n",
       "4632  Vegetarian / Vegan Restaurant  \n",
       "4822  Vegetarian / Vegan Restaurant  \n",
       "4862  Vegetarian / Vegan Restaurant  \n",
       "4864  Vegetarian / Vegan Restaurant  \n",
       "4912  Vegetarian / Vegan Restaurant  \n",
       "5010  Vegetarian / Vegan Restaurant  \n",
       "5123  Vegetarian / Vegan Restaurant  \n",
       "5186  Vegetarian / Vegan Restaurant  \n",
       "5772  Vegetarian / Vegan Restaurant  \n",
       "6450  Vegetarian / Vegan Restaurant  \n",
       "6874  Vegetarian / Vegan Restaurant  \n",
       "6994  Vegetarian / Vegan Restaurant  \n",
       "7257  Vegetarian / Vegan Restaurant  \n",
       "8086  Vegetarian / Vegan Restaurant  \n",
       "8383  Vegetarian / Vegan Restaurant  \n",
       "8471  Vegetarian / Vegan Restaurant  \n",
       "8620  Vegetarian / Vegan Restaurant  \n",
       "8724  Vegetarian / Vegan Restaurant  \n",
       "9119  Vegetarian / Vegan Restaurant  \n",
       "9142  Vegetarian / Vegan Restaurant  \n",
       "9447  Vegetarian / Vegan Restaurant  \n",
       "9952  Vegetarian / Vegan Restaurant  "
      ],
      "text/html": "<div>\n<style scoped>\n    .dataframe tbody tr th:only-of-type {\n        vertical-align: middle;\n    }\n\n    .dataframe tbody tr th {\n        vertical-align: top;\n    }\n\n    .dataframe thead th {\n        text-align: right;\n    }\n</style>\n<table border=\"1\" class=\"dataframe\">\n  <thead>\n    <tr style=\"text-align: right;\">\n      <th></th>\n      <th>Neighborhood</th>\n      <th>Neighborhood Latitude</th>\n      <th>Neighborhood Longitude</th>\n      <th>Venue</th>\n      <th>Venue Latitude</th>\n      <th>Venue Longitude</th>\n      <th>Venue Category</th>\n    </tr>\n  </thead>\n  <tbody>\n    <tr>\n      <th>131</th>\n      <td>Kingsbridge</td>\n      <td>40.881687</td>\n      <td>-73.902818</td>\n      <td>Kingsbridge-Riverdale Farmers' Market</td>\n      <td>40.879973</td>\n      <td>-73.907295</td>\n      <td>Vegetarian / Vegan Restaurant</td>\n    </tr>\n    <tr>\n      <th>1266</th>\n      <td>Greenpoint</td>\n      <td>40.730201</td>\n      <td>-73.954241</td>\n      <td>Jungle Cafe</td>\n      <td>40.730201</td>\n      <td>-73.954761</td>\n      <td>Vegetarian / Vegan Restaurant</td>\n    </tr>\n    <tr>\n      <th>1597</th>\n      <td>Prospect Heights</td>\n      <td>40.676822</td>\n      <td>-73.964859</td>\n      <td>Natural Blend</td>\n      <td>40.673819</td>\n      <td>-73.962923</td>\n      <td>Vegetarian / Vegan Restaurant</td>\n    </tr>\n    <tr>\n      <th>1718</th>\n      <td>Bushwick</td>\n      <td>40.698116</td>\n      <td>-73.925258</td>\n      <td>Sol Sips</td>\n      <td>40.699135</td>\n      <td>-73.922510</td>\n      <td>Vegetarian / Vegan Restaurant</td>\n    </tr>\n    <tr>\n      <th>1727</th>\n      <td>Bushwick</td>\n      <td>40.698116</td>\n      <td>-73.925258</td>\n      <td>Hartbreakers</td>\n      <td>40.701627</td>\n      <td>-73.922853</td>\n      <td>Vegetarian / Vegan Restaurant</td>\n    </tr>\n    <tr>\n      <th>2224</th>\n      <td>Fort Greene</td>\n      <td>40.688527</td>\n      <td>-73.972906</td>\n      <td>LuAnne's Wild Ginger</td>\n      <td>40.689644</td>\n      <td>-73.969824</td>\n      <td>Vegetarian / Vegan Restaurant</td>\n    </tr>\n    <tr>\n      <th>2585</th>\n      <td>Clinton Hill</td>\n      <td>40.693229</td>\n      <td>-73.967843</td>\n      <td>LuAnne's Wild Ginger</td>\n      <td>40.689644</td>\n      <td>-73.969824</td>\n      <td>Vegetarian / Vegan Restaurant</td>\n    </tr>\n    <tr>\n      <th>3045</th>\n      <td>East Williamsburg</td>\n      <td>40.708492</td>\n      <td>-73.938858</td>\n      <td>Champs Diner</td>\n      <td>40.708335</td>\n      <td>-73.940816</td>\n      <td>Vegetarian / Vegan Restaurant</td>\n    </tr>\n    <tr>\n      <th>3090</th>\n      <td>East Williamsburg</td>\n      <td>40.708492</td>\n      <td>-73.938858</td>\n      <td>Loving Hut</td>\n      <td>40.712549</td>\n      <td>-73.941106</td>\n      <td>Vegetarian / Vegan Restaurant</td>\n    </tr>\n    <tr>\n      <th>3142</th>\n      <td>North Side</td>\n      <td>40.714823</td>\n      <td>-73.958809</td>\n      <td>The Butcher’s Daughter</td>\n      <td>40.714905</td>\n      <td>-73.958520</td>\n      <td>Vegetarian / Vegan Restaurant</td>\n    </tr>\n    <tr>\n      <th>3144</th>\n      <td>North Side</td>\n      <td>40.714823</td>\n      <td>-73.958809</td>\n      <td>by CHLOE.</td>\n      <td>40.715214</td>\n      <td>-73.959363</td>\n      <td>Vegetarian / Vegan Restaurant</td>\n    </tr>\n    <tr>\n      <th>3296</th>\n      <td>South Side</td>\n      <td>40.710861</td>\n      <td>-73.958001</td>\n      <td>The Butcher’s Daughter</td>\n      <td>40.714905</td>\n      <td>-73.958520</td>\n      <td>Vegetarian / Vegan Restaurant</td>\n    </tr>\n    <tr>\n      <th>3478</th>\n      <td>Chinatown</td>\n      <td>40.715618</td>\n      <td>-73.994279</td>\n      <td>Orchard Grocer</td>\n      <td>40.717847</td>\n      <td>-73.990358</td>\n      <td>Vegetarian / Vegan Restaurant</td>\n    </tr>\n    <tr>\n      <th>3876</th>\n      <td>Upper East Side</td>\n      <td>40.775639</td>\n      <td>-73.960508</td>\n      <td>Beyond Sushi</td>\n      <td>40.775317</td>\n      <td>-73.956347</td>\n      <td>Vegetarian / Vegan Restaurant</td>\n    </tr>\n    <tr>\n      <th>4160</th>\n      <td>Upper West Side</td>\n      <td>40.787658</td>\n      <td>-73.977059</td>\n      <td>Peacefood Cafe</td>\n      <td>40.785166</td>\n      <td>-73.977064</td>\n      <td>Vegetarian / Vegan Restaurant</td>\n    </tr>\n    <tr>\n      <th>4200</th>\n      <td>Upper West Side</td>\n      <td>40.787658</td>\n      <td>-73.977059</td>\n      <td>Blossom on Columbus</td>\n      <td>40.785511</td>\n      <td>-73.972829</td>\n      <td>Vegetarian / Vegan Restaurant</td>\n    </tr>\n    <tr>\n      <th>4539</th>\n      <td>Murray Hill</td>\n      <td>40.748303</td>\n      <td>-73.978332</td>\n      <td>Franchia</td>\n      <td>40.747549</td>\n      <td>-73.981124</td>\n      <td>Vegetarian / Vegan Restaurant</td>\n    </tr>\n    <tr>\n      <th>4632</th>\n      <td>Murray Hill</td>\n      <td>40.748303</td>\n      <td>-73.978332</td>\n      <td>Le Botaniste</td>\n      <td>40.751316</td>\n      <td>-73.974187</td>\n      <td>Vegetarian / Vegan Restaurant</td>\n    </tr>\n    <tr>\n      <th>4822</th>\n      <td>Greenwich Village</td>\n      <td>40.726933</td>\n      <td>-73.999914</td>\n      <td>Quantum Leap</td>\n      <td>40.729209</td>\n      <td>-73.998867</td>\n      <td>Vegetarian / Vegan Restaurant</td>\n    </tr>\n    <tr>\n      <th>4862</th>\n      <td>East Village</td>\n      <td>40.727847</td>\n      <td>-73.982226</td>\n      <td>Superiority Burger</td>\n      <td>40.727549</td>\n      <td>-73.983290</td>\n      <td>Vegetarian / Vegan Restaurant</td>\n    </tr>\n    <tr>\n      <th>4864</th>\n      <td>East Village</td>\n      <td>40.727847</td>\n      <td>-73.982226</td>\n      <td>Avant Garden</td>\n      <td>40.726161</td>\n      <td>-73.983866</td>\n      <td>Vegetarian / Vegan Restaurant</td>\n    </tr>\n    <tr>\n      <th>4912</th>\n      <td>East Village</td>\n      <td>40.727847</td>\n      <td>-73.982226</td>\n      <td>Ladybird</td>\n      <td>40.726514</td>\n      <td>-73.984669</td>\n      <td>Vegetarian / Vegan Restaurant</td>\n    </tr>\n    <tr>\n      <th>5010</th>\n      <td>Tribeca</td>\n      <td>40.721522</td>\n      <td>-74.010683</td>\n      <td>juice press</td>\n      <td>40.722048</td>\n      <td>-74.009743</td>\n      <td>Vegetarian / Vegan Restaurant</td>\n    </tr>\n    <tr>\n      <th>5123</th>\n      <td>Little Italy</td>\n      <td>40.719324</td>\n      <td>-73.997305</td>\n      <td>Le Botaniste</td>\n      <td>40.720545</td>\n      <td>-74.000138</td>\n      <td>Vegetarian / Vegan Restaurant</td>\n    </tr>\n    <tr>\n      <th>5186</th>\n      <td>Soho</td>\n      <td>40.722184</td>\n      <td>-74.000657</td>\n      <td>Le Botaniste</td>\n      <td>40.720545</td>\n      <td>-74.000138</td>\n      <td>Vegetarian / Vegan Restaurant</td>\n    </tr>\n    <tr>\n      <th>5772</th>\n      <td>Astoria</td>\n      <td>40.768509</td>\n      <td>-73.915654</td>\n      <td>Jujube Tree</td>\n      <td>40.765309</td>\n      <td>-73.918162</td>\n      <td>Vegetarian / Vegan Restaurant</td>\n    </tr>\n    <tr>\n      <th>6450</th>\n      <td>Ridgewood</td>\n      <td>40.708323</td>\n      <td>-73.901435</td>\n      <td>Coco Lin Vegetarian House</td>\n      <td>40.709853</td>\n      <td>-73.899018</td>\n      <td>Vegetarian / Vegan Restaurant</td>\n    </tr>\n    <tr>\n      <th>6874</th>\n      <td>Fresh Meadows</td>\n      <td>40.734394</td>\n      <td>-73.782713</td>\n      <td>Peking Chinese Restaurant</td>\n      <td>40.733397</td>\n      <td>-73.783293</td>\n      <td>Vegetarian / Vegan Restaurant</td>\n    </tr>\n    <tr>\n      <th>6994</th>\n      <td>South Jamaica</td>\n      <td>40.696911</td>\n      <td>-73.790426</td>\n      <td>The Nourish Spot</td>\n      <td>40.697966</td>\n      <td>-73.792267</td>\n      <td>Vegetarian / Vegan Restaurant</td>\n    </tr>\n    <tr>\n      <th>7257</th>\n      <td>Rockaway Beach</td>\n      <td>40.582802</td>\n      <td>-73.822361</td>\n      <td>Island Veggie</td>\n      <td>40.585257</td>\n      <td>-73.817947</td>\n      <td>Vegetarian / Vegan Restaurant</td>\n    </tr>\n    <tr>\n      <th>8086</th>\n      <td>Grasmere</td>\n      <td>40.598268</td>\n      <td>-74.076674</td>\n      <td>Fuel Health Cafe</td>\n      <td>40.598464</td>\n      <td>-74.080913</td>\n      <td>Vegetarian / Vegan Restaurant</td>\n    </tr>\n    <tr>\n      <th>8383</th>\n      <td>Carnegie Hill</td>\n      <td>40.782683</td>\n      <td>-73.953256</td>\n      <td>juice press</td>\n      <td>40.784718</td>\n      <td>-73.955995</td>\n      <td>Vegetarian / Vegan Restaurant</td>\n    </tr>\n    <tr>\n      <th>8471</th>\n      <td>Noho</td>\n      <td>40.723259</td>\n      <td>-73.988434</td>\n      <td>Divya's Kitchen</td>\n      <td>40.723501</td>\n      <td>-73.988304</td>\n      <td>Vegetarian / Vegan Restaurant</td>\n    </tr>\n    <tr>\n      <th>8620</th>\n      <td>Civic Center</td>\n      <td>40.715229</td>\n      <td>-74.005415</td>\n      <td>Juice Press</td>\n      <td>40.714788</td>\n      <td>-74.011132</td>\n      <td>Vegetarian / Vegan Restaurant</td>\n    </tr>\n    <tr>\n      <th>8724</th>\n      <td>Midtown South</td>\n      <td>40.748510</td>\n      <td>-73.988713</td>\n      <td>Hangawi</td>\n      <td>40.746927</td>\n      <td>-73.984779</td>\n      <td>Vegetarian / Vegan Restaurant</td>\n    </tr>\n    <tr>\n      <th>9119</th>\n      <td>Sutton Place</td>\n      <td>40.760280</td>\n      <td>-73.963556</td>\n      <td>juice press</td>\n      <td>40.763467</td>\n      <td>-73.965122</td>\n      <td>Vegetarian / Vegan Restaurant</td>\n    </tr>\n    <tr>\n      <th>9142</th>\n      <td>Sutton Place</td>\n      <td>40.760280</td>\n      <td>-73.963556</td>\n      <td>Ginger Root Vegan Restaurant</td>\n      <td>40.762475</td>\n      <td>-73.959583</td>\n      <td>Vegetarian / Vegan Restaurant</td>\n    </tr>\n    <tr>\n      <th>9447</th>\n      <td>Flatiron</td>\n      <td>40.739673</td>\n      <td>-73.990947</td>\n      <td>abcV</td>\n      <td>40.738182</td>\n      <td>-73.989210</td>\n      <td>Vegetarian / Vegan Restaurant</td>\n    </tr>\n    <tr>\n      <th>9952</th>\n      <td>Malba</td>\n      <td>40.790602</td>\n      <td>-73.826678</td>\n      <td>Clean Table</td>\n      <td>40.791660</td>\n      <td>-73.828467</td>\n      <td>Vegetarian / Vegan Restaurant</td>\n    </tr>\n  </tbody>\n</table>\n</div>"
     },
     "metadata": {},
     "execution_count": 59
    }
   ],
   "source": [
    "nyveg = nyc_venues.loc[nyc_venues['Venue Category'] == 'Vegetarian / Vegan Restaurant']\n",
    "nyveg"
   ]
  },
  {
   "cell_type": "code",
   "execution_count": 43,
   "metadata": {},
   "outputs": [
    {
     "output_type": "stream",
     "name": "stdout",
     "text": [
      "The geograpical coordinates of Toronto are 43.6534817, -79.3839347.\n"
     ]
    }
   ],
   "source": [
    "taddress = 'Toronto, ON'\n",
    "\n",
    "geolocator = Nominatim(user_agent=\"trawno_explorer\")\n",
    "tlocation = geolocator.geocode(taddress)\n",
    "tlatitude = tlocation.latitude\n",
    "tlongitude = tlocation.longitude\n",
    "print('The geograpical coordinates of Toronto are {}, {}.'.format(tlatitude, tlongitude))\n"
   ]
  },
  {
   "cell_type": "code",
   "execution_count": 60,
   "metadata": {},
   "outputs": [
    {
     "output_type": "stream",
     "name": "stdout",
     "text": [
      "The geograpical coordinates of New York City are 40.7127281, -74.0060152.\n"
     ]
    }
   ],
   "source": [
    "naddress = 'New York City, NY'\n",
    "\n",
    "geolocator = Nominatim(user_agent=\"nyc_explorer\")\n",
    "nlocation = geolocator.geocode(naddress)\n",
    "nlatitude = nlocation.latitude\n",
    "nlongitude = nlocation.longitude\n",
    "print('The geograpical coordinates of New York City are {}, {}.'.format(nlatitude, nlongitude))\n"
   ]
  },
  {
   "cell_type": "code",
   "execution_count": 53,
   "metadata": {},
   "outputs": [
    {
     "output_type": "execute_result",
     "data": {
      "text/plain": [
       "<folium.folium.Map at 0x11f41fca0>"
      ],
      "text/html": "<div style=\"width:100%;\"><div style=\"position:relative;width:100%;height:0;padding-bottom:60%;\"><span style=\"color:#565656\">Make this Notebook Trusted to load map: File -> Trust Notebook</span><iframe src=\"about:blank\" style=\"position:absolute;width:100%;height:100%;left:0;top:0;border:none !important;\" data-html=%3C%21DOCTYPE%20html%3E%0A%3Chead%3E%20%20%20%20%0A%20%20%20%20%3Cmeta%20http-equiv%3D%22content-type%22%20content%3D%22text/html%3B%20charset%3DUTF-8%22%20/%3E%0A%20%20%20%20%0A%20%20%20%20%20%20%20%20%3Cscript%3E%0A%20%20%20%20%20%20%20%20%20%20%20%20L_NO_TOUCH%20%3D%20false%3B%0A%20%20%20%20%20%20%20%20%20%20%20%20L_DISABLE_3D%20%3D%20false%3B%0A%20%20%20%20%20%20%20%20%3C/script%3E%0A%20%20%20%20%0A%20%20%20%20%3Cstyle%3Ehtml%2C%20body%20%7Bwidth%3A%20100%25%3Bheight%3A%20100%25%3Bmargin%3A%200%3Bpadding%3A%200%3B%7D%3C/style%3E%0A%20%20%20%20%3Cstyle%3E%23map%20%7Bposition%3Aabsolute%3Btop%3A0%3Bbottom%3A0%3Bright%3A0%3Bleft%3A0%3B%7D%3C/style%3E%0A%20%20%20%20%3Cscript%20src%3D%22https%3A//cdn.jsdelivr.net/npm/leaflet%401.6.0/dist/leaflet.js%22%3E%3C/script%3E%0A%20%20%20%20%3Cscript%20src%3D%22https%3A//code.jquery.com/jquery-1.12.4.min.js%22%3E%3C/script%3E%0A%20%20%20%20%3Cscript%20src%3D%22https%3A//maxcdn.bootstrapcdn.com/bootstrap/3.2.0/js/bootstrap.min.js%22%3E%3C/script%3E%0A%20%20%20%20%3Cscript%20src%3D%22https%3A//cdnjs.cloudflare.com/ajax/libs/Leaflet.awesome-markers/2.0.2/leaflet.awesome-markers.js%22%3E%3C/script%3E%0A%20%20%20%20%3Clink%20rel%3D%22stylesheet%22%20href%3D%22https%3A//cdn.jsdelivr.net/npm/leaflet%401.6.0/dist/leaflet.css%22/%3E%0A%20%20%20%20%3Clink%20rel%3D%22stylesheet%22%20href%3D%22https%3A//maxcdn.bootstrapcdn.com/bootstrap/3.2.0/css/bootstrap.min.css%22/%3E%0A%20%20%20%20%3Clink%20rel%3D%22stylesheet%22%20href%3D%22https%3A//maxcdn.bootstrapcdn.com/bootstrap/3.2.0/css/bootstrap-theme.min.css%22/%3E%0A%20%20%20%20%3Clink%20rel%3D%22stylesheet%22%20href%3D%22https%3A//maxcdn.bootstrapcdn.com/font-awesome/4.6.3/css/font-awesome.min.css%22/%3E%0A%20%20%20%20%3Clink%20rel%3D%22stylesheet%22%20href%3D%22https%3A//cdnjs.cloudflare.com/ajax/libs/Leaflet.awesome-markers/2.0.2/leaflet.awesome-markers.css%22/%3E%0A%20%20%20%20%3Clink%20rel%3D%22stylesheet%22%20href%3D%22https%3A//cdn.jsdelivr.net/gh/python-visualization/folium/folium/templates/leaflet.awesome.rotate.min.css%22/%3E%0A%20%20%20%20%0A%20%20%20%20%20%20%20%20%20%20%20%20%3Cmeta%20name%3D%22viewport%22%20content%3D%22width%3Ddevice-width%2C%0A%20%20%20%20%20%20%20%20%20%20%20%20%20%20%20%20initial-scale%3D1.0%2C%20maximum-scale%3D1.0%2C%20user-scalable%3Dno%22%20/%3E%0A%20%20%20%20%20%20%20%20%20%20%20%20%3Cstyle%3E%0A%20%20%20%20%20%20%20%20%20%20%20%20%20%20%20%20%23map_6452c3caec2745d183e0036beda0001f%20%7B%0A%20%20%20%20%20%20%20%20%20%20%20%20%20%20%20%20%20%20%20%20position%3A%20relative%3B%0A%20%20%20%20%20%20%20%20%20%20%20%20%20%20%20%20%20%20%20%20width%3A%20100.0%25%3B%0A%20%20%20%20%20%20%20%20%20%20%20%20%20%20%20%20%20%20%20%20height%3A%20100.0%25%3B%0A%20%20%20%20%20%20%20%20%20%20%20%20%20%20%20%20%20%20%20%20left%3A%200.0%25%3B%0A%20%20%20%20%20%20%20%20%20%20%20%20%20%20%20%20%20%20%20%20top%3A%200.0%25%3B%0A%20%20%20%20%20%20%20%20%20%20%20%20%20%20%20%20%7D%0A%20%20%20%20%20%20%20%20%20%20%20%20%3C/style%3E%0A%20%20%20%20%20%20%20%20%0A%3C/head%3E%0A%3Cbody%3E%20%20%20%20%0A%20%20%20%20%0A%20%20%20%20%20%20%20%20%20%20%20%20%3Cdiv%20class%3D%22folium-map%22%20id%3D%22map_6452c3caec2745d183e0036beda0001f%22%20%3E%3C/div%3E%0A%20%20%20%20%20%20%20%20%0A%3C/body%3E%0A%3Cscript%3E%20%20%20%20%0A%20%20%20%20%0A%20%20%20%20%20%20%20%20%20%20%20%20var%20map_6452c3caec2745d183e0036beda0001f%20%3D%20L.map%28%0A%20%20%20%20%20%20%20%20%20%20%20%20%20%20%20%20%22map_6452c3caec2745d183e0036beda0001f%22%2C%0A%20%20%20%20%20%20%20%20%20%20%20%20%20%20%20%20%7B%0A%20%20%20%20%20%20%20%20%20%20%20%20%20%20%20%20%20%20%20%20center%3A%20%5B43.6534817%2C%20-79.3839347%5D%2C%0A%20%20%20%20%20%20%20%20%20%20%20%20%20%20%20%20%20%20%20%20crs%3A%20L.CRS.EPSG3857%2C%0A%20%20%20%20%20%20%20%20%20%20%20%20%20%20%20%20%20%20%20%20zoom%3A%2010%2C%0A%20%20%20%20%20%20%20%20%20%20%20%20%20%20%20%20%20%20%20%20zoomControl%3A%20true%2C%0A%20%20%20%20%20%20%20%20%20%20%20%20%20%20%20%20%20%20%20%20preferCanvas%3A%20false%2C%0A%20%20%20%20%20%20%20%20%20%20%20%20%20%20%20%20%7D%0A%20%20%20%20%20%20%20%20%20%20%20%20%29%3B%0A%0A%20%20%20%20%20%20%20%20%20%20%20%20%0A%0A%20%20%20%20%20%20%20%20%0A%20%20%20%20%0A%20%20%20%20%20%20%20%20%20%20%20%20var%20tile_layer_f9e0c31fa3f348d5b0fb42b517030af8%20%3D%20L.tileLayer%28%0A%20%20%20%20%20%20%20%20%20%20%20%20%20%20%20%20%22https%3A//%7Bs%7D.tile.openstreetmap.org/%7Bz%7D/%7Bx%7D/%7By%7D.png%22%2C%0A%20%20%20%20%20%20%20%20%20%20%20%20%20%20%20%20%7B%22attribution%22%3A%20%22Data%20by%20%5Cu0026copy%3B%20%5Cu003ca%20href%3D%5C%22http%3A//openstreetmap.org%5C%22%5Cu003eOpenStreetMap%5Cu003c/a%5Cu003e%2C%20under%20%5Cu003ca%20href%3D%5C%22http%3A//www.openstreetmap.org/copyright%5C%22%5Cu003eODbL%5Cu003c/a%5Cu003e.%22%2C%20%22detectRetina%22%3A%20false%2C%20%22maxNativeZoom%22%3A%2018%2C%20%22maxZoom%22%3A%2018%2C%20%22minZoom%22%3A%200%2C%20%22noWrap%22%3A%20false%2C%20%22opacity%22%3A%201%2C%20%22subdomains%22%3A%20%22abc%22%2C%20%22tms%22%3A%20false%7D%0A%20%20%20%20%20%20%20%20%20%20%20%20%29.addTo%28map_6452c3caec2745d183e0036beda0001f%29%3B%0A%20%20%20%20%20%20%20%20%0A%20%20%20%20%0A%20%20%20%20%20%20%20%20%20%20%20%20var%20circle_marker_c3e4e405bfb54a1c9c2c84e8a16747c3%20%3D%20L.circleMarker%28%0A%20%20%20%20%20%20%20%20%20%20%20%20%20%20%20%20%5B43.6514939%2C%20-79.3754179%5D%2C%0A%20%20%20%20%20%20%20%20%20%20%20%20%20%20%20%20%7B%22bubblingMouseEvents%22%3A%20true%2C%20%22color%22%3A%20%22red%22%2C%20%22dashArray%22%3A%20null%2C%20%22dashOffset%22%3A%20null%2C%20%22fill%22%3A%20true%2C%20%22fillColor%22%3A%20%22%23ffffff%22%2C%20%22fillOpacity%22%3A%200.7%2C%20%22fillRule%22%3A%20%22evenodd%22%2C%20%22lineCap%22%3A%20%22round%22%2C%20%22lineJoin%22%3A%20%22round%22%2C%20%22opacity%22%3A%201.0%2C%20%22radius%22%3A%205%2C%20%22stroke%22%3A%20true%2C%20%22weight%22%3A%203%7D%0A%20%20%20%20%20%20%20%20%20%20%20%20%29.addTo%28map_6452c3caec2745d183e0036beda0001f%29%3B%0A%20%20%20%20%20%20%20%20%0A%20%20%20%20%0A%20%20%20%20%20%20%20%20var%20popup_0342e316cf224e978da2a3f54717c2fc%20%3D%20L.popup%28%7B%22maxWidth%22%3A%20%22100%25%22%7D%29%3B%0A%0A%20%20%20%20%20%20%20%20%0A%20%20%20%20%20%20%20%20%20%20%20%20var%20html_7f19dba7c44d48dfb0633d249904c095%20%3D%20%24%28%60%3Cdiv%20id%3D%22html_7f19dba7c44d48dfb0633d249904c095%22%20style%3D%22width%3A%20100.0%25%3B%20height%3A%20100.0%25%3B%22%3ESt.%20James%20Town%2C%20Fresh%20On%20Front%3C/div%3E%60%29%5B0%5D%3B%0A%20%20%20%20%20%20%20%20%20%20%20%20popup_0342e316cf224e978da2a3f54717c2fc.setContent%28html_7f19dba7c44d48dfb0633d249904c095%29%3B%0A%20%20%20%20%20%20%20%20%0A%0A%20%20%20%20%20%20%20%20circle_marker_c3e4e405bfb54a1c9c2c84e8a16747c3.bindPopup%28popup_0342e316cf224e978da2a3f54717c2fc%29%0A%20%20%20%20%20%20%20%20%3B%0A%0A%20%20%20%20%20%20%20%20%0A%20%20%20%20%0A%20%20%20%20%0A%20%20%20%20%20%20%20%20%20%20%20%20var%20circle_marker_0daefd49118840efb90c12d3b9becc0f%20%3D%20L.circleMarker%28%0A%20%20%20%20%20%20%20%20%20%20%20%20%20%20%20%20%5B43.6447708%2C%20-79.3733064%5D%2C%0A%20%20%20%20%20%20%20%20%20%20%20%20%20%20%20%20%7B%22bubblingMouseEvents%22%3A%20true%2C%20%22color%22%3A%20%22red%22%2C%20%22dashArray%22%3A%20null%2C%20%22dashOffset%22%3A%20null%2C%20%22fill%22%3A%20true%2C%20%22fillColor%22%3A%20%22%23ffffff%22%2C%20%22fillOpacity%22%3A%200.7%2C%20%22fillRule%22%3A%20%22evenodd%22%2C%20%22lineCap%22%3A%20%22round%22%2C%20%22lineJoin%22%3A%20%22round%22%2C%20%22opacity%22%3A%201.0%2C%20%22radius%22%3A%205%2C%20%22stroke%22%3A%20true%2C%20%22weight%22%3A%203%7D%0A%20%20%20%20%20%20%20%20%20%20%20%20%29.addTo%28map_6452c3caec2745d183e0036beda0001f%29%3B%0A%20%20%20%20%20%20%20%20%0A%20%20%20%20%0A%20%20%20%20%20%20%20%20var%20popup_20190a7ebeeb4ba3981b8621adb8075f%20%3D%20L.popup%28%7B%22maxWidth%22%3A%20%22100%25%22%7D%29%3B%0A%0A%20%20%20%20%20%20%20%20%0A%20%20%20%20%20%20%20%20%20%20%20%20var%20html_c8f8c3d6ece44f54abb3971d677740f6%20%3D%20%24%28%60%3Cdiv%20id%3D%22html_c8f8c3d6ece44f54abb3971d677740f6%22%20style%3D%22width%3A%20100.0%25%3B%20height%3A%20100.0%25%3B%22%3EBerczy%20Park%2C%20Fresh%20On%20Front%3C/div%3E%60%29%5B0%5D%3B%0A%20%20%20%20%20%20%20%20%20%20%20%20popup_20190a7ebeeb4ba3981b8621adb8075f.setContent%28html_c8f8c3d6ece44f54abb3971d677740f6%29%3B%0A%20%20%20%20%20%20%20%20%0A%0A%20%20%20%20%20%20%20%20circle_marker_0daefd49118840efb90c12d3b9becc0f.bindPopup%28popup_20190a7ebeeb4ba3981b8621adb8075f%29%0A%20%20%20%20%20%20%20%20%3B%0A%0A%20%20%20%20%20%20%20%20%0A%20%20%20%20%0A%20%20%20%20%0A%20%20%20%20%20%20%20%20%20%20%20%20var%20circle_marker_5a6dab3f29a641eea4acbd1823d8ab29%20%3D%20L.circleMarker%28%0A%20%20%20%20%20%20%20%20%20%20%20%20%20%20%20%20%5B43.6579524%2C%20-79.3873826%5D%2C%0A%20%20%20%20%20%20%20%20%20%20%20%20%20%20%20%20%7B%22bubblingMouseEvents%22%3A%20true%2C%20%22color%22%3A%20%22red%22%2C%20%22dashArray%22%3A%20null%2C%20%22dashOffset%22%3A%20null%2C%20%22fill%22%3A%20true%2C%20%22fillColor%22%3A%20%22%23ffffff%22%2C%20%22fillOpacity%22%3A%200.7%2C%20%22fillRule%22%3A%20%22evenodd%22%2C%20%22lineCap%22%3A%20%22round%22%2C%20%22lineJoin%22%3A%20%22round%22%2C%20%22opacity%22%3A%201.0%2C%20%22radius%22%3A%205%2C%20%22stroke%22%3A%20true%2C%20%22weight%22%3A%203%7D%0A%20%20%20%20%20%20%20%20%20%20%20%20%29.addTo%28map_6452c3caec2745d183e0036beda0001f%29%3B%0A%20%20%20%20%20%20%20%20%0A%20%20%20%20%0A%20%20%20%20%20%20%20%20var%20popup_65f0b616278e46a699202c21fae0b82a%20%3D%20L.popup%28%7B%22maxWidth%22%3A%20%22100%25%22%7D%29%3B%0A%0A%20%20%20%20%20%20%20%20%0A%20%20%20%20%20%20%20%20%20%20%20%20var%20html_b18574362a194ae1bc4d214f66bc9175%20%3D%20%24%28%60%3Cdiv%20id%3D%22html_b18574362a194ae1bc4d214f66bc9175%22%20style%3D%22width%3A%20100.0%25%3B%20height%3A%20100.0%25%3B%22%3ECentral%20Bay%20Street%2C%20Vegetarian%20Haven%3C/div%3E%60%29%5B0%5D%3B%0A%20%20%20%20%20%20%20%20%20%20%20%20popup_65f0b616278e46a699202c21fae0b82a.setContent%28html_b18574362a194ae1bc4d214f66bc9175%29%3B%0A%20%20%20%20%20%20%20%20%0A%0A%20%20%20%20%20%20%20%20circle_marker_5a6dab3f29a641eea4acbd1823d8ab29.bindPopup%28popup_65f0b616278e46a699202c21fae0b82a%29%0A%20%20%20%20%20%20%20%20%3B%0A%0A%20%20%20%20%20%20%20%20%0A%20%20%20%20%0A%20%20%20%20%0A%20%20%20%20%20%20%20%20%20%20%20%20var%20circle_marker_d150b245418d4108994c9de9bc413004%20%3D%20L.circleMarker%28%0A%20%20%20%20%20%20%20%20%20%20%20%20%20%20%20%20%5B43.6505712%2C%20-79.3845675%5D%2C%0A%20%20%20%20%20%20%20%20%20%20%20%20%20%20%20%20%7B%22bubblingMouseEvents%22%3A%20true%2C%20%22color%22%3A%20%22red%22%2C%20%22dashArray%22%3A%20null%2C%20%22dashOffset%22%3A%20null%2C%20%22fill%22%3A%20true%2C%20%22fillColor%22%3A%20%22%23ffffff%22%2C%20%22fillOpacity%22%3A%200.7%2C%20%22fillRule%22%3A%20%22evenodd%22%2C%20%22lineCap%22%3A%20%22round%22%2C%20%22lineJoin%22%3A%20%22round%22%2C%20%22opacity%22%3A%201.0%2C%20%22radius%22%3A%205%2C%20%22stroke%22%3A%20true%2C%20%22weight%22%3A%203%7D%0A%20%20%20%20%20%20%20%20%20%20%20%20%29.addTo%28map_6452c3caec2745d183e0036beda0001f%29%3B%0A%20%20%20%20%20%20%20%20%0A%20%20%20%20%0A%20%20%20%20%20%20%20%20var%20popup_b17a8cb0fcb54470b6925517c320018c%20%3D%20L.popup%28%7B%22maxWidth%22%3A%20%22100%25%22%7D%29%3B%0A%0A%20%20%20%20%20%20%20%20%0A%20%20%20%20%20%20%20%20%20%20%20%20var%20html_6be30ee048f549749e2c347829763ebf%20%3D%20%24%28%60%3Cdiv%20id%3D%22html_6be30ee048f549749e2c347829763ebf%22%20style%3D%22width%3A%20100.0%25%3B%20height%3A%20100.0%25%3B%22%3ERichmond%2C%20Adelaide%2C%20King%2C%20Rosalinda%3C/div%3E%60%29%5B0%5D%3B%0A%20%20%20%20%20%20%20%20%20%20%20%20popup_b17a8cb0fcb54470b6925517c320018c.setContent%28html_6be30ee048f549749e2c347829763ebf%29%3B%0A%20%20%20%20%20%20%20%20%0A%0A%20%20%20%20%20%20%20%20circle_marker_d150b245418d4108994c9de9bc413004.bindPopup%28popup_b17a8cb0fcb54470b6925517c320018c%29%0A%20%20%20%20%20%20%20%20%3B%0A%0A%20%20%20%20%20%20%20%20%0A%20%20%20%20%0A%20%20%20%20%0A%20%20%20%20%20%20%20%20%20%20%20%20var%20circle_marker_be8da7902cc341f88e8e23d1dc54ab5a%20%3D%20L.circleMarker%28%0A%20%20%20%20%20%20%20%20%20%20%20%20%20%20%20%20%5B43.6505712%2C%20-79.3845675%5D%2C%0A%20%20%20%20%20%20%20%20%20%20%20%20%20%20%20%20%7B%22bubblingMouseEvents%22%3A%20true%2C%20%22color%22%3A%20%22red%22%2C%20%22dashArray%22%3A%20null%2C%20%22dashOffset%22%3A%20null%2C%20%22fill%22%3A%20true%2C%20%22fillColor%22%3A%20%22%23ffffff%22%2C%20%22fillOpacity%22%3A%200.7%2C%20%22fillRule%22%3A%20%22evenodd%22%2C%20%22lineCap%22%3A%20%22round%22%2C%20%22lineJoin%22%3A%20%22round%22%2C%20%22opacity%22%3A%201.0%2C%20%22radius%22%3A%205%2C%20%22stroke%22%3A%20true%2C%20%22weight%22%3A%203%7D%0A%20%20%20%20%20%20%20%20%20%20%20%20%29.addTo%28map_6452c3caec2745d183e0036beda0001f%29%3B%0A%20%20%20%20%20%20%20%20%0A%20%20%20%20%0A%20%20%20%20%20%20%20%20var%20popup_f14cbbaf07994738a9fafa8aa6a2bd17%20%3D%20L.popup%28%7B%22maxWidth%22%3A%20%22100%25%22%7D%29%3B%0A%0A%20%20%20%20%20%20%20%20%0A%20%20%20%20%20%20%20%20%20%20%20%20var%20html_3c236d0682be4b52931c614173f95dd2%20%3D%20%24%28%60%3Cdiv%20id%3D%22html_3c236d0682be4b52931c614173f95dd2%22%20style%3D%22width%3A%20100.0%25%3B%20height%3A%20100.0%25%3B%22%3ERichmond%2C%20Adelaide%2C%20King%2C%20Planta%20Queen%3C/div%3E%60%29%5B0%5D%3B%0A%20%20%20%20%20%20%20%20%20%20%20%20popup_f14cbbaf07994738a9fafa8aa6a2bd17.setContent%28html_3c236d0682be4b52931c614173f95dd2%29%3B%0A%20%20%20%20%20%20%20%20%0A%0A%20%20%20%20%20%20%20%20circle_marker_be8da7902cc341f88e8e23d1dc54ab5a.bindPopup%28popup_f14cbbaf07994738a9fafa8aa6a2bd17%29%0A%20%20%20%20%20%20%20%20%3B%0A%0A%20%20%20%20%20%20%20%20%0A%20%20%20%20%0A%20%20%20%20%0A%20%20%20%20%20%20%20%20%20%20%20%20var%20circle_marker_5c1314a6b3be484f97f2d444496421a5%20%3D%20L.circleMarker%28%0A%20%20%20%20%20%20%20%20%20%20%20%20%20%20%20%20%5B43.6408157%2C%20-79.3817523%5D%2C%0A%20%20%20%20%20%20%20%20%20%20%20%20%20%20%20%20%7B%22bubblingMouseEvents%22%3A%20true%2C%20%22color%22%3A%20%22red%22%2C%20%22dashArray%22%3A%20null%2C%20%22dashOffset%22%3A%20null%2C%20%22fill%22%3A%20true%2C%20%22fillColor%22%3A%20%22%23ffffff%22%2C%20%22fillOpacity%22%3A%200.7%2C%20%22fillRule%22%3A%20%22evenodd%22%2C%20%22lineCap%22%3A%20%22round%22%2C%20%22lineJoin%22%3A%20%22round%22%2C%20%22opacity%22%3A%201.0%2C%20%22radius%22%3A%205%2C%20%22stroke%22%3A%20true%2C%20%22weight%22%3A%203%7D%0A%20%20%20%20%20%20%20%20%20%20%20%20%29.addTo%28map_6452c3caec2745d183e0036beda0001f%29%3B%0A%20%20%20%20%20%20%20%20%0A%20%20%20%20%0A%20%20%20%20%20%20%20%20var%20popup_28aadf666f2842abb270966b800e059b%20%3D%20L.popup%28%7B%22maxWidth%22%3A%20%22100%25%22%7D%29%3B%0A%0A%20%20%20%20%20%20%20%20%0A%20%20%20%20%20%20%20%20%20%20%20%20var%20html_c46ae051820b4f6f80b65be746dfd115%20%3D%20%24%28%60%3Cdiv%20id%3D%22html_c46ae051820b4f6f80b65be746dfd115%22%20style%3D%22width%3A%20100.0%25%3B%20height%3A%20100.0%25%3B%22%3EHarbourfront%20East%2C%20Union%20Station%2C%20Toronto%20Islands%2C%20Kupfert%20%26amp%3B%20Kim%3C/div%3E%60%29%5B0%5D%3B%0A%20%20%20%20%20%20%20%20%20%20%20%20popup_28aadf666f2842abb270966b800e059b.setContent%28html_c46ae051820b4f6f80b65be746dfd115%29%3B%0A%20%20%20%20%20%20%20%20%0A%0A%20%20%20%20%20%20%20%20circle_marker_5c1314a6b3be484f97f2d444496421a5.bindPopup%28popup_28aadf666f2842abb270966b800e059b%29%0A%20%20%20%20%20%20%20%20%3B%0A%0A%20%20%20%20%20%20%20%20%0A%20%20%20%20%0A%20%20%20%20%0A%20%20%20%20%20%20%20%20%20%20%20%20var%20circle_marker_faf4be05954e4b479f69d0f8db20125c%20%3D%20L.circleMarker%28%0A%20%20%20%20%20%20%20%20%20%20%20%20%20%20%20%20%5B43.6479267%2C%20-79.4197497%5D%2C%0A%20%20%20%20%20%20%20%20%20%20%20%20%20%20%20%20%7B%22bubblingMouseEvents%22%3A%20true%2C%20%22color%22%3A%20%22red%22%2C%20%22dashArray%22%3A%20null%2C%20%22dashOffset%22%3A%20null%2C%20%22fill%22%3A%20true%2C%20%22fillColor%22%3A%20%22%23ffffff%22%2C%20%22fillOpacity%22%3A%200.7%2C%20%22fillRule%22%3A%20%22evenodd%22%2C%20%22lineCap%22%3A%20%22round%22%2C%20%22lineJoin%22%3A%20%22round%22%2C%20%22opacity%22%3A%201.0%2C%20%22radius%22%3A%205%2C%20%22stroke%22%3A%20true%2C%20%22weight%22%3A%203%7D%0A%20%20%20%20%20%20%20%20%20%20%20%20%29.addTo%28map_6452c3caec2745d183e0036beda0001f%29%3B%0A%20%20%20%20%20%20%20%20%0A%20%20%20%20%0A%20%20%20%20%20%20%20%20var%20popup_c14884df85b94fd7aebf4a854699ce56%20%3D%20L.popup%28%7B%22maxWidth%22%3A%20%22100%25%22%7D%29%3B%0A%0A%20%20%20%20%20%20%20%20%0A%20%20%20%20%20%20%20%20%20%20%20%20var%20html_9b8ca52872984afbb4b297045db665ac%20%3D%20%24%28%60%3Cdiv%20id%3D%22html_9b8ca52872984afbb4b297045db665ac%22%20style%3D%22width%3A%20100.0%25%3B%20height%3A%20100.0%25%3B%22%3ELittle%20Portugal%2C%20Trinity%2C%20Veghed%3C/div%3E%60%29%5B0%5D%3B%0A%20%20%20%20%20%20%20%20%20%20%20%20popup_c14884df85b94fd7aebf4a854699ce56.setContent%28html_9b8ca52872984afbb4b297045db665ac%29%3B%0A%20%20%20%20%20%20%20%20%0A%0A%20%20%20%20%20%20%20%20circle_marker_faf4be05954e4b479f69d0f8db20125c.bindPopup%28popup_c14884df85b94fd7aebf4a854699ce56%29%0A%20%20%20%20%20%20%20%20%3B%0A%0A%20%20%20%20%20%20%20%20%0A%20%20%20%20%0A%20%20%20%20%0A%20%20%20%20%20%20%20%20%20%20%20%20var%20circle_marker_2fdb8806fbf2489fb5fd685f11e162a7%20%3D%20L.circleMarker%28%0A%20%20%20%20%20%20%20%20%20%20%20%20%20%20%20%20%5B43.6471768%2C%20-79.3815764%5D%2C%0A%20%20%20%20%20%20%20%20%20%20%20%20%20%20%20%20%7B%22bubblingMouseEvents%22%3A%20true%2C%20%22color%22%3A%20%22red%22%2C%20%22dashArray%22%3A%20null%2C%20%22dashOffset%22%3A%20null%2C%20%22fill%22%3A%20true%2C%20%22fillColor%22%3A%20%22%23ffffff%22%2C%20%22fillOpacity%22%3A%200.7%2C%20%22fillRule%22%3A%20%22evenodd%22%2C%20%22lineCap%22%3A%20%22round%22%2C%20%22lineJoin%22%3A%20%22round%22%2C%20%22opacity%22%3A%201.0%2C%20%22radius%22%3A%205%2C%20%22stroke%22%3A%20true%2C%20%22weight%22%3A%203%7D%0A%20%20%20%20%20%20%20%20%20%20%20%20%29.addTo%28map_6452c3caec2745d183e0036beda0001f%29%3B%0A%20%20%20%20%20%20%20%20%0A%20%20%20%20%0A%20%20%20%20%20%20%20%20var%20popup_5e810376a7e54b82b98cbcd98d935051%20%3D%20L.popup%28%7B%22maxWidth%22%3A%20%22100%25%22%7D%29%3B%0A%0A%20%20%20%20%20%20%20%20%0A%20%20%20%20%20%20%20%20%20%20%20%20var%20html_7598bc9438c5488aa95e9261ff57e3fc%20%3D%20%24%28%60%3Cdiv%20id%3D%22html_7598bc9438c5488aa95e9261ff57e3fc%22%20style%3D%22width%3A%20100.0%25%3B%20height%3A%20100.0%25%3B%22%3EToronto%20Dominion%20Centre%2C%20Design%20Exchange%2C%20Rosalinda%3C/div%3E%60%29%5B0%5D%3B%0A%20%20%20%20%20%20%20%20%20%20%20%20popup_5e810376a7e54b82b98cbcd98d935051.setContent%28html_7598bc9438c5488aa95e9261ff57e3fc%29%3B%0A%20%20%20%20%20%20%20%20%0A%0A%20%20%20%20%20%20%20%20circle_marker_2fdb8806fbf2489fb5fd685f11e162a7.bindPopup%28popup_5e810376a7e54b82b98cbcd98d935051%29%0A%20%20%20%20%20%20%20%20%3B%0A%0A%20%20%20%20%20%20%20%20%0A%20%20%20%20%0A%20%20%20%20%0A%20%20%20%20%20%20%20%20%20%20%20%20var%20circle_marker_4ccf73c383ce4a2791223c1442c16f0a%20%3D%20L.circleMarker%28%0A%20%20%20%20%20%20%20%20%20%20%20%20%20%20%20%20%5B43.6481985%2C%20-79.3798169%5D%2C%0A%20%20%20%20%20%20%20%20%20%20%20%20%20%20%20%20%7B%22bubblingMouseEvents%22%3A%20true%2C%20%22color%22%3A%20%22red%22%2C%20%22dashArray%22%3A%20null%2C%20%22dashOffset%22%3A%20null%2C%20%22fill%22%3A%20true%2C%20%22fillColor%22%3A%20%22%23ffffff%22%2C%20%22fillOpacity%22%3A%200.7%2C%20%22fillRule%22%3A%20%22evenodd%22%2C%20%22lineCap%22%3A%20%22round%22%2C%20%22lineJoin%22%3A%20%22round%22%2C%20%22opacity%22%3A%201.0%2C%20%22radius%22%3A%205%2C%20%22stroke%22%3A%20true%2C%20%22weight%22%3A%203%7D%0A%20%20%20%20%20%20%20%20%20%20%20%20%29.addTo%28map_6452c3caec2745d183e0036beda0001f%29%3B%0A%20%20%20%20%20%20%20%20%0A%20%20%20%20%0A%20%20%20%20%20%20%20%20var%20popup_a423bf6873b34363a3525209d1b00bc9%20%3D%20L.popup%28%7B%22maxWidth%22%3A%20%22100%25%22%7D%29%3B%0A%0A%20%20%20%20%20%20%20%20%0A%20%20%20%20%20%20%20%20%20%20%20%20var%20html_8b392ca9d34240a0af8360125cb74341%20%3D%20%24%28%60%3Cdiv%20id%3D%22html_8b392ca9d34240a0af8360125cb74341%22%20style%3D%22width%3A%20100.0%25%3B%20height%3A%20100.0%25%3B%22%3ECommerce%20Court%2C%20Victoria%20Hotel%2C%20Fresh%20On%20Front%3C/div%3E%60%29%5B0%5D%3B%0A%20%20%20%20%20%20%20%20%20%20%20%20popup_a423bf6873b34363a3525209d1b00bc9.setContent%28html_8b392ca9d34240a0af8360125cb74341%29%3B%0A%20%20%20%20%20%20%20%20%0A%0A%20%20%20%20%20%20%20%20circle_marker_4ccf73c383ce4a2791223c1442c16f0a.bindPopup%28popup_a423bf6873b34363a3525209d1b00bc9%29%0A%20%20%20%20%20%20%20%20%3B%0A%0A%20%20%20%20%20%20%20%20%0A%20%20%20%20%0A%20%20%20%20%0A%20%20%20%20%20%20%20%20%20%20%20%20var%20circle_marker_0689f55592264d2b97ecc8fb9b5ff0a7%20%3D%20L.circleMarker%28%0A%20%20%20%20%20%20%20%20%20%20%20%20%20%20%20%20%5B43.6481985%2C%20-79.3798169%5D%2C%0A%20%20%20%20%20%20%20%20%20%20%20%20%20%20%20%20%7B%22bubblingMouseEvents%22%3A%20true%2C%20%22color%22%3A%20%22red%22%2C%20%22dashArray%22%3A%20null%2C%20%22dashOffset%22%3A%20null%2C%20%22fill%22%3A%20true%2C%20%22fillColor%22%3A%20%22%23ffffff%22%2C%20%22fillOpacity%22%3A%200.7%2C%20%22fillRule%22%3A%20%22evenodd%22%2C%20%22lineCap%22%3A%20%22round%22%2C%20%22lineJoin%22%3A%20%22round%22%2C%20%22opacity%22%3A%201.0%2C%20%22radius%22%3A%205%2C%20%22stroke%22%3A%20true%2C%20%22weight%22%3A%203%7D%0A%20%20%20%20%20%20%20%20%20%20%20%20%29.addTo%28map_6452c3caec2745d183e0036beda0001f%29%3B%0A%20%20%20%20%20%20%20%20%0A%20%20%20%20%0A%20%20%20%20%20%20%20%20var%20popup_86936338afd4449eb50ab9fd8533209e%20%3D%20L.popup%28%7B%22maxWidth%22%3A%20%22100%25%22%7D%29%3B%0A%0A%20%20%20%20%20%20%20%20%0A%20%20%20%20%20%20%20%20%20%20%20%20var%20html_2a8e3ffd0eb14774b9ad72f170db137b%20%3D%20%24%28%60%3Cdiv%20id%3D%22html_2a8e3ffd0eb14774b9ad72f170db137b%22%20style%3D%22width%3A%20100.0%25%3B%20height%3A%20100.0%25%3B%22%3ECommerce%20Court%2C%20Victoria%20Hotel%2C%20Rosalinda%3C/div%3E%60%29%5B0%5D%3B%0A%20%20%20%20%20%20%20%20%20%20%20%20popup_86936338afd4449eb50ab9fd8533209e.setContent%28html_2a8e3ffd0eb14774b9ad72f170db137b%29%3B%0A%20%20%20%20%20%20%20%20%0A%0A%20%20%20%20%20%20%20%20circle_marker_0689f55592264d2b97ecc8fb9b5ff0a7.bindPopup%28popup_86936338afd4449eb50ab9fd8533209e%29%0A%20%20%20%20%20%20%20%20%3B%0A%0A%20%20%20%20%20%20%20%20%0A%20%20%20%20%0A%20%20%20%20%0A%20%20%20%20%20%20%20%20%20%20%20%20var%20circle_marker_eafe7d79d28f472bb0804e21b2c631a8%20%3D%20L.circleMarker%28%0A%20%20%20%20%20%20%20%20%20%20%20%20%20%20%20%20%5B43.6515706%2C%20-79.4844499%5D%2C%0A%20%20%20%20%20%20%20%20%20%20%20%20%20%20%20%20%7B%22bubblingMouseEvents%22%3A%20true%2C%20%22color%22%3A%20%22red%22%2C%20%22dashArray%22%3A%20null%2C%20%22dashOffset%22%3A%20null%2C%20%22fill%22%3A%20true%2C%20%22fillColor%22%3A%20%22%23ffffff%22%2C%20%22fillOpacity%22%3A%200.7%2C%20%22fillRule%22%3A%20%22evenodd%22%2C%20%22lineCap%22%3A%20%22round%22%2C%20%22lineJoin%22%3A%20%22round%22%2C%20%22opacity%22%3A%201.0%2C%20%22radius%22%3A%205%2C%20%22stroke%22%3A%20true%2C%20%22weight%22%3A%203%7D%0A%20%20%20%20%20%20%20%20%20%20%20%20%29.addTo%28map_6452c3caec2745d183e0036beda0001f%29%3B%0A%20%20%20%20%20%20%20%20%0A%20%20%20%20%0A%20%20%20%20%20%20%20%20var%20popup_4264ed621c584486adbf472348963d78%20%3D%20L.popup%28%7B%22maxWidth%22%3A%20%22100%25%22%7D%29%3B%0A%0A%20%20%20%20%20%20%20%20%0A%20%20%20%20%20%20%20%20%20%20%20%20var%20html_67cdb769f6064590b88f97a2b7dac21b%20%3D%20%24%28%60%3Cdiv%20id%3D%22html_67cdb769f6064590b88f97a2b7dac21b%22%20style%3D%22width%3A%20100.0%25%3B%20height%3A%20100.0%25%3B%22%3ERunnymede%2C%20Swansea%2C%20Awai%3C/div%3E%60%29%5B0%5D%3B%0A%20%20%20%20%20%20%20%20%20%20%20%20popup_4264ed621c584486adbf472348963d78.setContent%28html_67cdb769f6064590b88f97a2b7dac21b%29%3B%0A%20%20%20%20%20%20%20%20%0A%0A%20%20%20%20%20%20%20%20circle_marker_eafe7d79d28f472bb0804e21b2c631a8.bindPopup%28popup_4264ed621c584486adbf472348963d78%29%0A%20%20%20%20%20%20%20%20%3B%0A%0A%20%20%20%20%20%20%20%20%0A%20%20%20%20%0A%20%20%20%20%0A%20%20%20%20%20%20%20%20%20%20%20%20var%20circle_marker_4e67a613cfff41b1a3778e61c1dab18d%20%3D%20L.circleMarker%28%0A%20%20%20%20%20%20%20%20%20%20%20%20%20%20%20%20%5B43.6532057%2C%20-79.4000493%5D%2C%0A%20%20%20%20%20%20%20%20%20%20%20%20%20%20%20%20%7B%22bubblingMouseEvents%22%3A%20true%2C%20%22color%22%3A%20%22red%22%2C%20%22dashArray%22%3A%20null%2C%20%22dashOffset%22%3A%20null%2C%20%22fill%22%3A%20true%2C%20%22fillColor%22%3A%20%22%23ffffff%22%2C%20%22fillOpacity%22%3A%200.7%2C%20%22fillRule%22%3A%20%22evenodd%22%2C%20%22lineCap%22%3A%20%22round%22%2C%20%22lineJoin%22%3A%20%22round%22%2C%20%22opacity%22%3A%201.0%2C%20%22radius%22%3A%205%2C%20%22stroke%22%3A%20true%2C%20%22weight%22%3A%203%7D%0A%20%20%20%20%20%20%20%20%20%20%20%20%29.addTo%28map_6452c3caec2745d183e0036beda0001f%29%3B%0A%20%20%20%20%20%20%20%20%0A%20%20%20%20%0A%20%20%20%20%20%20%20%20var%20popup_93e9fd0352514179b6bf86bb88aca4c4%20%3D%20L.popup%28%7B%22maxWidth%22%3A%20%22100%25%22%7D%29%3B%0A%0A%20%20%20%20%20%20%20%20%0A%20%20%20%20%20%20%20%20%20%20%20%20var%20html_4182c9b84f344773ac4bb8407b8187f3%20%3D%20%24%28%60%3Cdiv%20id%3D%22html_4182c9b84f344773ac4bb8407b8187f3%22%20style%3D%22width%3A%20100.0%25%3B%20height%3A%20100.0%25%3B%22%3EKensington%20Market%2C%20Chinatown%2C%20Grange%20Park%2C%20Hibiscus%3C/div%3E%60%29%5B0%5D%3B%0A%20%20%20%20%20%20%20%20%20%20%20%20popup_93e9fd0352514179b6bf86bb88aca4c4.setContent%28html_4182c9b84f344773ac4bb8407b8187f3%29%3B%0A%20%20%20%20%20%20%20%20%0A%0A%20%20%20%20%20%20%20%20circle_marker_4e67a613cfff41b1a3778e61c1dab18d.bindPopup%28popup_93e9fd0352514179b6bf86bb88aca4c4%29%0A%20%20%20%20%20%20%20%20%3B%0A%0A%20%20%20%20%20%20%20%20%0A%20%20%20%20%0A%20%20%20%20%0A%20%20%20%20%20%20%20%20%20%20%20%20var%20circle_marker_0f6ea73b680744af92e6d6f3a6d3dec6%20%3D%20L.circleMarker%28%0A%20%20%20%20%20%20%20%20%20%20%20%20%20%20%20%20%5B43.6532057%2C%20-79.4000493%5D%2C%0A%20%20%20%20%20%20%20%20%20%20%20%20%20%20%20%20%7B%22bubblingMouseEvents%22%3A%20true%2C%20%22color%22%3A%20%22red%22%2C%20%22dashArray%22%3A%20null%2C%20%22dashOffset%22%3A%20null%2C%20%22fill%22%3A%20true%2C%20%22fillColor%22%3A%20%22%23ffffff%22%2C%20%22fillOpacity%22%3A%200.7%2C%20%22fillRule%22%3A%20%22evenodd%22%2C%20%22lineCap%22%3A%20%22round%22%2C%20%22lineJoin%22%3A%20%22round%22%2C%20%22opacity%22%3A%201.0%2C%20%22radius%22%3A%205%2C%20%22stroke%22%3A%20true%2C%20%22weight%22%3A%203%7D%0A%20%20%20%20%20%20%20%20%20%20%20%20%29.addTo%28map_6452c3caec2745d183e0036beda0001f%29%3B%0A%20%20%20%20%20%20%20%20%0A%20%20%20%20%0A%20%20%20%20%20%20%20%20var%20popup_edc42632c0ec49f192717199997b34f1%20%3D%20L.popup%28%7B%22maxWidth%22%3A%20%22100%25%22%7D%29%3B%0A%0A%20%20%20%20%20%20%20%20%0A%20%20%20%20%20%20%20%20%20%20%20%20var%20html_de0707b28286435584995097d251a503%20%3D%20%24%28%60%3Cdiv%20id%3D%22html_de0707b28286435584995097d251a503%22%20style%3D%22width%3A%20100.0%25%3B%20height%3A%20100.0%25%3B%22%3EKensington%20Market%2C%20Chinatown%2C%20Grange%20Park%2C%20Urban%20Herbivore%3C/div%3E%60%29%5B0%5D%3B%0A%20%20%20%20%20%20%20%20%20%20%20%20popup_edc42632c0ec49f192717199997b34f1.setContent%28html_de0707b28286435584995097d251a503%29%3B%0A%20%20%20%20%20%20%20%20%0A%0A%20%20%20%20%20%20%20%20circle_marker_0f6ea73b680744af92e6d6f3a6d3dec6.bindPopup%28popup_edc42632c0ec49f192717199997b34f1%29%0A%20%20%20%20%20%20%20%20%3B%0A%0A%20%20%20%20%20%20%20%20%0A%20%20%20%20%0A%20%20%20%20%0A%20%20%20%20%20%20%20%20%20%20%20%20var%20circle_marker_49a682c5cb24476f80a07edd886bf12e%20%3D%20L.circleMarker%28%0A%20%20%20%20%20%20%20%20%20%20%20%20%20%20%20%20%5B43.6532057%2C%20-79.4000493%5D%2C%0A%20%20%20%20%20%20%20%20%20%20%20%20%20%20%20%20%7B%22bubblingMouseEvents%22%3A%20true%2C%20%22color%22%3A%20%22red%22%2C%20%22dashArray%22%3A%20null%2C%20%22dashOffset%22%3A%20null%2C%20%22fill%22%3A%20true%2C%20%22fillColor%22%3A%20%22%23ffffff%22%2C%20%22fillOpacity%22%3A%200.7%2C%20%22fillRule%22%3A%20%22evenodd%22%2C%20%22lineCap%22%3A%20%22round%22%2C%20%22lineJoin%22%3A%20%22round%22%2C%20%22opacity%22%3A%201.0%2C%20%22radius%22%3A%205%2C%20%22stroke%22%3A%20true%2C%20%22weight%22%3A%203%7D%0A%20%20%20%20%20%20%20%20%20%20%20%20%29.addTo%28map_6452c3caec2745d183e0036beda0001f%29%3B%0A%20%20%20%20%20%20%20%20%0A%20%20%20%20%0A%20%20%20%20%20%20%20%20var%20popup_f7f8f144d4ec45759718abbdb6bdf920%20%3D%20L.popup%28%7B%22maxWidth%22%3A%20%22100%25%22%7D%29%3B%0A%0A%20%20%20%20%20%20%20%20%0A%20%20%20%20%20%20%20%20%20%20%20%20var%20html_f93629d5bd2348ada18f899515b6d6e3%20%3D%20%24%28%60%3Cdiv%20id%3D%22html_f93629d5bd2348ada18f899515b6d6e3%22%20style%3D%22width%3A%20100.0%25%3B%20height%3A%20100.0%25%3B%22%3EKensington%20Market%2C%20Chinatown%2C%20Grange%20Park%2C%20Buddha%26%2339%3Bs%20Vegetarian%3C/div%3E%60%29%5B0%5D%3B%0A%20%20%20%20%20%20%20%20%20%20%20%20popup_f7f8f144d4ec45759718abbdb6bdf920.setContent%28html_f93629d5bd2348ada18f899515b6d6e3%29%3B%0A%20%20%20%20%20%20%20%20%0A%0A%20%20%20%20%20%20%20%20circle_marker_49a682c5cb24476f80a07edd886bf12e.bindPopup%28popup_f7f8f144d4ec45759718abbdb6bdf920%29%0A%20%20%20%20%20%20%20%20%3B%0A%0A%20%20%20%20%20%20%20%20%0A%20%20%20%20%0A%20%20%20%20%0A%20%20%20%20%20%20%20%20%20%20%20%20var%20circle_marker_50ba6cf592744ca0b49dc23a0e9de1ce%20%3D%20L.circleMarker%28%0A%20%20%20%20%20%20%20%20%20%20%20%20%20%20%20%20%5B43.6464352%2C%20-79.374846%5D%2C%0A%20%20%20%20%20%20%20%20%20%20%20%20%20%20%20%20%7B%22bubblingMouseEvents%22%3A%20true%2C%20%22color%22%3A%20%22red%22%2C%20%22dashArray%22%3A%20null%2C%20%22dashOffset%22%3A%20null%2C%20%22fill%22%3A%20true%2C%20%22fillColor%22%3A%20%22%23ffffff%22%2C%20%22fillOpacity%22%3A%200.7%2C%20%22fillRule%22%3A%20%22evenodd%22%2C%20%22lineCap%22%3A%20%22round%22%2C%20%22lineJoin%22%3A%20%22round%22%2C%20%22opacity%22%3A%201.0%2C%20%22radius%22%3A%205%2C%20%22stroke%22%3A%20true%2C%20%22weight%22%3A%203%7D%0A%20%20%20%20%20%20%20%20%20%20%20%20%29.addTo%28map_6452c3caec2745d183e0036beda0001f%29%3B%0A%20%20%20%20%20%20%20%20%0A%20%20%20%20%0A%20%20%20%20%20%20%20%20var%20popup_080fbed969774c0fb909d75c77ed41d4%20%3D%20L.popup%28%7B%22maxWidth%22%3A%20%22100%25%22%7D%29%3B%0A%0A%20%20%20%20%20%20%20%20%0A%20%20%20%20%20%20%20%20%20%20%20%20var%20html_466c129d31fa44e8939ae495700759ee%20%3D%20%24%28%60%3Cdiv%20id%3D%22html_466c129d31fa44e8939ae495700759ee%22%20style%3D%22width%3A%20100.0%25%3B%20height%3A%20100.0%25%3B%22%3EEnclave%20of%20M5E%2C%20Fresh%20On%20Front%3C/div%3E%60%29%5B0%5D%3B%0A%20%20%20%20%20%20%20%20%20%20%20%20popup_080fbed969774c0fb909d75c77ed41d4.setContent%28html_466c129d31fa44e8939ae495700759ee%29%3B%0A%20%20%20%20%20%20%20%20%0A%0A%20%20%20%20%20%20%20%20circle_marker_50ba6cf592744ca0b49dc23a0e9de1ce.bindPopup%28popup_080fbed969774c0fb909d75c77ed41d4%29%0A%20%20%20%20%20%20%20%20%3B%0A%0A%20%20%20%20%20%20%20%20%0A%20%20%20%20%0A%20%20%20%20%0A%20%20%20%20%20%20%20%20%20%20%20%20var%20circle_marker_dca40e00022744c9ab223e86bc138787%20%3D%20L.circleMarker%28%0A%20%20%20%20%20%20%20%20%20%20%20%20%20%20%20%20%5B43.6484292%2C%20-79.3822802%5D%2C%0A%20%20%20%20%20%20%20%20%20%20%20%20%20%20%20%20%7B%22bubblingMouseEvents%22%3A%20true%2C%20%22color%22%3A%20%22red%22%2C%20%22dashArray%22%3A%20null%2C%20%22dashOffset%22%3A%20null%2C%20%22fill%22%3A%20true%2C%20%22fillColor%22%3A%20%22%23ffffff%22%2C%20%22fillOpacity%22%3A%200.7%2C%20%22fillRule%22%3A%20%22evenodd%22%2C%20%22lineCap%22%3A%20%22round%22%2C%20%22lineJoin%22%3A%20%22round%22%2C%20%22opacity%22%3A%201.0%2C%20%22radius%22%3A%205%2C%20%22stroke%22%3A%20true%2C%20%22weight%22%3A%203%7D%0A%20%20%20%20%20%20%20%20%20%20%20%20%29.addTo%28map_6452c3caec2745d183e0036beda0001f%29%3B%0A%20%20%20%20%20%20%20%20%0A%20%20%20%20%0A%20%20%20%20%20%20%20%20var%20popup_2343cbb48d9b4cf2b3f1f6db9d598fc6%20%3D%20L.popup%28%7B%22maxWidth%22%3A%20%22100%25%22%7D%29%3B%0A%0A%20%20%20%20%20%20%20%20%0A%20%20%20%20%20%20%20%20%20%20%20%20var%20html_6ddbbba7647f4745a7c79785a40db38a%20%3D%20%24%28%60%3Cdiv%20id%3D%22html_6ddbbba7647f4745a7c79785a40db38a%22%20style%3D%22width%3A%20100.0%25%3B%20height%3A%20100.0%25%3B%22%3EFirst%20Canadian%20Place%2C%20Underground%20city%2C%20Rosalinda%3C/div%3E%60%29%5B0%5D%3B%0A%20%20%20%20%20%20%20%20%20%20%20%20popup_2343cbb48d9b4cf2b3f1f6db9d598fc6.setContent%28html_6ddbbba7647f4745a7c79785a40db38a%29%3B%0A%20%20%20%20%20%20%20%20%0A%0A%20%20%20%20%20%20%20%20circle_marker_dca40e00022744c9ab223e86bc138787.bindPopup%28popup_2343cbb48d9b4cf2b3f1f6db9d598fc6%29%0A%20%20%20%20%20%20%20%20%3B%0A%0A%20%20%20%20%20%20%20%20%0A%20%20%20%20%0A%3C/script%3E onload=\"this.contentDocument.open();this.contentDocument.write(    decodeURIComponent(this.getAttribute('data-html')));this.contentDocument.close();\" allowfullscreen webkitallowfullscreen mozallowfullscreen></iframe></div></div>"
     },
     "metadata": {},
     "execution_count": 53
    }
   ],
   "source": [
    "map_trawno = folium.Map(location=[tlatitude, tlongitude], zoom_start=10)\n",
    "\n",
    "# add markers to map\n",
    "for lat, lng, venue, neighborhood in zip(trawveg['Neighborhood Latitude'], trawveg['Neighborhood Longitude'], trawveg['Venue'], trawveg['Neighborhood']):\n",
    "    label = '{}, {}'.format(neighborhood, borough)\n",
    "    label = folium.Popup(label, parse_html=True)\n",
    "    folium.CircleMarker(\n",
    "        [lat, lng],\n",
    "        radius=5,\n",
    "        popup=label,\n",
    "        color='red',\n",
    "        fill=True,\n",
    "        fill_color='#ffffff',\n",
    "        fill_opacity=0.7,\n",
    "        parse_html=False).add_to(map_trawno)  \n",
    "    \n",
    "map_trawno"
   ]
  },
  {
   "cell_type": "code",
   "execution_count": 62,
   "metadata": {},
   "outputs": [
    {
     "output_type": "execute_result",
     "data": {
      "text/plain": [
       "<folium.folium.Map at 0x120016250>"
      ],
      "text/html": "<div style=\"width:100%;\"><div style=\"position:relative;width:100%;height:0;padding-bottom:60%;\"><span style=\"color:#565656\">Make this Notebook Trusted to load map: File -> Trust Notebook</span><iframe src=\"about:blank\" style=\"position:absolute;width:100%;height:100%;left:0;top:0;border:none !important;\" data-html=%3C%21DOCTYPE%20html%3E%0A%3Chead%3E%20%20%20%20%0A%20%20%20%20%3Cmeta%20http-equiv%3D%22content-type%22%20content%3D%22text/html%3B%20charset%3DUTF-8%22%20/%3E%0A%20%20%20%20%0A%20%20%20%20%20%20%20%20%3Cscript%3E%0A%20%20%20%20%20%20%20%20%20%20%20%20L_NO_TOUCH%20%3D%20false%3B%0A%20%20%20%20%20%20%20%20%20%20%20%20L_DISABLE_3D%20%3D%20false%3B%0A%20%20%20%20%20%20%20%20%3C/script%3E%0A%20%20%20%20%0A%20%20%20%20%3Cstyle%3Ehtml%2C%20body%20%7Bwidth%3A%20100%25%3Bheight%3A%20100%25%3Bmargin%3A%200%3Bpadding%3A%200%3B%7D%3C/style%3E%0A%20%20%20%20%3Cstyle%3E%23map%20%7Bposition%3Aabsolute%3Btop%3A0%3Bbottom%3A0%3Bright%3A0%3Bleft%3A0%3B%7D%3C/style%3E%0A%20%20%20%20%3Cscript%20src%3D%22https%3A//cdn.jsdelivr.net/npm/leaflet%401.6.0/dist/leaflet.js%22%3E%3C/script%3E%0A%20%20%20%20%3Cscript%20src%3D%22https%3A//code.jquery.com/jquery-1.12.4.min.js%22%3E%3C/script%3E%0A%20%20%20%20%3Cscript%20src%3D%22https%3A//maxcdn.bootstrapcdn.com/bootstrap/3.2.0/js/bootstrap.min.js%22%3E%3C/script%3E%0A%20%20%20%20%3Cscript%20src%3D%22https%3A//cdnjs.cloudflare.com/ajax/libs/Leaflet.awesome-markers/2.0.2/leaflet.awesome-markers.js%22%3E%3C/script%3E%0A%20%20%20%20%3Clink%20rel%3D%22stylesheet%22%20href%3D%22https%3A//cdn.jsdelivr.net/npm/leaflet%401.6.0/dist/leaflet.css%22/%3E%0A%20%20%20%20%3Clink%20rel%3D%22stylesheet%22%20href%3D%22https%3A//maxcdn.bootstrapcdn.com/bootstrap/3.2.0/css/bootstrap.min.css%22/%3E%0A%20%20%20%20%3Clink%20rel%3D%22stylesheet%22%20href%3D%22https%3A//maxcdn.bootstrapcdn.com/bootstrap/3.2.0/css/bootstrap-theme.min.css%22/%3E%0A%20%20%20%20%3Clink%20rel%3D%22stylesheet%22%20href%3D%22https%3A//maxcdn.bootstrapcdn.com/font-awesome/4.6.3/css/font-awesome.min.css%22/%3E%0A%20%20%20%20%3Clink%20rel%3D%22stylesheet%22%20href%3D%22https%3A//cdnjs.cloudflare.com/ajax/libs/Leaflet.awesome-markers/2.0.2/leaflet.awesome-markers.css%22/%3E%0A%20%20%20%20%3Clink%20rel%3D%22stylesheet%22%20href%3D%22https%3A//cdn.jsdelivr.net/gh/python-visualization/folium/folium/templates/leaflet.awesome.rotate.min.css%22/%3E%0A%20%20%20%20%0A%20%20%20%20%20%20%20%20%20%20%20%20%3Cmeta%20name%3D%22viewport%22%20content%3D%22width%3Ddevice-width%2C%0A%20%20%20%20%20%20%20%20%20%20%20%20%20%20%20%20initial-scale%3D1.0%2C%20maximum-scale%3D1.0%2C%20user-scalable%3Dno%22%20/%3E%0A%20%20%20%20%20%20%20%20%20%20%20%20%3Cstyle%3E%0A%20%20%20%20%20%20%20%20%20%20%20%20%20%20%20%20%23map_1932d9f708cb498bb57fd960fd9f9c5e%20%7B%0A%20%20%20%20%20%20%20%20%20%20%20%20%20%20%20%20%20%20%20%20position%3A%20relative%3B%0A%20%20%20%20%20%20%20%20%20%20%20%20%20%20%20%20%20%20%20%20width%3A%20100.0%25%3B%0A%20%20%20%20%20%20%20%20%20%20%20%20%20%20%20%20%20%20%20%20height%3A%20100.0%25%3B%0A%20%20%20%20%20%20%20%20%20%20%20%20%20%20%20%20%20%20%20%20left%3A%200.0%25%3B%0A%20%20%20%20%20%20%20%20%20%20%20%20%20%20%20%20%20%20%20%20top%3A%200.0%25%3B%0A%20%20%20%20%20%20%20%20%20%20%20%20%20%20%20%20%7D%0A%20%20%20%20%20%20%20%20%20%20%20%20%3C/style%3E%0A%20%20%20%20%20%20%20%20%0A%3C/head%3E%0A%3Cbody%3E%20%20%20%20%0A%20%20%20%20%0A%20%20%20%20%20%20%20%20%20%20%20%20%3Cdiv%20class%3D%22folium-map%22%20id%3D%22map_1932d9f708cb498bb57fd960fd9f9c5e%22%20%3E%3C/div%3E%0A%20%20%20%20%20%20%20%20%0A%3C/body%3E%0A%3Cscript%3E%20%20%20%20%0A%20%20%20%20%0A%20%20%20%20%20%20%20%20%20%20%20%20var%20map_1932d9f708cb498bb57fd960fd9f9c5e%20%3D%20L.map%28%0A%20%20%20%20%20%20%20%20%20%20%20%20%20%20%20%20%22map_1932d9f708cb498bb57fd960fd9f9c5e%22%2C%0A%20%20%20%20%20%20%20%20%20%20%20%20%20%20%20%20%7B%0A%20%20%20%20%20%20%20%20%20%20%20%20%20%20%20%20%20%20%20%20center%3A%20%5B40.7127281%2C%20-74.0060152%5D%2C%0A%20%20%20%20%20%20%20%20%20%20%20%20%20%20%20%20%20%20%20%20crs%3A%20L.CRS.EPSG3857%2C%0A%20%20%20%20%20%20%20%20%20%20%20%20%20%20%20%20%20%20%20%20zoom%3A%2010%2C%0A%20%20%20%20%20%20%20%20%20%20%20%20%20%20%20%20%20%20%20%20zoomControl%3A%20true%2C%0A%20%20%20%20%20%20%20%20%20%20%20%20%20%20%20%20%20%20%20%20preferCanvas%3A%20false%2C%0A%20%20%20%20%20%20%20%20%20%20%20%20%20%20%20%20%7D%0A%20%20%20%20%20%20%20%20%20%20%20%20%29%3B%0A%0A%20%20%20%20%20%20%20%20%20%20%20%20%0A%0A%20%20%20%20%20%20%20%20%0A%20%20%20%20%0A%20%20%20%20%20%20%20%20%20%20%20%20var%20tile_layer_1d0ec1b6b4d5458b9a7a215eb0e34479%20%3D%20L.tileLayer%28%0A%20%20%20%20%20%20%20%20%20%20%20%20%20%20%20%20%22https%3A//%7Bs%7D.tile.openstreetmap.org/%7Bz%7D/%7Bx%7D/%7By%7D.png%22%2C%0A%20%20%20%20%20%20%20%20%20%20%20%20%20%20%20%20%7B%22attribution%22%3A%20%22Data%20by%20%5Cu0026copy%3B%20%5Cu003ca%20href%3D%5C%22http%3A//openstreetmap.org%5C%22%5Cu003eOpenStreetMap%5Cu003c/a%5Cu003e%2C%20under%20%5Cu003ca%20href%3D%5C%22http%3A//www.openstreetmap.org/copyright%5C%22%5Cu003eODbL%5Cu003c/a%5Cu003e.%22%2C%20%22detectRetina%22%3A%20false%2C%20%22maxNativeZoom%22%3A%2018%2C%20%22maxZoom%22%3A%2018%2C%20%22minZoom%22%3A%200%2C%20%22noWrap%22%3A%20false%2C%20%22opacity%22%3A%201%2C%20%22subdomains%22%3A%20%22abc%22%2C%20%22tms%22%3A%20false%7D%0A%20%20%20%20%20%20%20%20%20%20%20%20%29.addTo%28map_1932d9f708cb498bb57fd960fd9f9c5e%29%3B%0A%20%20%20%20%20%20%20%20%0A%20%20%20%20%0A%20%20%20%20%20%20%20%20%20%20%20%20var%20circle_marker_cc7cd96b770e4f4fac76177824068d49%20%3D%20L.circleMarker%28%0A%20%20%20%20%20%20%20%20%20%20%20%20%20%20%20%20%5B40.88168737120521%2C%20-73.90281798724604%5D%2C%0A%20%20%20%20%20%20%20%20%20%20%20%20%20%20%20%20%7B%22bubblingMouseEvents%22%3A%20true%2C%20%22color%22%3A%20%22blue%22%2C%20%22dashArray%22%3A%20null%2C%20%22dashOffset%22%3A%20null%2C%20%22fill%22%3A%20true%2C%20%22fillColor%22%3A%20%22%23ffffff%22%2C%20%22fillOpacity%22%3A%200.7%2C%20%22fillRule%22%3A%20%22evenodd%22%2C%20%22lineCap%22%3A%20%22round%22%2C%20%22lineJoin%22%3A%20%22round%22%2C%20%22opacity%22%3A%201.0%2C%20%22radius%22%3A%205%2C%20%22stroke%22%3A%20true%2C%20%22weight%22%3A%203%7D%0A%20%20%20%20%20%20%20%20%20%20%20%20%29.addTo%28map_1932d9f708cb498bb57fd960fd9f9c5e%29%3B%0A%20%20%20%20%20%20%20%20%0A%20%20%20%20%0A%20%20%20%20%20%20%20%20var%20popup_03e6061b9c784e289f3e86d83eef99bc%20%3D%20L.popup%28%7B%22maxWidth%22%3A%20%22100%25%22%7D%29%3B%0A%0A%20%20%20%20%20%20%20%20%0A%20%20%20%20%20%20%20%20%20%20%20%20var%20html_6c7cfb5bc02940e28ff4c7d1f2736871%20%3D%20%24%28%60%3Cdiv%20id%3D%22html_6c7cfb5bc02940e28ff4c7d1f2736871%22%20style%3D%22width%3A%20100.0%25%3B%20height%3A%20100.0%25%3B%22%3EKingsbridge%2C%20Clean%20Table%3C/div%3E%60%29%5B0%5D%3B%0A%20%20%20%20%20%20%20%20%20%20%20%20popup_03e6061b9c784e289f3e86d83eef99bc.setContent%28html_6c7cfb5bc02940e28ff4c7d1f2736871%29%3B%0A%20%20%20%20%20%20%20%20%0A%0A%20%20%20%20%20%20%20%20circle_marker_cc7cd96b770e4f4fac76177824068d49.bindPopup%28popup_03e6061b9c784e289f3e86d83eef99bc%29%0A%20%20%20%20%20%20%20%20%3B%0A%0A%20%20%20%20%20%20%20%20%0A%20%20%20%20%0A%20%20%20%20%0A%20%20%20%20%20%20%20%20%20%20%20%20var%20circle_marker_f1bbdc2521524740a23525689bec90f8%20%3D%20L.circleMarker%28%0A%20%20%20%20%20%20%20%20%20%20%20%20%20%20%20%20%5B40.7302009848647%2C%20-73.95424093127393%5D%2C%0A%20%20%20%20%20%20%20%20%20%20%20%20%20%20%20%20%7B%22bubblingMouseEvents%22%3A%20true%2C%20%22color%22%3A%20%22blue%22%2C%20%22dashArray%22%3A%20null%2C%20%22dashOffset%22%3A%20null%2C%20%22fill%22%3A%20true%2C%20%22fillColor%22%3A%20%22%23ffffff%22%2C%20%22fillOpacity%22%3A%200.7%2C%20%22fillRule%22%3A%20%22evenodd%22%2C%20%22lineCap%22%3A%20%22round%22%2C%20%22lineJoin%22%3A%20%22round%22%2C%20%22opacity%22%3A%201.0%2C%20%22radius%22%3A%205%2C%20%22stroke%22%3A%20true%2C%20%22weight%22%3A%203%7D%0A%20%20%20%20%20%20%20%20%20%20%20%20%29.addTo%28map_1932d9f708cb498bb57fd960fd9f9c5e%29%3B%0A%20%20%20%20%20%20%20%20%0A%20%20%20%20%0A%20%20%20%20%20%20%20%20var%20popup_66a687378dc74d1a935db1e4d46884f4%20%3D%20L.popup%28%7B%22maxWidth%22%3A%20%22100%25%22%7D%29%3B%0A%0A%20%20%20%20%20%20%20%20%0A%20%20%20%20%20%20%20%20%20%20%20%20var%20html_802147ddf3684b1eaa191cd8e0e5f291%20%3D%20%24%28%60%3Cdiv%20id%3D%22html_802147ddf3684b1eaa191cd8e0e5f291%22%20style%3D%22width%3A%20100.0%25%3B%20height%3A%20100.0%25%3B%22%3EGreenpoint%2C%20Clean%20Table%3C/div%3E%60%29%5B0%5D%3B%0A%20%20%20%20%20%20%20%20%20%20%20%20popup_66a687378dc74d1a935db1e4d46884f4.setContent%28html_802147ddf3684b1eaa191cd8e0e5f291%29%3B%0A%20%20%20%20%20%20%20%20%0A%0A%20%20%20%20%20%20%20%20circle_marker_f1bbdc2521524740a23525689bec90f8.bindPopup%28popup_66a687378dc74d1a935db1e4d46884f4%29%0A%20%20%20%20%20%20%20%20%3B%0A%0A%20%20%20%20%20%20%20%20%0A%20%20%20%20%0A%20%20%20%20%0A%20%20%20%20%20%20%20%20%20%20%20%20var%20circle_marker_a0b40a6b604941c2a493e2cd08bae527%20%3D%20L.circleMarker%28%0A%20%20%20%20%20%20%20%20%20%20%20%20%20%20%20%20%5B40.676822262254724%2C%20-73.9648592426269%5D%2C%0A%20%20%20%20%20%20%20%20%20%20%20%20%20%20%20%20%7B%22bubblingMouseEvents%22%3A%20true%2C%20%22color%22%3A%20%22blue%22%2C%20%22dashArray%22%3A%20null%2C%20%22dashOffset%22%3A%20null%2C%20%22fill%22%3A%20true%2C%20%22fillColor%22%3A%20%22%23ffffff%22%2C%20%22fillOpacity%22%3A%200.7%2C%20%22fillRule%22%3A%20%22evenodd%22%2C%20%22lineCap%22%3A%20%22round%22%2C%20%22lineJoin%22%3A%20%22round%22%2C%20%22opacity%22%3A%201.0%2C%20%22radius%22%3A%205%2C%20%22stroke%22%3A%20true%2C%20%22weight%22%3A%203%7D%0A%20%20%20%20%20%20%20%20%20%20%20%20%29.addTo%28map_1932d9f708cb498bb57fd960fd9f9c5e%29%3B%0A%20%20%20%20%20%20%20%20%0A%20%20%20%20%0A%20%20%20%20%20%20%20%20var%20popup_7af32bd6a4404f9580d0e152240c528a%20%3D%20L.popup%28%7B%22maxWidth%22%3A%20%22100%25%22%7D%29%3B%0A%0A%20%20%20%20%20%20%20%20%0A%20%20%20%20%20%20%20%20%20%20%20%20var%20html_34b07b9ac9564be2abf624341844681c%20%3D%20%24%28%60%3Cdiv%20id%3D%22html_34b07b9ac9564be2abf624341844681c%22%20style%3D%22width%3A%20100.0%25%3B%20height%3A%20100.0%25%3B%22%3EProspect%20Heights%2C%20Clean%20Table%3C/div%3E%60%29%5B0%5D%3B%0A%20%20%20%20%20%20%20%20%20%20%20%20popup_7af32bd6a4404f9580d0e152240c528a.setContent%28html_34b07b9ac9564be2abf624341844681c%29%3B%0A%20%20%20%20%20%20%20%20%0A%0A%20%20%20%20%20%20%20%20circle_marker_a0b40a6b604941c2a493e2cd08bae527.bindPopup%28popup_7af32bd6a4404f9580d0e152240c528a%29%0A%20%20%20%20%20%20%20%20%3B%0A%0A%20%20%20%20%20%20%20%20%0A%20%20%20%20%0A%20%20%20%20%0A%20%20%20%20%20%20%20%20%20%20%20%20var%20circle_marker_52957420860a4deb9290beba2a450f00%20%3D%20L.circleMarker%28%0A%20%20%20%20%20%20%20%20%20%20%20%20%20%20%20%20%5B40.69811611017901%2C%20-73.92525797487045%5D%2C%0A%20%20%20%20%20%20%20%20%20%20%20%20%20%20%20%20%7B%22bubblingMouseEvents%22%3A%20true%2C%20%22color%22%3A%20%22blue%22%2C%20%22dashArray%22%3A%20null%2C%20%22dashOffset%22%3A%20null%2C%20%22fill%22%3A%20true%2C%20%22fillColor%22%3A%20%22%23ffffff%22%2C%20%22fillOpacity%22%3A%200.7%2C%20%22fillRule%22%3A%20%22evenodd%22%2C%20%22lineCap%22%3A%20%22round%22%2C%20%22lineJoin%22%3A%20%22round%22%2C%20%22opacity%22%3A%201.0%2C%20%22radius%22%3A%205%2C%20%22stroke%22%3A%20true%2C%20%22weight%22%3A%203%7D%0A%20%20%20%20%20%20%20%20%20%20%20%20%29.addTo%28map_1932d9f708cb498bb57fd960fd9f9c5e%29%3B%0A%20%20%20%20%20%20%20%20%0A%20%20%20%20%0A%20%20%20%20%20%20%20%20var%20popup_30542c3c3cf049408dea73ad38ded0a8%20%3D%20L.popup%28%7B%22maxWidth%22%3A%20%22100%25%22%7D%29%3B%0A%0A%20%20%20%20%20%20%20%20%0A%20%20%20%20%20%20%20%20%20%20%20%20var%20html_9edd3f8bafab4baba56594c5f250303e%20%3D%20%24%28%60%3Cdiv%20id%3D%22html_9edd3f8bafab4baba56594c5f250303e%22%20style%3D%22width%3A%20100.0%25%3B%20height%3A%20100.0%25%3B%22%3EBushwick%2C%20Clean%20Table%3C/div%3E%60%29%5B0%5D%3B%0A%20%20%20%20%20%20%20%20%20%20%20%20popup_30542c3c3cf049408dea73ad38ded0a8.setContent%28html_9edd3f8bafab4baba56594c5f250303e%29%3B%0A%20%20%20%20%20%20%20%20%0A%0A%20%20%20%20%20%20%20%20circle_marker_52957420860a4deb9290beba2a450f00.bindPopup%28popup_30542c3c3cf049408dea73ad38ded0a8%29%0A%20%20%20%20%20%20%20%20%3B%0A%0A%20%20%20%20%20%20%20%20%0A%20%20%20%20%0A%20%20%20%20%0A%20%20%20%20%20%20%20%20%20%20%20%20var%20circle_marker_3df7663903c94c4d838638a94bc42bc0%20%3D%20L.circleMarker%28%0A%20%20%20%20%20%20%20%20%20%20%20%20%20%20%20%20%5B40.69811611017901%2C%20-73.92525797487045%5D%2C%0A%20%20%20%20%20%20%20%20%20%20%20%20%20%20%20%20%7B%22bubblingMouseEvents%22%3A%20true%2C%20%22color%22%3A%20%22blue%22%2C%20%22dashArray%22%3A%20null%2C%20%22dashOffset%22%3A%20null%2C%20%22fill%22%3A%20true%2C%20%22fillColor%22%3A%20%22%23ffffff%22%2C%20%22fillOpacity%22%3A%200.7%2C%20%22fillRule%22%3A%20%22evenodd%22%2C%20%22lineCap%22%3A%20%22round%22%2C%20%22lineJoin%22%3A%20%22round%22%2C%20%22opacity%22%3A%201.0%2C%20%22radius%22%3A%205%2C%20%22stroke%22%3A%20true%2C%20%22weight%22%3A%203%7D%0A%20%20%20%20%20%20%20%20%20%20%20%20%29.addTo%28map_1932d9f708cb498bb57fd960fd9f9c5e%29%3B%0A%20%20%20%20%20%20%20%20%0A%20%20%20%20%0A%20%20%20%20%20%20%20%20var%20popup_d2a1eef522f64abca571b315821ccca3%20%3D%20L.popup%28%7B%22maxWidth%22%3A%20%22100%25%22%7D%29%3B%0A%0A%20%20%20%20%20%20%20%20%0A%20%20%20%20%20%20%20%20%20%20%20%20var%20html_033d85c9119846e08176931d29dcfd8d%20%3D%20%24%28%60%3Cdiv%20id%3D%22html_033d85c9119846e08176931d29dcfd8d%22%20style%3D%22width%3A%20100.0%25%3B%20height%3A%20100.0%25%3B%22%3EBushwick%2C%20Clean%20Table%3C/div%3E%60%29%5B0%5D%3B%0A%20%20%20%20%20%20%20%20%20%20%20%20popup_d2a1eef522f64abca571b315821ccca3.setContent%28html_033d85c9119846e08176931d29dcfd8d%29%3B%0A%20%20%20%20%20%20%20%20%0A%0A%20%20%20%20%20%20%20%20circle_marker_3df7663903c94c4d838638a94bc42bc0.bindPopup%28popup_d2a1eef522f64abca571b315821ccca3%29%0A%20%20%20%20%20%20%20%20%3B%0A%0A%20%20%20%20%20%20%20%20%0A%20%20%20%20%0A%20%20%20%20%0A%20%20%20%20%20%20%20%20%20%20%20%20var%20circle_marker_d843765f96604fd7a331b7cd82bb1614%20%3D%20L.circleMarker%28%0A%20%20%20%20%20%20%20%20%20%20%20%20%20%20%20%20%5B40.68852726018977%2C%20-73.97290574369092%5D%2C%0A%20%20%20%20%20%20%20%20%20%20%20%20%20%20%20%20%7B%22bubblingMouseEvents%22%3A%20true%2C%20%22color%22%3A%20%22blue%22%2C%20%22dashArray%22%3A%20null%2C%20%22dashOffset%22%3A%20null%2C%20%22fill%22%3A%20true%2C%20%22fillColor%22%3A%20%22%23ffffff%22%2C%20%22fillOpacity%22%3A%200.7%2C%20%22fillRule%22%3A%20%22evenodd%22%2C%20%22lineCap%22%3A%20%22round%22%2C%20%22lineJoin%22%3A%20%22round%22%2C%20%22opacity%22%3A%201.0%2C%20%22radius%22%3A%205%2C%20%22stroke%22%3A%20true%2C%20%22weight%22%3A%203%7D%0A%20%20%20%20%20%20%20%20%20%20%20%20%29.addTo%28map_1932d9f708cb498bb57fd960fd9f9c5e%29%3B%0A%20%20%20%20%20%20%20%20%0A%20%20%20%20%0A%20%20%20%20%20%20%20%20var%20popup_57928f3f665d44b9bbef73fdd73fbaff%20%3D%20L.popup%28%7B%22maxWidth%22%3A%20%22100%25%22%7D%29%3B%0A%0A%20%20%20%20%20%20%20%20%0A%20%20%20%20%20%20%20%20%20%20%20%20var%20html_c9fd3eb2be9445f7978bd0e1bfae6c87%20%3D%20%24%28%60%3Cdiv%20id%3D%22html_c9fd3eb2be9445f7978bd0e1bfae6c87%22%20style%3D%22width%3A%20100.0%25%3B%20height%3A%20100.0%25%3B%22%3EFort%20Greene%2C%20Clean%20Table%3C/div%3E%60%29%5B0%5D%3B%0A%20%20%20%20%20%20%20%20%20%20%20%20popup_57928f3f665d44b9bbef73fdd73fbaff.setContent%28html_c9fd3eb2be9445f7978bd0e1bfae6c87%29%3B%0A%20%20%20%20%20%20%20%20%0A%0A%20%20%20%20%20%20%20%20circle_marker_d843765f96604fd7a331b7cd82bb1614.bindPopup%28popup_57928f3f665d44b9bbef73fdd73fbaff%29%0A%20%20%20%20%20%20%20%20%3B%0A%0A%20%20%20%20%20%20%20%20%0A%20%20%20%20%0A%20%20%20%20%0A%20%20%20%20%20%20%20%20%20%20%20%20var%20circle_marker_00aeb7b5a06e4bf2990f52f06b6acc4b%20%3D%20L.circleMarker%28%0A%20%20%20%20%20%20%20%20%20%20%20%20%20%20%20%20%5B40.693229421881504%2C%20-73.96784306216367%5D%2C%0A%20%20%20%20%20%20%20%20%20%20%20%20%20%20%20%20%7B%22bubblingMouseEvents%22%3A%20true%2C%20%22color%22%3A%20%22blue%22%2C%20%22dashArray%22%3A%20null%2C%20%22dashOffset%22%3A%20null%2C%20%22fill%22%3A%20true%2C%20%22fillColor%22%3A%20%22%23ffffff%22%2C%20%22fillOpacity%22%3A%200.7%2C%20%22fillRule%22%3A%20%22evenodd%22%2C%20%22lineCap%22%3A%20%22round%22%2C%20%22lineJoin%22%3A%20%22round%22%2C%20%22opacity%22%3A%201.0%2C%20%22radius%22%3A%205%2C%20%22stroke%22%3A%20true%2C%20%22weight%22%3A%203%7D%0A%20%20%20%20%20%20%20%20%20%20%20%20%29.addTo%28map_1932d9f708cb498bb57fd960fd9f9c5e%29%3B%0A%20%20%20%20%20%20%20%20%0A%20%20%20%20%0A%20%20%20%20%20%20%20%20var%20popup_1d4bad7b6d2f49e1b04d090ccd789cd7%20%3D%20L.popup%28%7B%22maxWidth%22%3A%20%22100%25%22%7D%29%3B%0A%0A%20%20%20%20%20%20%20%20%0A%20%20%20%20%20%20%20%20%20%20%20%20var%20html_36e7909718a74a90816f14ea669e6ab8%20%3D%20%24%28%60%3Cdiv%20id%3D%22html_36e7909718a74a90816f14ea669e6ab8%22%20style%3D%22width%3A%20100.0%25%3B%20height%3A%20100.0%25%3B%22%3EClinton%20Hill%2C%20Clean%20Table%3C/div%3E%60%29%5B0%5D%3B%0A%20%20%20%20%20%20%20%20%20%20%20%20popup_1d4bad7b6d2f49e1b04d090ccd789cd7.setContent%28html_36e7909718a74a90816f14ea669e6ab8%29%3B%0A%20%20%20%20%20%20%20%20%0A%0A%20%20%20%20%20%20%20%20circle_marker_00aeb7b5a06e4bf2990f52f06b6acc4b.bindPopup%28popup_1d4bad7b6d2f49e1b04d090ccd789cd7%29%0A%20%20%20%20%20%20%20%20%3B%0A%0A%20%20%20%20%20%20%20%20%0A%20%20%20%20%0A%20%20%20%20%0A%20%20%20%20%20%20%20%20%20%20%20%20var%20circle_marker_d965df587d81482db5ff39d95d2c86a9%20%3D%20L.circleMarker%28%0A%20%20%20%20%20%20%20%20%20%20%20%20%20%20%20%20%5B40.70849241041548%2C%20-73.93885815269195%5D%2C%0A%20%20%20%20%20%20%20%20%20%20%20%20%20%20%20%20%7B%22bubblingMouseEvents%22%3A%20true%2C%20%22color%22%3A%20%22blue%22%2C%20%22dashArray%22%3A%20null%2C%20%22dashOffset%22%3A%20null%2C%20%22fill%22%3A%20true%2C%20%22fillColor%22%3A%20%22%23ffffff%22%2C%20%22fillOpacity%22%3A%200.7%2C%20%22fillRule%22%3A%20%22evenodd%22%2C%20%22lineCap%22%3A%20%22round%22%2C%20%22lineJoin%22%3A%20%22round%22%2C%20%22opacity%22%3A%201.0%2C%20%22radius%22%3A%205%2C%20%22stroke%22%3A%20true%2C%20%22weight%22%3A%203%7D%0A%20%20%20%20%20%20%20%20%20%20%20%20%29.addTo%28map_1932d9f708cb498bb57fd960fd9f9c5e%29%3B%0A%20%20%20%20%20%20%20%20%0A%20%20%20%20%0A%20%20%20%20%20%20%20%20var%20popup_e1b2bff4a3014b9e9b929cb05c1a9b4b%20%3D%20L.popup%28%7B%22maxWidth%22%3A%20%22100%25%22%7D%29%3B%0A%0A%20%20%20%20%20%20%20%20%0A%20%20%20%20%20%20%20%20%20%20%20%20var%20html_7393fdc64a404562bc5edf599439ff9e%20%3D%20%24%28%60%3Cdiv%20id%3D%22html_7393fdc64a404562bc5edf599439ff9e%22%20style%3D%22width%3A%20100.0%25%3B%20height%3A%20100.0%25%3B%22%3EEast%20Williamsburg%2C%20Clean%20Table%3C/div%3E%60%29%5B0%5D%3B%0A%20%20%20%20%20%20%20%20%20%20%20%20popup_e1b2bff4a3014b9e9b929cb05c1a9b4b.setContent%28html_7393fdc64a404562bc5edf599439ff9e%29%3B%0A%20%20%20%20%20%20%20%20%0A%0A%20%20%20%20%20%20%20%20circle_marker_d965df587d81482db5ff39d95d2c86a9.bindPopup%28popup_e1b2bff4a3014b9e9b929cb05c1a9b4b%29%0A%20%20%20%20%20%20%20%20%3B%0A%0A%20%20%20%20%20%20%20%20%0A%20%20%20%20%0A%20%20%20%20%0A%20%20%20%20%20%20%20%20%20%20%20%20var%20circle_marker_96842622a4614c578bea2f255d6c918c%20%3D%20L.circleMarker%28%0A%20%20%20%20%20%20%20%20%20%20%20%20%20%20%20%20%5B40.70849241041548%2C%20-73.93885815269195%5D%2C%0A%20%20%20%20%20%20%20%20%20%20%20%20%20%20%20%20%7B%22bubblingMouseEvents%22%3A%20true%2C%20%22color%22%3A%20%22blue%22%2C%20%22dashArray%22%3A%20null%2C%20%22dashOffset%22%3A%20null%2C%20%22fill%22%3A%20true%2C%20%22fillColor%22%3A%20%22%23ffffff%22%2C%20%22fillOpacity%22%3A%200.7%2C%20%22fillRule%22%3A%20%22evenodd%22%2C%20%22lineCap%22%3A%20%22round%22%2C%20%22lineJoin%22%3A%20%22round%22%2C%20%22opacity%22%3A%201.0%2C%20%22radius%22%3A%205%2C%20%22stroke%22%3A%20true%2C%20%22weight%22%3A%203%7D%0A%20%20%20%20%20%20%20%20%20%20%20%20%29.addTo%28map_1932d9f708cb498bb57fd960fd9f9c5e%29%3B%0A%20%20%20%20%20%20%20%20%0A%20%20%20%20%0A%20%20%20%20%20%20%20%20var%20popup_bf1b97e17b984d499e573f7c8b56822d%20%3D%20L.popup%28%7B%22maxWidth%22%3A%20%22100%25%22%7D%29%3B%0A%0A%20%20%20%20%20%20%20%20%0A%20%20%20%20%20%20%20%20%20%20%20%20var%20html_a2c779c56eea4293bffe41bceb2b4b77%20%3D%20%24%28%60%3Cdiv%20id%3D%22html_a2c779c56eea4293bffe41bceb2b4b77%22%20style%3D%22width%3A%20100.0%25%3B%20height%3A%20100.0%25%3B%22%3EEast%20Williamsburg%2C%20Clean%20Table%3C/div%3E%60%29%5B0%5D%3B%0A%20%20%20%20%20%20%20%20%20%20%20%20popup_bf1b97e17b984d499e573f7c8b56822d.setContent%28html_a2c779c56eea4293bffe41bceb2b4b77%29%3B%0A%20%20%20%20%20%20%20%20%0A%0A%20%20%20%20%20%20%20%20circle_marker_96842622a4614c578bea2f255d6c918c.bindPopup%28popup_bf1b97e17b984d499e573f7c8b56822d%29%0A%20%20%20%20%20%20%20%20%3B%0A%0A%20%20%20%20%20%20%20%20%0A%20%20%20%20%0A%20%20%20%20%0A%20%20%20%20%20%20%20%20%20%20%20%20var%20circle_marker_6dc982d7f6c04a22a1d386392ecd8e5c%20%3D%20L.circleMarker%28%0A%20%20%20%20%20%20%20%20%20%20%20%20%20%20%20%20%5B40.714822906532014%2C%20-73.95880857587582%5D%2C%0A%20%20%20%20%20%20%20%20%20%20%20%20%20%20%20%20%7B%22bubblingMouseEvents%22%3A%20true%2C%20%22color%22%3A%20%22blue%22%2C%20%22dashArray%22%3A%20null%2C%20%22dashOffset%22%3A%20null%2C%20%22fill%22%3A%20true%2C%20%22fillColor%22%3A%20%22%23ffffff%22%2C%20%22fillOpacity%22%3A%200.7%2C%20%22fillRule%22%3A%20%22evenodd%22%2C%20%22lineCap%22%3A%20%22round%22%2C%20%22lineJoin%22%3A%20%22round%22%2C%20%22opacity%22%3A%201.0%2C%20%22radius%22%3A%205%2C%20%22stroke%22%3A%20true%2C%20%22weight%22%3A%203%7D%0A%20%20%20%20%20%20%20%20%20%20%20%20%29.addTo%28map_1932d9f708cb498bb57fd960fd9f9c5e%29%3B%0A%20%20%20%20%20%20%20%20%0A%20%20%20%20%0A%20%20%20%20%20%20%20%20var%20popup_916237539bf445c0bd79e34845da436b%20%3D%20L.popup%28%7B%22maxWidth%22%3A%20%22100%25%22%7D%29%3B%0A%0A%20%20%20%20%20%20%20%20%0A%20%20%20%20%20%20%20%20%20%20%20%20var%20html_701b476350ae4db89ebbdff18213f654%20%3D%20%24%28%60%3Cdiv%20id%3D%22html_701b476350ae4db89ebbdff18213f654%22%20style%3D%22width%3A%20100.0%25%3B%20height%3A%20100.0%25%3B%22%3ENorth%20Side%2C%20Clean%20Table%3C/div%3E%60%29%5B0%5D%3B%0A%20%20%20%20%20%20%20%20%20%20%20%20popup_916237539bf445c0bd79e34845da436b.setContent%28html_701b476350ae4db89ebbdff18213f654%29%3B%0A%20%20%20%20%20%20%20%20%0A%0A%20%20%20%20%20%20%20%20circle_marker_6dc982d7f6c04a22a1d386392ecd8e5c.bindPopup%28popup_916237539bf445c0bd79e34845da436b%29%0A%20%20%20%20%20%20%20%20%3B%0A%0A%20%20%20%20%20%20%20%20%0A%20%20%20%20%0A%20%20%20%20%0A%20%20%20%20%20%20%20%20%20%20%20%20var%20circle_marker_d704869407534215b55e7a8848b31db0%20%3D%20L.circleMarker%28%0A%20%20%20%20%20%20%20%20%20%20%20%20%20%20%20%20%5B40.714822906532014%2C%20-73.95880857587582%5D%2C%0A%20%20%20%20%20%20%20%20%20%20%20%20%20%20%20%20%7B%22bubblingMouseEvents%22%3A%20true%2C%20%22color%22%3A%20%22blue%22%2C%20%22dashArray%22%3A%20null%2C%20%22dashOffset%22%3A%20null%2C%20%22fill%22%3A%20true%2C%20%22fillColor%22%3A%20%22%23ffffff%22%2C%20%22fillOpacity%22%3A%200.7%2C%20%22fillRule%22%3A%20%22evenodd%22%2C%20%22lineCap%22%3A%20%22round%22%2C%20%22lineJoin%22%3A%20%22round%22%2C%20%22opacity%22%3A%201.0%2C%20%22radius%22%3A%205%2C%20%22stroke%22%3A%20true%2C%20%22weight%22%3A%203%7D%0A%20%20%20%20%20%20%20%20%20%20%20%20%29.addTo%28map_1932d9f708cb498bb57fd960fd9f9c5e%29%3B%0A%20%20%20%20%20%20%20%20%0A%20%20%20%20%0A%20%20%20%20%20%20%20%20var%20popup_b2d82c7b57af4de48af53390c443e745%20%3D%20L.popup%28%7B%22maxWidth%22%3A%20%22100%25%22%7D%29%3B%0A%0A%20%20%20%20%20%20%20%20%0A%20%20%20%20%20%20%20%20%20%20%20%20var%20html_f40c3c7b24794bcfb49fa9b5bc5d9018%20%3D%20%24%28%60%3Cdiv%20id%3D%22html_f40c3c7b24794bcfb49fa9b5bc5d9018%22%20style%3D%22width%3A%20100.0%25%3B%20height%3A%20100.0%25%3B%22%3ENorth%20Side%2C%20Clean%20Table%3C/div%3E%60%29%5B0%5D%3B%0A%20%20%20%20%20%20%20%20%20%20%20%20popup_b2d82c7b57af4de48af53390c443e745.setContent%28html_f40c3c7b24794bcfb49fa9b5bc5d9018%29%3B%0A%20%20%20%20%20%20%20%20%0A%0A%20%20%20%20%20%20%20%20circle_marker_d704869407534215b55e7a8848b31db0.bindPopup%28popup_b2d82c7b57af4de48af53390c443e745%29%0A%20%20%20%20%20%20%20%20%3B%0A%0A%20%20%20%20%20%20%20%20%0A%20%20%20%20%0A%20%20%20%20%0A%20%20%20%20%20%20%20%20%20%20%20%20var%20circle_marker_3d21650064064f868cbe480a7e560bf2%20%3D%20L.circleMarker%28%0A%20%20%20%20%20%20%20%20%20%20%20%20%20%20%20%20%5B40.71086147265064%2C%20-73.95800095153331%5D%2C%0A%20%20%20%20%20%20%20%20%20%20%20%20%20%20%20%20%7B%22bubblingMouseEvents%22%3A%20true%2C%20%22color%22%3A%20%22blue%22%2C%20%22dashArray%22%3A%20null%2C%20%22dashOffset%22%3A%20null%2C%20%22fill%22%3A%20true%2C%20%22fillColor%22%3A%20%22%23ffffff%22%2C%20%22fillOpacity%22%3A%200.7%2C%20%22fillRule%22%3A%20%22evenodd%22%2C%20%22lineCap%22%3A%20%22round%22%2C%20%22lineJoin%22%3A%20%22round%22%2C%20%22opacity%22%3A%201.0%2C%20%22radius%22%3A%205%2C%20%22stroke%22%3A%20true%2C%20%22weight%22%3A%203%7D%0A%20%20%20%20%20%20%20%20%20%20%20%20%29.addTo%28map_1932d9f708cb498bb57fd960fd9f9c5e%29%3B%0A%20%20%20%20%20%20%20%20%0A%20%20%20%20%0A%20%20%20%20%20%20%20%20var%20popup_6654180f978349e9b1eaa79b1ad3cd05%20%3D%20L.popup%28%7B%22maxWidth%22%3A%20%22100%25%22%7D%29%3B%0A%0A%20%20%20%20%20%20%20%20%0A%20%20%20%20%20%20%20%20%20%20%20%20var%20html_441ee29e59794585bd63feaf474cb881%20%3D%20%24%28%60%3Cdiv%20id%3D%22html_441ee29e59794585bd63feaf474cb881%22%20style%3D%22width%3A%20100.0%25%3B%20height%3A%20100.0%25%3B%22%3ESouth%20Side%2C%20Clean%20Table%3C/div%3E%60%29%5B0%5D%3B%0A%20%20%20%20%20%20%20%20%20%20%20%20popup_6654180f978349e9b1eaa79b1ad3cd05.setContent%28html_441ee29e59794585bd63feaf474cb881%29%3B%0A%20%20%20%20%20%20%20%20%0A%0A%20%20%20%20%20%20%20%20circle_marker_3d21650064064f868cbe480a7e560bf2.bindPopup%28popup_6654180f978349e9b1eaa79b1ad3cd05%29%0A%20%20%20%20%20%20%20%20%3B%0A%0A%20%20%20%20%20%20%20%20%0A%20%20%20%20%0A%20%20%20%20%0A%20%20%20%20%20%20%20%20%20%20%20%20var%20circle_marker_72256c9295af476c98b15bd0d381559e%20%3D%20L.circleMarker%28%0A%20%20%20%20%20%20%20%20%20%20%20%20%20%20%20%20%5B40.71561842231432%2C%20-73.99427936255978%5D%2C%0A%20%20%20%20%20%20%20%20%20%20%20%20%20%20%20%20%7B%22bubblingMouseEvents%22%3A%20true%2C%20%22color%22%3A%20%22blue%22%2C%20%22dashArray%22%3A%20null%2C%20%22dashOffset%22%3A%20null%2C%20%22fill%22%3A%20true%2C%20%22fillColor%22%3A%20%22%23ffffff%22%2C%20%22fillOpacity%22%3A%200.7%2C%20%22fillRule%22%3A%20%22evenodd%22%2C%20%22lineCap%22%3A%20%22round%22%2C%20%22lineJoin%22%3A%20%22round%22%2C%20%22opacity%22%3A%201.0%2C%20%22radius%22%3A%205%2C%20%22stroke%22%3A%20true%2C%20%22weight%22%3A%203%7D%0A%20%20%20%20%20%20%20%20%20%20%20%20%29.addTo%28map_1932d9f708cb498bb57fd960fd9f9c5e%29%3B%0A%20%20%20%20%20%20%20%20%0A%20%20%20%20%0A%20%20%20%20%20%20%20%20var%20popup_f9e34296b0fe41cf86d8ad83f4381bc2%20%3D%20L.popup%28%7B%22maxWidth%22%3A%20%22100%25%22%7D%29%3B%0A%0A%20%20%20%20%20%20%20%20%0A%20%20%20%20%20%20%20%20%20%20%20%20var%20html_db5267ccf8b242dbbd31a1611b76ffb1%20%3D%20%24%28%60%3Cdiv%20id%3D%22html_db5267ccf8b242dbbd31a1611b76ffb1%22%20style%3D%22width%3A%20100.0%25%3B%20height%3A%20100.0%25%3B%22%3EChinatown%2C%20Clean%20Table%3C/div%3E%60%29%5B0%5D%3B%0A%20%20%20%20%20%20%20%20%20%20%20%20popup_f9e34296b0fe41cf86d8ad83f4381bc2.setContent%28html_db5267ccf8b242dbbd31a1611b76ffb1%29%3B%0A%20%20%20%20%20%20%20%20%0A%0A%20%20%20%20%20%20%20%20circle_marker_72256c9295af476c98b15bd0d381559e.bindPopup%28popup_f9e34296b0fe41cf86d8ad83f4381bc2%29%0A%20%20%20%20%20%20%20%20%3B%0A%0A%20%20%20%20%20%20%20%20%0A%20%20%20%20%0A%20%20%20%20%0A%20%20%20%20%20%20%20%20%20%20%20%20var%20circle_marker_09a6a179da494a218b13a9ad52edad30%20%3D%20L.circleMarker%28%0A%20%20%20%20%20%20%20%20%20%20%20%20%20%20%20%20%5B40.775638573301805%2C%20-73.96050763135%5D%2C%0A%20%20%20%20%20%20%20%20%20%20%20%20%20%20%20%20%7B%22bubblingMouseEvents%22%3A%20true%2C%20%22color%22%3A%20%22blue%22%2C%20%22dashArray%22%3A%20null%2C%20%22dashOffset%22%3A%20null%2C%20%22fill%22%3A%20true%2C%20%22fillColor%22%3A%20%22%23ffffff%22%2C%20%22fillOpacity%22%3A%200.7%2C%20%22fillRule%22%3A%20%22evenodd%22%2C%20%22lineCap%22%3A%20%22round%22%2C%20%22lineJoin%22%3A%20%22round%22%2C%20%22opacity%22%3A%201.0%2C%20%22radius%22%3A%205%2C%20%22stroke%22%3A%20true%2C%20%22weight%22%3A%203%7D%0A%20%20%20%20%20%20%20%20%20%20%20%20%29.addTo%28map_1932d9f708cb498bb57fd960fd9f9c5e%29%3B%0A%20%20%20%20%20%20%20%20%0A%20%20%20%20%0A%20%20%20%20%20%20%20%20var%20popup_dd8fc24b77c347ef891adaa4419d34c2%20%3D%20L.popup%28%7B%22maxWidth%22%3A%20%22100%25%22%7D%29%3B%0A%0A%20%20%20%20%20%20%20%20%0A%20%20%20%20%20%20%20%20%20%20%20%20var%20html_05aeaed609f44d5d97e0a8a188dc374b%20%3D%20%24%28%60%3Cdiv%20id%3D%22html_05aeaed609f44d5d97e0a8a188dc374b%22%20style%3D%22width%3A%20100.0%25%3B%20height%3A%20100.0%25%3B%22%3EUpper%20East%20Side%2C%20Clean%20Table%3C/div%3E%60%29%5B0%5D%3B%0A%20%20%20%20%20%20%20%20%20%20%20%20popup_dd8fc24b77c347ef891adaa4419d34c2.setContent%28html_05aeaed609f44d5d97e0a8a188dc374b%29%3B%0A%20%20%20%20%20%20%20%20%0A%0A%20%20%20%20%20%20%20%20circle_marker_09a6a179da494a218b13a9ad52edad30.bindPopup%28popup_dd8fc24b77c347ef891adaa4419d34c2%29%0A%20%20%20%20%20%20%20%20%3B%0A%0A%20%20%20%20%20%20%20%20%0A%20%20%20%20%0A%20%20%20%20%0A%20%20%20%20%20%20%20%20%20%20%20%20var%20circle_marker_b9970e60e574497f8728a21dac0e488f%20%3D%20L.circleMarker%28%0A%20%20%20%20%20%20%20%20%20%20%20%20%20%20%20%20%5B40.787657998534854%2C%20-73.97705923630603%5D%2C%0A%20%20%20%20%20%20%20%20%20%20%20%20%20%20%20%20%7B%22bubblingMouseEvents%22%3A%20true%2C%20%22color%22%3A%20%22blue%22%2C%20%22dashArray%22%3A%20null%2C%20%22dashOffset%22%3A%20null%2C%20%22fill%22%3A%20true%2C%20%22fillColor%22%3A%20%22%23ffffff%22%2C%20%22fillOpacity%22%3A%200.7%2C%20%22fillRule%22%3A%20%22evenodd%22%2C%20%22lineCap%22%3A%20%22round%22%2C%20%22lineJoin%22%3A%20%22round%22%2C%20%22opacity%22%3A%201.0%2C%20%22radius%22%3A%205%2C%20%22stroke%22%3A%20true%2C%20%22weight%22%3A%203%7D%0A%20%20%20%20%20%20%20%20%20%20%20%20%29.addTo%28map_1932d9f708cb498bb57fd960fd9f9c5e%29%3B%0A%20%20%20%20%20%20%20%20%0A%20%20%20%20%0A%20%20%20%20%20%20%20%20var%20popup_d8b8e942ec2546efb379bca281049253%20%3D%20L.popup%28%7B%22maxWidth%22%3A%20%22100%25%22%7D%29%3B%0A%0A%20%20%20%20%20%20%20%20%0A%20%20%20%20%20%20%20%20%20%20%20%20var%20html_66321d5fd00a44a4b1d731edb3c14ab7%20%3D%20%24%28%60%3Cdiv%20id%3D%22html_66321d5fd00a44a4b1d731edb3c14ab7%22%20style%3D%22width%3A%20100.0%25%3B%20height%3A%20100.0%25%3B%22%3EUpper%20West%20Side%2C%20Clean%20Table%3C/div%3E%60%29%5B0%5D%3B%0A%20%20%20%20%20%20%20%20%20%20%20%20popup_d8b8e942ec2546efb379bca281049253.setContent%28html_66321d5fd00a44a4b1d731edb3c14ab7%29%3B%0A%20%20%20%20%20%20%20%20%0A%0A%20%20%20%20%20%20%20%20circle_marker_b9970e60e574497f8728a21dac0e488f.bindPopup%28popup_d8b8e942ec2546efb379bca281049253%29%0A%20%20%20%20%20%20%20%20%3B%0A%0A%20%20%20%20%20%20%20%20%0A%20%20%20%20%0A%20%20%20%20%0A%20%20%20%20%20%20%20%20%20%20%20%20var%20circle_marker_233cec291dae4e9eaaf1560c221f1027%20%3D%20L.circleMarker%28%0A%20%20%20%20%20%20%20%20%20%20%20%20%20%20%20%20%5B40.787657998534854%2C%20-73.97705923630603%5D%2C%0A%20%20%20%20%20%20%20%20%20%20%20%20%20%20%20%20%7B%22bubblingMouseEvents%22%3A%20true%2C%20%22color%22%3A%20%22blue%22%2C%20%22dashArray%22%3A%20null%2C%20%22dashOffset%22%3A%20null%2C%20%22fill%22%3A%20true%2C%20%22fillColor%22%3A%20%22%23ffffff%22%2C%20%22fillOpacity%22%3A%200.7%2C%20%22fillRule%22%3A%20%22evenodd%22%2C%20%22lineCap%22%3A%20%22round%22%2C%20%22lineJoin%22%3A%20%22round%22%2C%20%22opacity%22%3A%201.0%2C%20%22radius%22%3A%205%2C%20%22stroke%22%3A%20true%2C%20%22weight%22%3A%203%7D%0A%20%20%20%20%20%20%20%20%20%20%20%20%29.addTo%28map_1932d9f708cb498bb57fd960fd9f9c5e%29%3B%0A%20%20%20%20%20%20%20%20%0A%20%20%20%20%0A%20%20%20%20%20%20%20%20var%20popup_7f1926972e4240a5b1f3eaf25d03fc90%20%3D%20L.popup%28%7B%22maxWidth%22%3A%20%22100%25%22%7D%29%3B%0A%0A%20%20%20%20%20%20%20%20%0A%20%20%20%20%20%20%20%20%20%20%20%20var%20html_63b7750796ad451fba74013e1d1d0306%20%3D%20%24%28%60%3Cdiv%20id%3D%22html_63b7750796ad451fba74013e1d1d0306%22%20style%3D%22width%3A%20100.0%25%3B%20height%3A%20100.0%25%3B%22%3EUpper%20West%20Side%2C%20Clean%20Table%3C/div%3E%60%29%5B0%5D%3B%0A%20%20%20%20%20%20%20%20%20%20%20%20popup_7f1926972e4240a5b1f3eaf25d03fc90.setContent%28html_63b7750796ad451fba74013e1d1d0306%29%3B%0A%20%20%20%20%20%20%20%20%0A%0A%20%20%20%20%20%20%20%20circle_marker_233cec291dae4e9eaaf1560c221f1027.bindPopup%28popup_7f1926972e4240a5b1f3eaf25d03fc90%29%0A%20%20%20%20%20%20%20%20%3B%0A%0A%20%20%20%20%20%20%20%20%0A%20%20%20%20%0A%20%20%20%20%0A%20%20%20%20%20%20%20%20%20%20%20%20var%20circle_marker_d8b16bad6a05464da3aaf9baf8a893ea%20%3D%20L.circleMarker%28%0A%20%20%20%20%20%20%20%20%20%20%20%20%20%20%20%20%5B40.748303077252174%2C%20-73.97833207924127%5D%2C%0A%20%20%20%20%20%20%20%20%20%20%20%20%20%20%20%20%7B%22bubblingMouseEvents%22%3A%20true%2C%20%22color%22%3A%20%22blue%22%2C%20%22dashArray%22%3A%20null%2C%20%22dashOffset%22%3A%20null%2C%20%22fill%22%3A%20true%2C%20%22fillColor%22%3A%20%22%23ffffff%22%2C%20%22fillOpacity%22%3A%200.7%2C%20%22fillRule%22%3A%20%22evenodd%22%2C%20%22lineCap%22%3A%20%22round%22%2C%20%22lineJoin%22%3A%20%22round%22%2C%20%22opacity%22%3A%201.0%2C%20%22radius%22%3A%205%2C%20%22stroke%22%3A%20true%2C%20%22weight%22%3A%203%7D%0A%20%20%20%20%20%20%20%20%20%20%20%20%29.addTo%28map_1932d9f708cb498bb57fd960fd9f9c5e%29%3B%0A%20%20%20%20%20%20%20%20%0A%20%20%20%20%0A%20%20%20%20%20%20%20%20var%20popup_e8d6db2b070c437ca2f5cd370a8fa899%20%3D%20L.popup%28%7B%22maxWidth%22%3A%20%22100%25%22%7D%29%3B%0A%0A%20%20%20%20%20%20%20%20%0A%20%20%20%20%20%20%20%20%20%20%20%20var%20html_99aa1192bea94a1e926c78b777b03255%20%3D%20%24%28%60%3Cdiv%20id%3D%22html_99aa1192bea94a1e926c78b777b03255%22%20style%3D%22width%3A%20100.0%25%3B%20height%3A%20100.0%25%3B%22%3EMurray%20Hill%2C%20Clean%20Table%3C/div%3E%60%29%5B0%5D%3B%0A%20%20%20%20%20%20%20%20%20%20%20%20popup_e8d6db2b070c437ca2f5cd370a8fa899.setContent%28html_99aa1192bea94a1e926c78b777b03255%29%3B%0A%20%20%20%20%20%20%20%20%0A%0A%20%20%20%20%20%20%20%20circle_marker_d8b16bad6a05464da3aaf9baf8a893ea.bindPopup%28popup_e8d6db2b070c437ca2f5cd370a8fa899%29%0A%20%20%20%20%20%20%20%20%3B%0A%0A%20%20%20%20%20%20%20%20%0A%20%20%20%20%0A%20%20%20%20%0A%20%20%20%20%20%20%20%20%20%20%20%20var%20circle_marker_807296d1d229456bbf774d6fc245e08f%20%3D%20L.circleMarker%28%0A%20%20%20%20%20%20%20%20%20%20%20%20%20%20%20%20%5B40.748303077252174%2C%20-73.97833207924127%5D%2C%0A%20%20%20%20%20%20%20%20%20%20%20%20%20%20%20%20%7B%22bubblingMouseEvents%22%3A%20true%2C%20%22color%22%3A%20%22blue%22%2C%20%22dashArray%22%3A%20null%2C%20%22dashOffset%22%3A%20null%2C%20%22fill%22%3A%20true%2C%20%22fillColor%22%3A%20%22%23ffffff%22%2C%20%22fillOpacity%22%3A%200.7%2C%20%22fillRule%22%3A%20%22evenodd%22%2C%20%22lineCap%22%3A%20%22round%22%2C%20%22lineJoin%22%3A%20%22round%22%2C%20%22opacity%22%3A%201.0%2C%20%22radius%22%3A%205%2C%20%22stroke%22%3A%20true%2C%20%22weight%22%3A%203%7D%0A%20%20%20%20%20%20%20%20%20%20%20%20%29.addTo%28map_1932d9f708cb498bb57fd960fd9f9c5e%29%3B%0A%20%20%20%20%20%20%20%20%0A%20%20%20%20%0A%20%20%20%20%20%20%20%20var%20popup_d01cfc482d5f4aea8b878a204e57870f%20%3D%20L.popup%28%7B%22maxWidth%22%3A%20%22100%25%22%7D%29%3B%0A%0A%20%20%20%20%20%20%20%20%0A%20%20%20%20%20%20%20%20%20%20%20%20var%20html_fc0c9437797e4646af5a897e2f530d4b%20%3D%20%24%28%60%3Cdiv%20id%3D%22html_fc0c9437797e4646af5a897e2f530d4b%22%20style%3D%22width%3A%20100.0%25%3B%20height%3A%20100.0%25%3B%22%3EMurray%20Hill%2C%20Clean%20Table%3C/div%3E%60%29%5B0%5D%3B%0A%20%20%20%20%20%20%20%20%20%20%20%20popup_d01cfc482d5f4aea8b878a204e57870f.setContent%28html_fc0c9437797e4646af5a897e2f530d4b%29%3B%0A%20%20%20%20%20%20%20%20%0A%0A%20%20%20%20%20%20%20%20circle_marker_807296d1d229456bbf774d6fc245e08f.bindPopup%28popup_d01cfc482d5f4aea8b878a204e57870f%29%0A%20%20%20%20%20%20%20%20%3B%0A%0A%20%20%20%20%20%20%20%20%0A%20%20%20%20%0A%20%20%20%20%0A%20%20%20%20%20%20%20%20%20%20%20%20var%20circle_marker_b7d5ebfd8f294df5b47f4177fb00a9c1%20%3D%20L.circleMarker%28%0A%20%20%20%20%20%20%20%20%20%20%20%20%20%20%20%20%5B40.72693288536128%2C%20-73.99991402945902%5D%2C%0A%20%20%20%20%20%20%20%20%20%20%20%20%20%20%20%20%7B%22bubblingMouseEvents%22%3A%20true%2C%20%22color%22%3A%20%22blue%22%2C%20%22dashArray%22%3A%20null%2C%20%22dashOffset%22%3A%20null%2C%20%22fill%22%3A%20true%2C%20%22fillColor%22%3A%20%22%23ffffff%22%2C%20%22fillOpacity%22%3A%200.7%2C%20%22fillRule%22%3A%20%22evenodd%22%2C%20%22lineCap%22%3A%20%22round%22%2C%20%22lineJoin%22%3A%20%22round%22%2C%20%22opacity%22%3A%201.0%2C%20%22radius%22%3A%205%2C%20%22stroke%22%3A%20true%2C%20%22weight%22%3A%203%7D%0A%20%20%20%20%20%20%20%20%20%20%20%20%29.addTo%28map_1932d9f708cb498bb57fd960fd9f9c5e%29%3B%0A%20%20%20%20%20%20%20%20%0A%20%20%20%20%0A%20%20%20%20%20%20%20%20var%20popup_5f5bb5fbbc8849f59df92e52742d0971%20%3D%20L.popup%28%7B%22maxWidth%22%3A%20%22100%25%22%7D%29%3B%0A%0A%20%20%20%20%20%20%20%20%0A%20%20%20%20%20%20%20%20%20%20%20%20var%20html_a575bd4477df473293c05d543da8875e%20%3D%20%24%28%60%3Cdiv%20id%3D%22html_a575bd4477df473293c05d543da8875e%22%20style%3D%22width%3A%20100.0%25%3B%20height%3A%20100.0%25%3B%22%3EGreenwich%20Village%2C%20Clean%20Table%3C/div%3E%60%29%5B0%5D%3B%0A%20%20%20%20%20%20%20%20%20%20%20%20popup_5f5bb5fbbc8849f59df92e52742d0971.setContent%28html_a575bd4477df473293c05d543da8875e%29%3B%0A%20%20%20%20%20%20%20%20%0A%0A%20%20%20%20%20%20%20%20circle_marker_b7d5ebfd8f294df5b47f4177fb00a9c1.bindPopup%28popup_5f5bb5fbbc8849f59df92e52742d0971%29%0A%20%20%20%20%20%20%20%20%3B%0A%0A%20%20%20%20%20%20%20%20%0A%20%20%20%20%0A%20%20%20%20%0A%20%20%20%20%20%20%20%20%20%20%20%20var%20circle_marker_04e69912e73343368a3658103fee0337%20%3D%20L.circleMarker%28%0A%20%20%20%20%20%20%20%20%20%20%20%20%20%20%20%20%5B40.727846777270244%2C%20-73.98222616506416%5D%2C%0A%20%20%20%20%20%20%20%20%20%20%20%20%20%20%20%20%7B%22bubblingMouseEvents%22%3A%20true%2C%20%22color%22%3A%20%22blue%22%2C%20%22dashArray%22%3A%20null%2C%20%22dashOffset%22%3A%20null%2C%20%22fill%22%3A%20true%2C%20%22fillColor%22%3A%20%22%23ffffff%22%2C%20%22fillOpacity%22%3A%200.7%2C%20%22fillRule%22%3A%20%22evenodd%22%2C%20%22lineCap%22%3A%20%22round%22%2C%20%22lineJoin%22%3A%20%22round%22%2C%20%22opacity%22%3A%201.0%2C%20%22radius%22%3A%205%2C%20%22stroke%22%3A%20true%2C%20%22weight%22%3A%203%7D%0A%20%20%20%20%20%20%20%20%20%20%20%20%29.addTo%28map_1932d9f708cb498bb57fd960fd9f9c5e%29%3B%0A%20%20%20%20%20%20%20%20%0A%20%20%20%20%0A%20%20%20%20%20%20%20%20var%20popup_93a737e5abad4a029cb9689ba278bc16%20%3D%20L.popup%28%7B%22maxWidth%22%3A%20%22100%25%22%7D%29%3B%0A%0A%20%20%20%20%20%20%20%20%0A%20%20%20%20%20%20%20%20%20%20%20%20var%20html_bd624f4cb19d4578b922983e49039f44%20%3D%20%24%28%60%3Cdiv%20id%3D%22html_bd624f4cb19d4578b922983e49039f44%22%20style%3D%22width%3A%20100.0%25%3B%20height%3A%20100.0%25%3B%22%3EEast%20Village%2C%20Clean%20Table%3C/div%3E%60%29%5B0%5D%3B%0A%20%20%20%20%20%20%20%20%20%20%20%20popup_93a737e5abad4a029cb9689ba278bc16.setContent%28html_bd624f4cb19d4578b922983e49039f44%29%3B%0A%20%20%20%20%20%20%20%20%0A%0A%20%20%20%20%20%20%20%20circle_marker_04e69912e73343368a3658103fee0337.bindPopup%28popup_93a737e5abad4a029cb9689ba278bc16%29%0A%20%20%20%20%20%20%20%20%3B%0A%0A%20%20%20%20%20%20%20%20%0A%20%20%20%20%0A%20%20%20%20%0A%20%20%20%20%20%20%20%20%20%20%20%20var%20circle_marker_94346c4473f1456280d3309c59a9a391%20%3D%20L.circleMarker%28%0A%20%20%20%20%20%20%20%20%20%20%20%20%20%20%20%20%5B40.727846777270244%2C%20-73.98222616506416%5D%2C%0A%20%20%20%20%20%20%20%20%20%20%20%20%20%20%20%20%7B%22bubblingMouseEvents%22%3A%20true%2C%20%22color%22%3A%20%22blue%22%2C%20%22dashArray%22%3A%20null%2C%20%22dashOffset%22%3A%20null%2C%20%22fill%22%3A%20true%2C%20%22fillColor%22%3A%20%22%23ffffff%22%2C%20%22fillOpacity%22%3A%200.7%2C%20%22fillRule%22%3A%20%22evenodd%22%2C%20%22lineCap%22%3A%20%22round%22%2C%20%22lineJoin%22%3A%20%22round%22%2C%20%22opacity%22%3A%201.0%2C%20%22radius%22%3A%205%2C%20%22stroke%22%3A%20true%2C%20%22weight%22%3A%203%7D%0A%20%20%20%20%20%20%20%20%20%20%20%20%29.addTo%28map_1932d9f708cb498bb57fd960fd9f9c5e%29%3B%0A%20%20%20%20%20%20%20%20%0A%20%20%20%20%0A%20%20%20%20%20%20%20%20var%20popup_bf2d63b7f8d447f7aec3e998f26e8067%20%3D%20L.popup%28%7B%22maxWidth%22%3A%20%22100%25%22%7D%29%3B%0A%0A%20%20%20%20%20%20%20%20%0A%20%20%20%20%20%20%20%20%20%20%20%20var%20html_fd042740ee7349a7a81f03c5c0f43582%20%3D%20%24%28%60%3Cdiv%20id%3D%22html_fd042740ee7349a7a81f03c5c0f43582%22%20style%3D%22width%3A%20100.0%25%3B%20height%3A%20100.0%25%3B%22%3EEast%20Village%2C%20Clean%20Table%3C/div%3E%60%29%5B0%5D%3B%0A%20%20%20%20%20%20%20%20%20%20%20%20popup_bf2d63b7f8d447f7aec3e998f26e8067.setContent%28html_fd042740ee7349a7a81f03c5c0f43582%29%3B%0A%20%20%20%20%20%20%20%20%0A%0A%20%20%20%20%20%20%20%20circle_marker_94346c4473f1456280d3309c59a9a391.bindPopup%28popup_bf2d63b7f8d447f7aec3e998f26e8067%29%0A%20%20%20%20%20%20%20%20%3B%0A%0A%20%20%20%20%20%20%20%20%0A%20%20%20%20%0A%20%20%20%20%0A%20%20%20%20%20%20%20%20%20%20%20%20var%20circle_marker_c6ca578c6d894ea69c8860d429e90636%20%3D%20L.circleMarker%28%0A%20%20%20%20%20%20%20%20%20%20%20%20%20%20%20%20%5B40.727846777270244%2C%20-73.98222616506416%5D%2C%0A%20%20%20%20%20%20%20%20%20%20%20%20%20%20%20%20%7B%22bubblingMouseEvents%22%3A%20true%2C%20%22color%22%3A%20%22blue%22%2C%20%22dashArray%22%3A%20null%2C%20%22dashOffset%22%3A%20null%2C%20%22fill%22%3A%20true%2C%20%22fillColor%22%3A%20%22%23ffffff%22%2C%20%22fillOpacity%22%3A%200.7%2C%20%22fillRule%22%3A%20%22evenodd%22%2C%20%22lineCap%22%3A%20%22round%22%2C%20%22lineJoin%22%3A%20%22round%22%2C%20%22opacity%22%3A%201.0%2C%20%22radius%22%3A%205%2C%20%22stroke%22%3A%20true%2C%20%22weight%22%3A%203%7D%0A%20%20%20%20%20%20%20%20%20%20%20%20%29.addTo%28map_1932d9f708cb498bb57fd960fd9f9c5e%29%3B%0A%20%20%20%20%20%20%20%20%0A%20%20%20%20%0A%20%20%20%20%20%20%20%20var%20popup_520eb88ef6ea40ac954a15444df7895e%20%3D%20L.popup%28%7B%22maxWidth%22%3A%20%22100%25%22%7D%29%3B%0A%0A%20%20%20%20%20%20%20%20%0A%20%20%20%20%20%20%20%20%20%20%20%20var%20html_66d417073b394a74be2d1f14870bfa5e%20%3D%20%24%28%60%3Cdiv%20id%3D%22html_66d417073b394a74be2d1f14870bfa5e%22%20style%3D%22width%3A%20100.0%25%3B%20height%3A%20100.0%25%3B%22%3EEast%20Village%2C%20Clean%20Table%3C/div%3E%60%29%5B0%5D%3B%0A%20%20%20%20%20%20%20%20%20%20%20%20popup_520eb88ef6ea40ac954a15444df7895e.setContent%28html_66d417073b394a74be2d1f14870bfa5e%29%3B%0A%20%20%20%20%20%20%20%20%0A%0A%20%20%20%20%20%20%20%20circle_marker_c6ca578c6d894ea69c8860d429e90636.bindPopup%28popup_520eb88ef6ea40ac954a15444df7895e%29%0A%20%20%20%20%20%20%20%20%3B%0A%0A%20%20%20%20%20%20%20%20%0A%20%20%20%20%0A%20%20%20%20%0A%20%20%20%20%20%20%20%20%20%20%20%20var%20circle_marker_a6c00a9a189f4e16b7f85f53de0f5942%20%3D%20L.circleMarker%28%0A%20%20%20%20%20%20%20%20%20%20%20%20%20%20%20%20%5B40.721521967443216%2C%20-74.01068328559087%5D%2C%0A%20%20%20%20%20%20%20%20%20%20%20%20%20%20%20%20%7B%22bubblingMouseEvents%22%3A%20true%2C%20%22color%22%3A%20%22blue%22%2C%20%22dashArray%22%3A%20null%2C%20%22dashOffset%22%3A%20null%2C%20%22fill%22%3A%20true%2C%20%22fillColor%22%3A%20%22%23ffffff%22%2C%20%22fillOpacity%22%3A%200.7%2C%20%22fillRule%22%3A%20%22evenodd%22%2C%20%22lineCap%22%3A%20%22round%22%2C%20%22lineJoin%22%3A%20%22round%22%2C%20%22opacity%22%3A%201.0%2C%20%22radius%22%3A%205%2C%20%22stroke%22%3A%20true%2C%20%22weight%22%3A%203%7D%0A%20%20%20%20%20%20%20%20%20%20%20%20%29.addTo%28map_1932d9f708cb498bb57fd960fd9f9c5e%29%3B%0A%20%20%20%20%20%20%20%20%0A%20%20%20%20%0A%20%20%20%20%20%20%20%20var%20popup_8b0578388c7648fd95335c2f0e5a86a6%20%3D%20L.popup%28%7B%22maxWidth%22%3A%20%22100%25%22%7D%29%3B%0A%0A%20%20%20%20%20%20%20%20%0A%20%20%20%20%20%20%20%20%20%20%20%20var%20html_82829234bdc74e92a4a07849ad7c9d45%20%3D%20%24%28%60%3Cdiv%20id%3D%22html_82829234bdc74e92a4a07849ad7c9d45%22%20style%3D%22width%3A%20100.0%25%3B%20height%3A%20100.0%25%3B%22%3ETribeca%2C%20Clean%20Table%3C/div%3E%60%29%5B0%5D%3B%0A%20%20%20%20%20%20%20%20%20%20%20%20popup_8b0578388c7648fd95335c2f0e5a86a6.setContent%28html_82829234bdc74e92a4a07849ad7c9d45%29%3B%0A%20%20%20%20%20%20%20%20%0A%0A%20%20%20%20%20%20%20%20circle_marker_a6c00a9a189f4e16b7f85f53de0f5942.bindPopup%28popup_8b0578388c7648fd95335c2f0e5a86a6%29%0A%20%20%20%20%20%20%20%20%3B%0A%0A%20%20%20%20%20%20%20%20%0A%20%20%20%20%0A%20%20%20%20%0A%20%20%20%20%20%20%20%20%20%20%20%20var%20circle_marker_67116ca8585b45b0a0d8b627918fcc63%20%3D%20L.circleMarker%28%0A%20%20%20%20%20%20%20%20%20%20%20%20%20%20%20%20%5B40.71932379395907%2C%20-73.99730467208073%5D%2C%0A%20%20%20%20%20%20%20%20%20%20%20%20%20%20%20%20%7B%22bubblingMouseEvents%22%3A%20true%2C%20%22color%22%3A%20%22blue%22%2C%20%22dashArray%22%3A%20null%2C%20%22dashOffset%22%3A%20null%2C%20%22fill%22%3A%20true%2C%20%22fillColor%22%3A%20%22%23ffffff%22%2C%20%22fillOpacity%22%3A%200.7%2C%20%22fillRule%22%3A%20%22evenodd%22%2C%20%22lineCap%22%3A%20%22round%22%2C%20%22lineJoin%22%3A%20%22round%22%2C%20%22opacity%22%3A%201.0%2C%20%22radius%22%3A%205%2C%20%22stroke%22%3A%20true%2C%20%22weight%22%3A%203%7D%0A%20%20%20%20%20%20%20%20%20%20%20%20%29.addTo%28map_1932d9f708cb498bb57fd960fd9f9c5e%29%3B%0A%20%20%20%20%20%20%20%20%0A%20%20%20%20%0A%20%20%20%20%20%20%20%20var%20popup_cd5cb005c2e34c539b3b24c2f918f45a%20%3D%20L.popup%28%7B%22maxWidth%22%3A%20%22100%25%22%7D%29%3B%0A%0A%20%20%20%20%20%20%20%20%0A%20%20%20%20%20%20%20%20%20%20%20%20var%20html_d35902a8d59940c1a24ee66d9d5bc062%20%3D%20%24%28%60%3Cdiv%20id%3D%22html_d35902a8d59940c1a24ee66d9d5bc062%22%20style%3D%22width%3A%20100.0%25%3B%20height%3A%20100.0%25%3B%22%3ELittle%20Italy%2C%20Clean%20Table%3C/div%3E%60%29%5B0%5D%3B%0A%20%20%20%20%20%20%20%20%20%20%20%20popup_cd5cb005c2e34c539b3b24c2f918f45a.setContent%28html_d35902a8d59940c1a24ee66d9d5bc062%29%3B%0A%20%20%20%20%20%20%20%20%0A%0A%20%20%20%20%20%20%20%20circle_marker_67116ca8585b45b0a0d8b627918fcc63.bindPopup%28popup_cd5cb005c2e34c539b3b24c2f918f45a%29%0A%20%20%20%20%20%20%20%20%3B%0A%0A%20%20%20%20%20%20%20%20%0A%20%20%20%20%0A%20%20%20%20%0A%20%20%20%20%20%20%20%20%20%20%20%20var%20circle_marker_506d5bd8d6a648bb96b42b0b2306b26c%20%3D%20L.circleMarker%28%0A%20%20%20%20%20%20%20%20%20%20%20%20%20%20%20%20%5B40.72218384131794%2C%20-74.00065666959759%5D%2C%0A%20%20%20%20%20%20%20%20%20%20%20%20%20%20%20%20%7B%22bubblingMouseEvents%22%3A%20true%2C%20%22color%22%3A%20%22blue%22%2C%20%22dashArray%22%3A%20null%2C%20%22dashOffset%22%3A%20null%2C%20%22fill%22%3A%20true%2C%20%22fillColor%22%3A%20%22%23ffffff%22%2C%20%22fillOpacity%22%3A%200.7%2C%20%22fillRule%22%3A%20%22evenodd%22%2C%20%22lineCap%22%3A%20%22round%22%2C%20%22lineJoin%22%3A%20%22round%22%2C%20%22opacity%22%3A%201.0%2C%20%22radius%22%3A%205%2C%20%22stroke%22%3A%20true%2C%20%22weight%22%3A%203%7D%0A%20%20%20%20%20%20%20%20%20%20%20%20%29.addTo%28map_1932d9f708cb498bb57fd960fd9f9c5e%29%3B%0A%20%20%20%20%20%20%20%20%0A%20%20%20%20%0A%20%20%20%20%20%20%20%20var%20popup_db4aa72e70c04017b272b8d9fda05c1a%20%3D%20L.popup%28%7B%22maxWidth%22%3A%20%22100%25%22%7D%29%3B%0A%0A%20%20%20%20%20%20%20%20%0A%20%20%20%20%20%20%20%20%20%20%20%20var%20html_46b4a6b7326b4b8ea59e7eb024acef41%20%3D%20%24%28%60%3Cdiv%20id%3D%22html_46b4a6b7326b4b8ea59e7eb024acef41%22%20style%3D%22width%3A%20100.0%25%3B%20height%3A%20100.0%25%3B%22%3ESoho%2C%20Clean%20Table%3C/div%3E%60%29%5B0%5D%3B%0A%20%20%20%20%20%20%20%20%20%20%20%20popup_db4aa72e70c04017b272b8d9fda05c1a.setContent%28html_46b4a6b7326b4b8ea59e7eb024acef41%29%3B%0A%20%20%20%20%20%20%20%20%0A%0A%20%20%20%20%20%20%20%20circle_marker_506d5bd8d6a648bb96b42b0b2306b26c.bindPopup%28popup_db4aa72e70c04017b272b8d9fda05c1a%29%0A%20%20%20%20%20%20%20%20%3B%0A%0A%20%20%20%20%20%20%20%20%0A%20%20%20%20%0A%20%20%20%20%0A%20%20%20%20%20%20%20%20%20%20%20%20var%20circle_marker_e84d9096ebe3434288f9936c27878735%20%3D%20L.circleMarker%28%0A%20%20%20%20%20%20%20%20%20%20%20%20%20%20%20%20%5B40.76850859335492%2C%20-73.91565374304234%5D%2C%0A%20%20%20%20%20%20%20%20%20%20%20%20%20%20%20%20%7B%22bubblingMouseEvents%22%3A%20true%2C%20%22color%22%3A%20%22blue%22%2C%20%22dashArray%22%3A%20null%2C%20%22dashOffset%22%3A%20null%2C%20%22fill%22%3A%20true%2C%20%22fillColor%22%3A%20%22%23ffffff%22%2C%20%22fillOpacity%22%3A%200.7%2C%20%22fillRule%22%3A%20%22evenodd%22%2C%20%22lineCap%22%3A%20%22round%22%2C%20%22lineJoin%22%3A%20%22round%22%2C%20%22opacity%22%3A%201.0%2C%20%22radius%22%3A%205%2C%20%22stroke%22%3A%20true%2C%20%22weight%22%3A%203%7D%0A%20%20%20%20%20%20%20%20%20%20%20%20%29.addTo%28map_1932d9f708cb498bb57fd960fd9f9c5e%29%3B%0A%20%20%20%20%20%20%20%20%0A%20%20%20%20%0A%20%20%20%20%20%20%20%20var%20popup_d8b53aec571447069be53049a026a22b%20%3D%20L.popup%28%7B%22maxWidth%22%3A%20%22100%25%22%7D%29%3B%0A%0A%20%20%20%20%20%20%20%20%0A%20%20%20%20%20%20%20%20%20%20%20%20var%20html_ba7d3c30386c40a8903ff7048b75831e%20%3D%20%24%28%60%3Cdiv%20id%3D%22html_ba7d3c30386c40a8903ff7048b75831e%22%20style%3D%22width%3A%20100.0%25%3B%20height%3A%20100.0%25%3B%22%3EAstoria%2C%20Clean%20Table%3C/div%3E%60%29%5B0%5D%3B%0A%20%20%20%20%20%20%20%20%20%20%20%20popup_d8b53aec571447069be53049a026a22b.setContent%28html_ba7d3c30386c40a8903ff7048b75831e%29%3B%0A%20%20%20%20%20%20%20%20%0A%0A%20%20%20%20%20%20%20%20circle_marker_e84d9096ebe3434288f9936c27878735.bindPopup%28popup_d8b53aec571447069be53049a026a22b%29%0A%20%20%20%20%20%20%20%20%3B%0A%0A%20%20%20%20%20%20%20%20%0A%20%20%20%20%0A%20%20%20%20%0A%20%20%20%20%20%20%20%20%20%20%20%20var%20circle_marker_74cb967c796d4d27a4e3747a532b2c76%20%3D%20L.circleMarker%28%0A%20%20%20%20%20%20%20%20%20%20%20%20%20%20%20%20%5B40.70832315613858%2C%20-73.90143517559589%5D%2C%0A%20%20%20%20%20%20%20%20%20%20%20%20%20%20%20%20%7B%22bubblingMouseEvents%22%3A%20true%2C%20%22color%22%3A%20%22blue%22%2C%20%22dashArray%22%3A%20null%2C%20%22dashOffset%22%3A%20null%2C%20%22fill%22%3A%20true%2C%20%22fillColor%22%3A%20%22%23ffffff%22%2C%20%22fillOpacity%22%3A%200.7%2C%20%22fillRule%22%3A%20%22evenodd%22%2C%20%22lineCap%22%3A%20%22round%22%2C%20%22lineJoin%22%3A%20%22round%22%2C%20%22opacity%22%3A%201.0%2C%20%22radius%22%3A%205%2C%20%22stroke%22%3A%20true%2C%20%22weight%22%3A%203%7D%0A%20%20%20%20%20%20%20%20%20%20%20%20%29.addTo%28map_1932d9f708cb498bb57fd960fd9f9c5e%29%3B%0A%20%20%20%20%20%20%20%20%0A%20%20%20%20%0A%20%20%20%20%20%20%20%20var%20popup_da916d5755284dea9a9248e403fe7b32%20%3D%20L.popup%28%7B%22maxWidth%22%3A%20%22100%25%22%7D%29%3B%0A%0A%20%20%20%20%20%20%20%20%0A%20%20%20%20%20%20%20%20%20%20%20%20var%20html_880ec87e56c54c189e751665f5742fdd%20%3D%20%24%28%60%3Cdiv%20id%3D%22html_880ec87e56c54c189e751665f5742fdd%22%20style%3D%22width%3A%20100.0%25%3B%20height%3A%20100.0%25%3B%22%3ERidgewood%2C%20Clean%20Table%3C/div%3E%60%29%5B0%5D%3B%0A%20%20%20%20%20%20%20%20%20%20%20%20popup_da916d5755284dea9a9248e403fe7b32.setContent%28html_880ec87e56c54c189e751665f5742fdd%29%3B%0A%20%20%20%20%20%20%20%20%0A%0A%20%20%20%20%20%20%20%20circle_marker_74cb967c796d4d27a4e3747a532b2c76.bindPopup%28popup_da916d5755284dea9a9248e403fe7b32%29%0A%20%20%20%20%20%20%20%20%3B%0A%0A%20%20%20%20%20%20%20%20%0A%20%20%20%20%0A%20%20%20%20%0A%20%20%20%20%20%20%20%20%20%20%20%20var%20circle_marker_d91762727aae4b63a5a973faa513a0c6%20%3D%20L.circleMarker%28%0A%20%20%20%20%20%20%20%20%20%20%20%20%20%20%20%20%5B40.7343944653313%2C%20-73.78271337003264%5D%2C%0A%20%20%20%20%20%20%20%20%20%20%20%20%20%20%20%20%7B%22bubblingMouseEvents%22%3A%20true%2C%20%22color%22%3A%20%22blue%22%2C%20%22dashArray%22%3A%20null%2C%20%22dashOffset%22%3A%20null%2C%20%22fill%22%3A%20true%2C%20%22fillColor%22%3A%20%22%23ffffff%22%2C%20%22fillOpacity%22%3A%200.7%2C%20%22fillRule%22%3A%20%22evenodd%22%2C%20%22lineCap%22%3A%20%22round%22%2C%20%22lineJoin%22%3A%20%22round%22%2C%20%22opacity%22%3A%201.0%2C%20%22radius%22%3A%205%2C%20%22stroke%22%3A%20true%2C%20%22weight%22%3A%203%7D%0A%20%20%20%20%20%20%20%20%20%20%20%20%29.addTo%28map_1932d9f708cb498bb57fd960fd9f9c5e%29%3B%0A%20%20%20%20%20%20%20%20%0A%20%20%20%20%0A%20%20%20%20%20%20%20%20var%20popup_6c77988eec504128b943e1489d4614d8%20%3D%20L.popup%28%7B%22maxWidth%22%3A%20%22100%25%22%7D%29%3B%0A%0A%20%20%20%20%20%20%20%20%0A%20%20%20%20%20%20%20%20%20%20%20%20var%20html_2aaccd43eccd4109953262a759d2817f%20%3D%20%24%28%60%3Cdiv%20id%3D%22html_2aaccd43eccd4109953262a759d2817f%22%20style%3D%22width%3A%20100.0%25%3B%20height%3A%20100.0%25%3B%22%3EFresh%20Meadows%2C%20Clean%20Table%3C/div%3E%60%29%5B0%5D%3B%0A%20%20%20%20%20%20%20%20%20%20%20%20popup_6c77988eec504128b943e1489d4614d8.setContent%28html_2aaccd43eccd4109953262a759d2817f%29%3B%0A%20%20%20%20%20%20%20%20%0A%0A%20%20%20%20%20%20%20%20circle_marker_d91762727aae4b63a5a973faa513a0c6.bindPopup%28popup_6c77988eec504128b943e1489d4614d8%29%0A%20%20%20%20%20%20%20%20%3B%0A%0A%20%20%20%20%20%20%20%20%0A%20%20%20%20%0A%20%20%20%20%0A%20%20%20%20%20%20%20%20%20%20%20%20var%20circle_marker_b4f65fec2570441f8a6ef11e4ff7c3ce%20%3D%20L.circleMarker%28%0A%20%20%20%20%20%20%20%20%20%20%20%20%20%20%20%20%5B40.696911253789885%2C%20-73.7904261313554%5D%2C%0A%20%20%20%20%20%20%20%20%20%20%20%20%20%20%20%20%7B%22bubblingMouseEvents%22%3A%20true%2C%20%22color%22%3A%20%22blue%22%2C%20%22dashArray%22%3A%20null%2C%20%22dashOffset%22%3A%20null%2C%20%22fill%22%3A%20true%2C%20%22fillColor%22%3A%20%22%23ffffff%22%2C%20%22fillOpacity%22%3A%200.7%2C%20%22fillRule%22%3A%20%22evenodd%22%2C%20%22lineCap%22%3A%20%22round%22%2C%20%22lineJoin%22%3A%20%22round%22%2C%20%22opacity%22%3A%201.0%2C%20%22radius%22%3A%205%2C%20%22stroke%22%3A%20true%2C%20%22weight%22%3A%203%7D%0A%20%20%20%20%20%20%20%20%20%20%20%20%29.addTo%28map_1932d9f708cb498bb57fd960fd9f9c5e%29%3B%0A%20%20%20%20%20%20%20%20%0A%20%20%20%20%0A%20%20%20%20%20%20%20%20var%20popup_29e4bfaa1e464fcbb06fd8754721c983%20%3D%20L.popup%28%7B%22maxWidth%22%3A%20%22100%25%22%7D%29%3B%0A%0A%20%20%20%20%20%20%20%20%0A%20%20%20%20%20%20%20%20%20%20%20%20var%20html_99b35672644b424b9de9f0046dcda893%20%3D%20%24%28%60%3Cdiv%20id%3D%22html_99b35672644b424b9de9f0046dcda893%22%20style%3D%22width%3A%20100.0%25%3B%20height%3A%20100.0%25%3B%22%3ESouth%20Jamaica%2C%20Clean%20Table%3C/div%3E%60%29%5B0%5D%3B%0A%20%20%20%20%20%20%20%20%20%20%20%20popup_29e4bfaa1e464fcbb06fd8754721c983.setContent%28html_99b35672644b424b9de9f0046dcda893%29%3B%0A%20%20%20%20%20%20%20%20%0A%0A%20%20%20%20%20%20%20%20circle_marker_b4f65fec2570441f8a6ef11e4ff7c3ce.bindPopup%28popup_29e4bfaa1e464fcbb06fd8754721c983%29%0A%20%20%20%20%20%20%20%20%3B%0A%0A%20%20%20%20%20%20%20%20%0A%20%20%20%20%0A%20%20%20%20%0A%20%20%20%20%20%20%20%20%20%20%20%20var%20circle_marker_3a15ede027bb4643872efbdd9b1fff62%20%3D%20L.circleMarker%28%0A%20%20%20%20%20%20%20%20%20%20%20%20%20%20%20%20%5B40.582801696845586%2C%20-73.82236121088751%5D%2C%0A%20%20%20%20%20%20%20%20%20%20%20%20%20%20%20%20%7B%22bubblingMouseEvents%22%3A%20true%2C%20%22color%22%3A%20%22blue%22%2C%20%22dashArray%22%3A%20null%2C%20%22dashOffset%22%3A%20null%2C%20%22fill%22%3A%20true%2C%20%22fillColor%22%3A%20%22%23ffffff%22%2C%20%22fillOpacity%22%3A%200.7%2C%20%22fillRule%22%3A%20%22evenodd%22%2C%20%22lineCap%22%3A%20%22round%22%2C%20%22lineJoin%22%3A%20%22round%22%2C%20%22opacity%22%3A%201.0%2C%20%22radius%22%3A%205%2C%20%22stroke%22%3A%20true%2C%20%22weight%22%3A%203%7D%0A%20%20%20%20%20%20%20%20%20%20%20%20%29.addTo%28map_1932d9f708cb498bb57fd960fd9f9c5e%29%3B%0A%20%20%20%20%20%20%20%20%0A%20%20%20%20%0A%20%20%20%20%20%20%20%20var%20popup_31b62998485748a89a4813d145c8998a%20%3D%20L.popup%28%7B%22maxWidth%22%3A%20%22100%25%22%7D%29%3B%0A%0A%20%20%20%20%20%20%20%20%0A%20%20%20%20%20%20%20%20%20%20%20%20var%20html_467fab960de84b4eb1f574cf605a403f%20%3D%20%24%28%60%3Cdiv%20id%3D%22html_467fab960de84b4eb1f574cf605a403f%22%20style%3D%22width%3A%20100.0%25%3B%20height%3A%20100.0%25%3B%22%3ERockaway%20Beach%2C%20Clean%20Table%3C/div%3E%60%29%5B0%5D%3B%0A%20%20%20%20%20%20%20%20%20%20%20%20popup_31b62998485748a89a4813d145c8998a.setContent%28html_467fab960de84b4eb1f574cf605a403f%29%3B%0A%20%20%20%20%20%20%20%20%0A%0A%20%20%20%20%20%20%20%20circle_marker_3a15ede027bb4643872efbdd9b1fff62.bindPopup%28popup_31b62998485748a89a4813d145c8998a%29%0A%20%20%20%20%20%20%20%20%3B%0A%0A%20%20%20%20%20%20%20%20%0A%20%20%20%20%0A%20%20%20%20%0A%20%20%20%20%20%20%20%20%20%20%20%20var%20circle_marker_b8cd78c7178f4da8b5b50c766360beb7%20%3D%20L.circleMarker%28%0A%20%20%20%20%20%20%20%20%20%20%20%20%20%20%20%20%5B40.59826835959991%2C%20-74.0766743627905%5D%2C%0A%20%20%20%20%20%20%20%20%20%20%20%20%20%20%20%20%7B%22bubblingMouseEvents%22%3A%20true%2C%20%22color%22%3A%20%22blue%22%2C%20%22dashArray%22%3A%20null%2C%20%22dashOffset%22%3A%20null%2C%20%22fill%22%3A%20true%2C%20%22fillColor%22%3A%20%22%23ffffff%22%2C%20%22fillOpacity%22%3A%200.7%2C%20%22fillRule%22%3A%20%22evenodd%22%2C%20%22lineCap%22%3A%20%22round%22%2C%20%22lineJoin%22%3A%20%22round%22%2C%20%22opacity%22%3A%201.0%2C%20%22radius%22%3A%205%2C%20%22stroke%22%3A%20true%2C%20%22weight%22%3A%203%7D%0A%20%20%20%20%20%20%20%20%20%20%20%20%29.addTo%28map_1932d9f708cb498bb57fd960fd9f9c5e%29%3B%0A%20%20%20%20%20%20%20%20%0A%20%20%20%20%0A%20%20%20%20%20%20%20%20var%20popup_9287ff8be9754a4e8dcf2577abc1c255%20%3D%20L.popup%28%7B%22maxWidth%22%3A%20%22100%25%22%7D%29%3B%0A%0A%20%20%20%20%20%20%20%20%0A%20%20%20%20%20%20%20%20%20%20%20%20var%20html_86b1fa62214d485b9ca661d49c9677ec%20%3D%20%24%28%60%3Cdiv%20id%3D%22html_86b1fa62214d485b9ca661d49c9677ec%22%20style%3D%22width%3A%20100.0%25%3B%20height%3A%20100.0%25%3B%22%3EGrasmere%2C%20Clean%20Table%3C/div%3E%60%29%5B0%5D%3B%0A%20%20%20%20%20%20%20%20%20%20%20%20popup_9287ff8be9754a4e8dcf2577abc1c255.setContent%28html_86b1fa62214d485b9ca661d49c9677ec%29%3B%0A%20%20%20%20%20%20%20%20%0A%0A%20%20%20%20%20%20%20%20circle_marker_b8cd78c7178f4da8b5b50c766360beb7.bindPopup%28popup_9287ff8be9754a4e8dcf2577abc1c255%29%0A%20%20%20%20%20%20%20%20%3B%0A%0A%20%20%20%20%20%20%20%20%0A%20%20%20%20%0A%20%20%20%20%0A%20%20%20%20%20%20%20%20%20%20%20%20var%20circle_marker_2333146d9c074ff89318877a356dfd44%20%3D%20L.circleMarker%28%0A%20%20%20%20%20%20%20%20%20%20%20%20%20%20%20%20%5B40.7826825671257%2C%20-73.95325646837112%5D%2C%0A%20%20%20%20%20%20%20%20%20%20%20%20%20%20%20%20%7B%22bubblingMouseEvents%22%3A%20true%2C%20%22color%22%3A%20%22blue%22%2C%20%22dashArray%22%3A%20null%2C%20%22dashOffset%22%3A%20null%2C%20%22fill%22%3A%20true%2C%20%22fillColor%22%3A%20%22%23ffffff%22%2C%20%22fillOpacity%22%3A%200.7%2C%20%22fillRule%22%3A%20%22evenodd%22%2C%20%22lineCap%22%3A%20%22round%22%2C%20%22lineJoin%22%3A%20%22round%22%2C%20%22opacity%22%3A%201.0%2C%20%22radius%22%3A%205%2C%20%22stroke%22%3A%20true%2C%20%22weight%22%3A%203%7D%0A%20%20%20%20%20%20%20%20%20%20%20%20%29.addTo%28map_1932d9f708cb498bb57fd960fd9f9c5e%29%3B%0A%20%20%20%20%20%20%20%20%0A%20%20%20%20%0A%20%20%20%20%20%20%20%20var%20popup_5cece5f2b42045b997b36f8e98f46825%20%3D%20L.popup%28%7B%22maxWidth%22%3A%20%22100%25%22%7D%29%3B%0A%0A%20%20%20%20%20%20%20%20%0A%20%20%20%20%20%20%20%20%20%20%20%20var%20html_582036bb1a9942aeb5b2f90ea565a2df%20%3D%20%24%28%60%3Cdiv%20id%3D%22html_582036bb1a9942aeb5b2f90ea565a2df%22%20style%3D%22width%3A%20100.0%25%3B%20height%3A%20100.0%25%3B%22%3ECarnegie%20Hill%2C%20Clean%20Table%3C/div%3E%60%29%5B0%5D%3B%0A%20%20%20%20%20%20%20%20%20%20%20%20popup_5cece5f2b42045b997b36f8e98f46825.setContent%28html_582036bb1a9942aeb5b2f90ea565a2df%29%3B%0A%20%20%20%20%20%20%20%20%0A%0A%20%20%20%20%20%20%20%20circle_marker_2333146d9c074ff89318877a356dfd44.bindPopup%28popup_5cece5f2b42045b997b36f8e98f46825%29%0A%20%20%20%20%20%20%20%20%3B%0A%0A%20%20%20%20%20%20%20%20%0A%20%20%20%20%0A%20%20%20%20%0A%20%20%20%20%20%20%20%20%20%20%20%20var%20circle_marker_f890e0499c16409195008f7947e6fbba%20%3D%20L.circleMarker%28%0A%20%20%20%20%20%20%20%20%20%20%20%20%20%20%20%20%5B40.72325901885768%2C%20-73.98843368023597%5D%2C%0A%20%20%20%20%20%20%20%20%20%20%20%20%20%20%20%20%7B%22bubblingMouseEvents%22%3A%20true%2C%20%22color%22%3A%20%22blue%22%2C%20%22dashArray%22%3A%20null%2C%20%22dashOffset%22%3A%20null%2C%20%22fill%22%3A%20true%2C%20%22fillColor%22%3A%20%22%23ffffff%22%2C%20%22fillOpacity%22%3A%200.7%2C%20%22fillRule%22%3A%20%22evenodd%22%2C%20%22lineCap%22%3A%20%22round%22%2C%20%22lineJoin%22%3A%20%22round%22%2C%20%22opacity%22%3A%201.0%2C%20%22radius%22%3A%205%2C%20%22stroke%22%3A%20true%2C%20%22weight%22%3A%203%7D%0A%20%20%20%20%20%20%20%20%20%20%20%20%29.addTo%28map_1932d9f708cb498bb57fd960fd9f9c5e%29%3B%0A%20%20%20%20%20%20%20%20%0A%20%20%20%20%0A%20%20%20%20%20%20%20%20var%20popup_cfc4be50be5a44df8da862dbe5b09249%20%3D%20L.popup%28%7B%22maxWidth%22%3A%20%22100%25%22%7D%29%3B%0A%0A%20%20%20%20%20%20%20%20%0A%20%20%20%20%20%20%20%20%20%20%20%20var%20html_43b4da4f54924005a44a20630cc3775a%20%3D%20%24%28%60%3Cdiv%20id%3D%22html_43b4da4f54924005a44a20630cc3775a%22%20style%3D%22width%3A%20100.0%25%3B%20height%3A%20100.0%25%3B%22%3ENoho%2C%20Clean%20Table%3C/div%3E%60%29%5B0%5D%3B%0A%20%20%20%20%20%20%20%20%20%20%20%20popup_cfc4be50be5a44df8da862dbe5b09249.setContent%28html_43b4da4f54924005a44a20630cc3775a%29%3B%0A%20%20%20%20%20%20%20%20%0A%0A%20%20%20%20%20%20%20%20circle_marker_f890e0499c16409195008f7947e6fbba.bindPopup%28popup_cfc4be50be5a44df8da862dbe5b09249%29%0A%20%20%20%20%20%20%20%20%3B%0A%0A%20%20%20%20%20%20%20%20%0A%20%20%20%20%0A%20%20%20%20%0A%20%20%20%20%20%20%20%20%20%20%20%20var%20circle_marker_b9f281002e3f4ed0996fefa1ce04c2d8%20%3D%20L.circleMarker%28%0A%20%20%20%20%20%20%20%20%20%20%20%20%20%20%20%20%5B40.71522892046282%2C%20-74.00541529873355%5D%2C%0A%20%20%20%20%20%20%20%20%20%20%20%20%20%20%20%20%7B%22bubblingMouseEvents%22%3A%20true%2C%20%22color%22%3A%20%22blue%22%2C%20%22dashArray%22%3A%20null%2C%20%22dashOffset%22%3A%20null%2C%20%22fill%22%3A%20true%2C%20%22fillColor%22%3A%20%22%23ffffff%22%2C%20%22fillOpacity%22%3A%200.7%2C%20%22fillRule%22%3A%20%22evenodd%22%2C%20%22lineCap%22%3A%20%22round%22%2C%20%22lineJoin%22%3A%20%22round%22%2C%20%22opacity%22%3A%201.0%2C%20%22radius%22%3A%205%2C%20%22stroke%22%3A%20true%2C%20%22weight%22%3A%203%7D%0A%20%20%20%20%20%20%20%20%20%20%20%20%29.addTo%28map_1932d9f708cb498bb57fd960fd9f9c5e%29%3B%0A%20%20%20%20%20%20%20%20%0A%20%20%20%20%0A%20%20%20%20%20%20%20%20var%20popup_9e23db9af2934f339d1bce8747eefdbc%20%3D%20L.popup%28%7B%22maxWidth%22%3A%20%22100%25%22%7D%29%3B%0A%0A%20%20%20%20%20%20%20%20%0A%20%20%20%20%20%20%20%20%20%20%20%20var%20html_11d1fac3972f4ac195d27873204d4bf4%20%3D%20%24%28%60%3Cdiv%20id%3D%22html_11d1fac3972f4ac195d27873204d4bf4%22%20style%3D%22width%3A%20100.0%25%3B%20height%3A%20100.0%25%3B%22%3ECivic%20Center%2C%20Clean%20Table%3C/div%3E%60%29%5B0%5D%3B%0A%20%20%20%20%20%20%20%20%20%20%20%20popup_9e23db9af2934f339d1bce8747eefdbc.setContent%28html_11d1fac3972f4ac195d27873204d4bf4%29%3B%0A%20%20%20%20%20%20%20%20%0A%0A%20%20%20%20%20%20%20%20circle_marker_b9f281002e3f4ed0996fefa1ce04c2d8.bindPopup%28popup_9e23db9af2934f339d1bce8747eefdbc%29%0A%20%20%20%20%20%20%20%20%3B%0A%0A%20%20%20%20%20%20%20%20%0A%20%20%20%20%0A%20%20%20%20%0A%20%20%20%20%20%20%20%20%20%20%20%20var%20circle_marker_ba078be984e547d1b25e92c5949588d8%20%3D%20L.circleMarker%28%0A%20%20%20%20%20%20%20%20%20%20%20%20%20%20%20%20%5B40.7485096643122%2C%20-73.98871313285247%5D%2C%0A%20%20%20%20%20%20%20%20%20%20%20%20%20%20%20%20%7B%22bubblingMouseEvents%22%3A%20true%2C%20%22color%22%3A%20%22blue%22%2C%20%22dashArray%22%3A%20null%2C%20%22dashOffset%22%3A%20null%2C%20%22fill%22%3A%20true%2C%20%22fillColor%22%3A%20%22%23ffffff%22%2C%20%22fillOpacity%22%3A%200.7%2C%20%22fillRule%22%3A%20%22evenodd%22%2C%20%22lineCap%22%3A%20%22round%22%2C%20%22lineJoin%22%3A%20%22round%22%2C%20%22opacity%22%3A%201.0%2C%20%22radius%22%3A%205%2C%20%22stroke%22%3A%20true%2C%20%22weight%22%3A%203%7D%0A%20%20%20%20%20%20%20%20%20%20%20%20%29.addTo%28map_1932d9f708cb498bb57fd960fd9f9c5e%29%3B%0A%20%20%20%20%20%20%20%20%0A%20%20%20%20%0A%20%20%20%20%20%20%20%20var%20popup_dc503058aa79446bae7b917adf222c71%20%3D%20L.popup%28%7B%22maxWidth%22%3A%20%22100%25%22%7D%29%3B%0A%0A%20%20%20%20%20%20%20%20%0A%20%20%20%20%20%20%20%20%20%20%20%20var%20html_d3c16a2b0a7e4903b63a9d95d3d4824d%20%3D%20%24%28%60%3Cdiv%20id%3D%22html_d3c16a2b0a7e4903b63a9d95d3d4824d%22%20style%3D%22width%3A%20100.0%25%3B%20height%3A%20100.0%25%3B%22%3EMidtown%20South%2C%20Clean%20Table%3C/div%3E%60%29%5B0%5D%3B%0A%20%20%20%20%20%20%20%20%20%20%20%20popup_dc503058aa79446bae7b917adf222c71.setContent%28html_d3c16a2b0a7e4903b63a9d95d3d4824d%29%3B%0A%20%20%20%20%20%20%20%20%0A%0A%20%20%20%20%20%20%20%20circle_marker_ba078be984e547d1b25e92c5949588d8.bindPopup%28popup_dc503058aa79446bae7b917adf222c71%29%0A%20%20%20%20%20%20%20%20%3B%0A%0A%20%20%20%20%20%20%20%20%0A%20%20%20%20%0A%20%20%20%20%0A%20%20%20%20%20%20%20%20%20%20%20%20var%20circle_marker_9bf0c5dff31d40c9af2f4330a287c12c%20%3D%20L.circleMarker%28%0A%20%20%20%20%20%20%20%20%20%20%20%20%20%20%20%20%5B40.76028033131374%2C%20-73.96355614094303%5D%2C%0A%20%20%20%20%20%20%20%20%20%20%20%20%20%20%20%20%7B%22bubblingMouseEvents%22%3A%20true%2C%20%22color%22%3A%20%22blue%22%2C%20%22dashArray%22%3A%20null%2C%20%22dashOffset%22%3A%20null%2C%20%22fill%22%3A%20true%2C%20%22fillColor%22%3A%20%22%23ffffff%22%2C%20%22fillOpacity%22%3A%200.7%2C%20%22fillRule%22%3A%20%22evenodd%22%2C%20%22lineCap%22%3A%20%22round%22%2C%20%22lineJoin%22%3A%20%22round%22%2C%20%22opacity%22%3A%201.0%2C%20%22radius%22%3A%205%2C%20%22stroke%22%3A%20true%2C%20%22weight%22%3A%203%7D%0A%20%20%20%20%20%20%20%20%20%20%20%20%29.addTo%28map_1932d9f708cb498bb57fd960fd9f9c5e%29%3B%0A%20%20%20%20%20%20%20%20%0A%20%20%20%20%0A%20%20%20%20%20%20%20%20var%20popup_9a9e33ea6b9c48478a6f0d6d79b54188%20%3D%20L.popup%28%7B%22maxWidth%22%3A%20%22100%25%22%7D%29%3B%0A%0A%20%20%20%20%20%20%20%20%0A%20%20%20%20%20%20%20%20%20%20%20%20var%20html_997d13537ffe478ab7a14ba82b7be87e%20%3D%20%24%28%60%3Cdiv%20id%3D%22html_997d13537ffe478ab7a14ba82b7be87e%22%20style%3D%22width%3A%20100.0%25%3B%20height%3A%20100.0%25%3B%22%3ESutton%20Place%2C%20Clean%20Table%3C/div%3E%60%29%5B0%5D%3B%0A%20%20%20%20%20%20%20%20%20%20%20%20popup_9a9e33ea6b9c48478a6f0d6d79b54188.setContent%28html_997d13537ffe478ab7a14ba82b7be87e%29%3B%0A%20%20%20%20%20%20%20%20%0A%0A%20%20%20%20%20%20%20%20circle_marker_9bf0c5dff31d40c9af2f4330a287c12c.bindPopup%28popup_9a9e33ea6b9c48478a6f0d6d79b54188%29%0A%20%20%20%20%20%20%20%20%3B%0A%0A%20%20%20%20%20%20%20%20%0A%20%20%20%20%0A%20%20%20%20%0A%20%20%20%20%20%20%20%20%20%20%20%20var%20circle_marker_a4a124c55a0a4ade993e9ec12320628e%20%3D%20L.circleMarker%28%0A%20%20%20%20%20%20%20%20%20%20%20%20%20%20%20%20%5B40.76028033131374%2C%20-73.96355614094303%5D%2C%0A%20%20%20%20%20%20%20%20%20%20%20%20%20%20%20%20%7B%22bubblingMouseEvents%22%3A%20true%2C%20%22color%22%3A%20%22blue%22%2C%20%22dashArray%22%3A%20null%2C%20%22dashOffset%22%3A%20null%2C%20%22fill%22%3A%20true%2C%20%22fillColor%22%3A%20%22%23ffffff%22%2C%20%22fillOpacity%22%3A%200.7%2C%20%22fillRule%22%3A%20%22evenodd%22%2C%20%22lineCap%22%3A%20%22round%22%2C%20%22lineJoin%22%3A%20%22round%22%2C%20%22opacity%22%3A%201.0%2C%20%22radius%22%3A%205%2C%20%22stroke%22%3A%20true%2C%20%22weight%22%3A%203%7D%0A%20%20%20%20%20%20%20%20%20%20%20%20%29.addTo%28map_1932d9f708cb498bb57fd960fd9f9c5e%29%3B%0A%20%20%20%20%20%20%20%20%0A%20%20%20%20%0A%20%20%20%20%20%20%20%20var%20popup_5b0b65eebc2c4797861bf3190dc513aa%20%3D%20L.popup%28%7B%22maxWidth%22%3A%20%22100%25%22%7D%29%3B%0A%0A%20%20%20%20%20%20%20%20%0A%20%20%20%20%20%20%20%20%20%20%20%20var%20html_a8f77a8e6bec475ab7c2bc24af1702d5%20%3D%20%24%28%60%3Cdiv%20id%3D%22html_a8f77a8e6bec475ab7c2bc24af1702d5%22%20style%3D%22width%3A%20100.0%25%3B%20height%3A%20100.0%25%3B%22%3ESutton%20Place%2C%20Clean%20Table%3C/div%3E%60%29%5B0%5D%3B%0A%20%20%20%20%20%20%20%20%20%20%20%20popup_5b0b65eebc2c4797861bf3190dc513aa.setContent%28html_a8f77a8e6bec475ab7c2bc24af1702d5%29%3B%0A%20%20%20%20%20%20%20%20%0A%0A%20%20%20%20%20%20%20%20circle_marker_a4a124c55a0a4ade993e9ec12320628e.bindPopup%28popup_5b0b65eebc2c4797861bf3190dc513aa%29%0A%20%20%20%20%20%20%20%20%3B%0A%0A%20%20%20%20%20%20%20%20%0A%20%20%20%20%0A%20%20%20%20%0A%20%20%20%20%20%20%20%20%20%20%20%20var%20circle_marker_ef530295f439402687fe59e83842af5a%20%3D%20L.circleMarker%28%0A%20%20%20%20%20%20%20%20%20%20%20%20%20%20%20%20%5B40.739673047638426%2C%20-73.9909471052826%5D%2C%0A%20%20%20%20%20%20%20%20%20%20%20%20%20%20%20%20%7B%22bubblingMouseEvents%22%3A%20true%2C%20%22color%22%3A%20%22blue%22%2C%20%22dashArray%22%3A%20null%2C%20%22dashOffset%22%3A%20null%2C%20%22fill%22%3A%20true%2C%20%22fillColor%22%3A%20%22%23ffffff%22%2C%20%22fillOpacity%22%3A%200.7%2C%20%22fillRule%22%3A%20%22evenodd%22%2C%20%22lineCap%22%3A%20%22round%22%2C%20%22lineJoin%22%3A%20%22round%22%2C%20%22opacity%22%3A%201.0%2C%20%22radius%22%3A%205%2C%20%22stroke%22%3A%20true%2C%20%22weight%22%3A%203%7D%0A%20%20%20%20%20%20%20%20%20%20%20%20%29.addTo%28map_1932d9f708cb498bb57fd960fd9f9c5e%29%3B%0A%20%20%20%20%20%20%20%20%0A%20%20%20%20%0A%20%20%20%20%20%20%20%20var%20popup_79f1fef58ec2487582b3482f4f068372%20%3D%20L.popup%28%7B%22maxWidth%22%3A%20%22100%25%22%7D%29%3B%0A%0A%20%20%20%20%20%20%20%20%0A%20%20%20%20%20%20%20%20%20%20%20%20var%20html_43ff428450ac4f4d85f45e28261b3e9f%20%3D%20%24%28%60%3Cdiv%20id%3D%22html_43ff428450ac4f4d85f45e28261b3e9f%22%20style%3D%22width%3A%20100.0%25%3B%20height%3A%20100.0%25%3B%22%3EFlatiron%2C%20Clean%20Table%3C/div%3E%60%29%5B0%5D%3B%0A%20%20%20%20%20%20%20%20%20%20%20%20popup_79f1fef58ec2487582b3482f4f068372.setContent%28html_43ff428450ac4f4d85f45e28261b3e9f%29%3B%0A%20%20%20%20%20%20%20%20%0A%0A%20%20%20%20%20%20%20%20circle_marker_ef530295f439402687fe59e83842af5a.bindPopup%28popup_79f1fef58ec2487582b3482f4f068372%29%0A%20%20%20%20%20%20%20%20%3B%0A%0A%20%20%20%20%20%20%20%20%0A%20%20%20%20%0A%20%20%20%20%0A%20%20%20%20%20%20%20%20%20%20%20%20var%20circle_marker_97a28a35348b4af481e4449f834b3e50%20%3D%20L.circleMarker%28%0A%20%20%20%20%20%20%20%20%20%20%20%20%20%20%20%20%5B40.79060155670148%2C%20-73.82667757138641%5D%2C%0A%20%20%20%20%20%20%20%20%20%20%20%20%20%20%20%20%7B%22bubblingMouseEvents%22%3A%20true%2C%20%22color%22%3A%20%22blue%22%2C%20%22dashArray%22%3A%20null%2C%20%22dashOffset%22%3A%20null%2C%20%22fill%22%3A%20true%2C%20%22fillColor%22%3A%20%22%23ffffff%22%2C%20%22fillOpacity%22%3A%200.7%2C%20%22fillRule%22%3A%20%22evenodd%22%2C%20%22lineCap%22%3A%20%22round%22%2C%20%22lineJoin%22%3A%20%22round%22%2C%20%22opacity%22%3A%201.0%2C%20%22radius%22%3A%205%2C%20%22stroke%22%3A%20true%2C%20%22weight%22%3A%203%7D%0A%20%20%20%20%20%20%20%20%20%20%20%20%29.addTo%28map_1932d9f708cb498bb57fd960fd9f9c5e%29%3B%0A%20%20%20%20%20%20%20%20%0A%20%20%20%20%0A%20%20%20%20%20%20%20%20var%20popup_5cda9762467247a1b5bec0c1143b7718%20%3D%20L.popup%28%7B%22maxWidth%22%3A%20%22100%25%22%7D%29%3B%0A%0A%20%20%20%20%20%20%20%20%0A%20%20%20%20%20%20%20%20%20%20%20%20var%20html_5edc0b945f0448bd842c4764837fde03%20%3D%20%24%28%60%3Cdiv%20id%3D%22html_5edc0b945f0448bd842c4764837fde03%22%20style%3D%22width%3A%20100.0%25%3B%20height%3A%20100.0%25%3B%22%3EMalba%2C%20Clean%20Table%3C/div%3E%60%29%5B0%5D%3B%0A%20%20%20%20%20%20%20%20%20%20%20%20popup_5cda9762467247a1b5bec0c1143b7718.setContent%28html_5edc0b945f0448bd842c4764837fde03%29%3B%0A%20%20%20%20%20%20%20%20%0A%0A%20%20%20%20%20%20%20%20circle_marker_97a28a35348b4af481e4449f834b3e50.bindPopup%28popup_5cda9762467247a1b5bec0c1143b7718%29%0A%20%20%20%20%20%20%20%20%3B%0A%0A%20%20%20%20%20%20%20%20%0A%20%20%20%20%0A%3C/script%3E onload=\"this.contentDocument.open();this.contentDocument.write(    decodeURIComponent(this.getAttribute('data-html')));this.contentDocument.close();\" allowfullscreen webkitallowfullscreen mozallowfullscreen></iframe></div></div>"
     },
     "metadata": {},
     "execution_count": 62
    }
   ],
   "source": [
    " map_ny = folium.Map(location=[nlatitude, nlongitude], zoom_start=10)\n",
    "\n",
    "# add markers to map\n",
    "for lat, lng, venue, neighborhood in zip(nyveg['Neighborhood Latitude'], nyveg['Neighborhood Longitude'], nyveg['Venue'], nyveg['Neighborhood']):\n",
    "    label = '{}, {}'.format(neighborhood, borough)\n",
    "    label = folium.Popup(label, parse_html=True)\n",
    "    folium.CircleMarker(\n",
    "        [lat, lng],\n",
    "        radius=5,\n",
    "        popup=label,\n",
    "        color='blue',\n",
    "        fill=True,\n",
    "        fill_color='#ffffff',\n",
    "        fill_opacity=0.7,\n",
    "        parse_html=False).add_to(map_ny)  \n",
    "    \n",
    "map_ny"
   ]
  },
  {
   "cell_type": "code",
   "execution_count": null,
   "metadata": {},
   "outputs": [],
   "source": []
  }
 ]
}