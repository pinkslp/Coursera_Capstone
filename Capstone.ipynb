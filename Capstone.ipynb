{
 "metadata": {
  "language_info": {
   "codemirror_mode": {
    "name": "ipython",
    "version": 3
   },
   "file_extension": ".py",
   "mimetype": "text/x-python",
   "name": "python",
   "nbconvert_exporter": "python",
   "pygments_lexer": "ipython3",
   "version": "3.9.5"
  },
  "orig_nbformat": 4,
  "kernelspec": {
   "name": "python3",
   "display_name": "Python 3.9.5 64-bit"
  },
  "interpreter": {
   "hash": "aee8b7b246df8f9039afb4144a1f6fd8d2ca17a180786b69acc140d282b71a49"
  }
 },
 "nbformat": 4,
 "nbformat_minor": 2,
 "cells": [
  {
   "source": [
    "# Coursera Capstone Project\n",
    "# Name: Shreyas Iyengar\n",
    "# Occupation: Student\n",
    "\n",
    "## This Notebook will be used for all of the Capstone Assignments, and will use markdown to organize the sections based on each week, and then subsections for each week.\n",
    "\n",
    "\n",
    "\n",
    "\n",
    "\n"
   ],
   "cell_type": "markdown",
   "metadata": {}
  },
  {
   "source": [
    "## Week 1: Capstone Project Notebook\n",
    "### This week, we have to create a notebook, with our name, and the title \"Cousera Capstone Project\". This will also include importing pandas and numpy, and then finally printing \"Hello Capstone Project Course\". \n",
    "\n",
    "### For ease of use, I have included the import statements at the top of the notebook as I will be using the import statements in other sections of the notebook. ###\n"
   ],
   "cell_type": "markdown",
   "metadata": {}
  },
  {
   "cell_type": "code",
   "execution_count": null,
   "metadata": {},
   "outputs": [],
   "source": [
    "print(\"Hello Capstone Project Course\")"
   ]
  },
  {
   "cell_type": "code",
   "execution_count": 1,
   "metadata": {},
   "outputs": [],
   "source": [
    "import pandas as pd \n",
    "import numpy as np \n",
    "\n",
    "from bs4 import BeautifulSoup\n",
    "import requests \n",
    "\n",
    "import geocoder \n",
    "import folium\n",
    "from geopy.geocoders import Nominatim\n",
    "\n",
    "pd.set_option('display.max_columns', None)\n",
    "pd.set_option('display.max_rows', None)\n",
    "\n",
    "import matplotlib.cm as cm\n",
    "import matplotlib.colors as colors\n",
    "\n",
    "from sklearn.cluster import KMeans\n",
    "\n",
    "\n"
   ]
  },
  {
   "source": [
    "## Week 3: Segmenting and Clustering Neighborhoods in Toronto\n",
    "### Following the lab where we had to work with the New York Neighborhoods and create an clustering analysis based on the venues in each neighborhood, we have to replicate the same idea using the city of Toronto, with some added stuff, including some webscraping to grab the data and then further data wrangling and cleaning to suit our purposes. For this assignment, I followed the analysis that we tried to do with the New York data, which was clustering based on most common venues in the area. That is replicated below."
   ],
   "cell_type": "markdown",
   "metadata": {}
  },
  {
   "source": [
    "#### Here we are trying to grab the data from the wikipedia page of postal codes in Canada, mader easier by the fact that postal codes in Toronto start with the letter M."
   ],
   "cell_type": "markdown",
   "metadata": {}
  },
  {
   "cell_type": "code",
   "execution_count": null,
   "metadata": {
    "tags": []
   },
   "outputs": [],
   "source": [
    "#grab URL and store it in a URL variable\n",
    "URL = \"https://en.wikipedia.org/wiki/List_of_postal_codes_of_Canada:_M\"\n",
    "\n",
    "#obtain raw html\n",
    "r = requests.get(URL)\n",
    "#parse into beautifulsoup \n",
    "soup = BeautifulSoup(r.content) \n",
    "#find required content\n",
    "table = soup.findAll('table',attrs ={'rules':'all','cellspacing':0,}) \n",
    "#convert to text\n",
    "a = table[0].text\n",
    "\n",
    "\"\"\"\n",
    "beautiful soup text has a lot of newlines. split by new line, and then run through\n",
    "the rest of the code to remove the newline and replace it with an empty char\n",
    "\"\"\"\n",
    "b = a.split(\"\\n\")\n",
    "for word in b:\n",
    "    word.replace(\"\\n\", \"\")\n",
    "    word.replace(\"\\n\", \"\")\n",
    "    word.replace(\"\\n\", \"\")\n",
    "#create a list\n",
    "c = []\n",
    "#now only add stuff that isn't an empty char or does not contain Not Assigned\n",
    "for word in b:\n",
    "    if \"Not assigned\" not in word and word != \"\":\n",
    "        c.append(word)\n",
    "#create a new table to store results\n",
    "table_contents=[]\n",
    "\n",
    "for word in c:\n",
    "    #dict to store values for each neighborhood\n",
    "    cell = {}\n",
    "    #Since each postal code is 3 digits, go till the third digit and set it as the postal code value\n",
    "    cell['Postal Code'] = word[:3]\n",
    "    #set a temp variable equal to the rest of the word, which has the borough and the neighborhood\n",
    "    temp = word.replace(word[:3], '')\n",
    "    #split by the parenthesis, and grab the first half which is the borough, set it to the borough of the cell\n",
    "    cell['Borough'] = temp.split('(')[0]\n",
    "    #same logic for the neighborhood, just strip all the uneeded characters\n",
    "    cell['Neighborhood'] = (((((temp).split('(')[1]).strip(')')).replace(' /',',')).replace(')',' ')).strip(' ')\n",
    "    #append the dict to the table\n",
    "    table_contents.append(cell)\n",
    "#convert to df\n",
    "df=pd.DataFrame(table_contents)\n",
    "#handle special cases\n",
    "df['Borough']=df['Borough'].replace({'Downtown TorontoStn A PO Boxes25 The Esplanade':'Downtown Toronto Stn A',\n",
    "                                             'East TorontoBusiness reply mail Processing Centre969 Eastern':'East Toronto Business',\n",
    "                                             'EtobicokeNorthwest':'Etobicoke Northwest','East YorkEast Toronto':'East York/East Toronto',\n",
    "                                             'MississaugaCanada Post Gateway Processing Centre':'Mississauga'})\n",
    "\n",
    "    \n",
    "    \n",
    "    "
   ]
  },
  {
   "cell_type": "code",
   "execution_count": null,
   "metadata": {},
   "outputs": [],
   "source": [
    "#print the shape \n",
    "df.shape"
   ]
  },
  {
   "cell_type": "code",
   "execution_count": null,
   "metadata": {},
   "outputs": [],
   "source": [
    "\n",
    "df.head()"
   ]
  },
  {
   "source": [
    "#### Couldn't get the geocoder package to work, so I used the Geospatial dataset to grab the Latitude and Longitude for each neighborhood\n"
   ],
   "cell_type": "markdown",
   "metadata": {}
  },
  {
   "cell_type": "code",
   "execution_count": null,
   "metadata": {},
   "outputs": [],
   "source": [
    "f = open(\"/Users/shreyasiyengar/VSC/Coursera_Capstone/Geospatial_Coordinates.csv\", \"r\")\n",
    "df2 = pd.read_csv(\"/Users/shreyasiyengar/VSC/Coursera_Capstone/Geospatial_Coordinates.csv\",\",\",header = 0)\n",
    "df2.head()\n",
    "\n",
    "\n"
   ]
  },
  {
   "cell_type": "code",
   "execution_count": null,
   "metadata": {},
   "outputs": [],
   "source": [
    "df.head()"
   ]
  },
  {
   "source": [
    "#### Here I merged df, which had the postal code borough and neighborhood with df2 which contained the Lat and Long coordinates of each postal code."
   ],
   "cell_type": "markdown",
   "metadata": {}
  },
  {
   "cell_type": "code",
   "execution_count": null,
   "metadata": {},
   "outputs": [],
   "source": [
    "result = pd.merge(df, df2[['Postal Code', 'Latitude', 'Longitude']], )\n",
    "result"
   ]
  },
  {
   "source": [
    "#### Here we're grabbing the coordinates of the city of Toronto to generate the base map upon which we will overlay the neighborhoods and clusters."
   ],
   "cell_type": "markdown",
   "metadata": {}
  },
  {
   "cell_type": "code",
   "execution_count": null,
   "metadata": {},
   "outputs": [],
   "source": [
    "address = 'Toronto, ON'\n",
    "\n",
    "geolocator = Nominatim(user_agent=\"trawno_explorer\")\n",
    "location = geolocator.geocode(address)\n",
    "latitude = location.latitude\n",
    "longitude = location.longitude\n",
    "print('The geograpical coordinates of Toronto are {}, {}.'.format(latitude, longitude))\n"
   ]
  },
  {
   "source": [
    "#### Below we are printing the base map with each neighborhood marked in red and white"
   ],
   "cell_type": "markdown",
   "metadata": {}
  },
  {
   "cell_type": "code",
   "execution_count": null,
   "metadata": {},
   "outputs": [],
   "source": [
    "map_trawno = folium.Map(location=[latitude, longitude], zoom_start=10)\n",
    "\n",
    "# add markers to map\n",
    "for lat, lng, borough, neighborhood in zip(result['Latitude'], result['Longitude'], result['Borough'], result['Neighborhood']):\n",
    "    label = '{}, {}'.format(neighborhood, borough)\n",
    "    label = folium.Popup(label, parse_html=True)\n",
    "    folium.CircleMarker(\n",
    "        [lat, lng],\n",
    "        radius=5,\n",
    "        popup=label,\n",
    "        color='red',\n",
    "        fill=True,\n",
    "        fill_color='#ffffff',\n",
    "        fill_opacity=0.7,\n",
    "        parse_html=False).add_to(map_trawno)  \n",
    "    \n",
    "map_trawno"
   ]
  },
  {
   "source": [
    "#### This cell is for prepping for using the Foursquare places API"
   ],
   "cell_type": "markdown",
   "metadata": {}
  },
  {
   "cell_type": "code",
   "execution_count": null,
   "metadata": {},
   "outputs": [],
   "source": [
    "CLIENT_ID = 'KOGTV4EAQCBU054ZKLCRMAINCATFAHUJWLHPTAUZ4A3N33SG' # your Foursquare ID\n",
    "CLIENT_SECRET = '4UAMZ5NN21XIQHRK0MRSJ20TYYMF5MABJLQAQEDLRLEPTWGA' # your Foursquare Secret\n",
    "VERSION = '20180605' # Foursquare API version\n",
    "LIMIT = 100 # A default Foursquare API limit value\n",
    "\n",
    "print('Your credentials:')\n",
    "print('CLIENT_ID: ' + CLIENT_ID)\n",
    "print('CLIENT_SECRET:' + CLIENT_SECRET)"
   ]
  },
  {
   "cell_type": "code",
   "execution_count": null,
   "metadata": {},
   "outputs": [],
   "source": [
    "#### The following code, following the New York Lab, gets the nearby venues for a neighborhood using the lat-long, we then use this function to grab the nearby venues for each neighborhood in our dataset."
   ]
  },
  {
   "cell_type": "code",
   "execution_count": null,
   "metadata": {},
   "outputs": [],
   "source": [
    "def getNearbyVenues(names, latitudes, longitudes, radius=500):\n",
    "    \n",
    "    venues_list=[]\n",
    "    for name, lat, lng in zip(names, latitudes, longitudes):\n",
    "        print(name)\n",
    "            \n",
    "        # create the API request URL\n",
    "        url = 'https://api.foursquare.com/v2/venues/explore?&client_id={}&client_secret={}&v={}&ll={},{}&radius={}&limit={}'.format(\n",
    "            CLIENT_ID, \n",
    "            CLIENT_SECRET, \n",
    "            VERSION, \n",
    "            lat, \n",
    "            lng, \n",
    "            radius, \n",
    "            LIMIT)\n",
    "            \n",
    "        # make the GET request\n",
    "        results = requests.get(url).json()[\"response\"]['groups'][0]['items']\n",
    "        \n",
    "        # return only relevant information for each nearby venue\n",
    "        venues_list.append([(\n",
    "            name, \n",
    "            lat, \n",
    "            lng, \n",
    "            v['venue']['name'], \n",
    "            v['venue']['location']['lat'], \n",
    "            v['venue']['location']['lng'],  \n",
    "            v['venue']['categories'][0]['name']) for v in results])\n",
    "\n",
    "    nearby_venues = pd.DataFrame([item for venue_list in venues_list for item in venue_list])\n",
    "    nearby_venues.columns = ['Neighborhood', \n",
    "                  'Neighborhood Latitude', \n",
    "                  'Neighborhood Longitude', \n",
    "                  'Venue', \n",
    "                  'Venue Latitude', \n",
    "                  'Venue Longitude', \n",
    "                  'Venue Category']\n",
    "    \n",
    "    return(nearby_venues)"
   ]
  },
  {
   "source": [
    "#### All the nearby venues for each neighboorhood are stored in trawno_venues, and the name of each neighborhood is pritned out."
   ],
   "cell_type": "markdown",
   "metadata": {}
  },
  {
   "cell_type": "code",
   "execution_count": null,
   "metadata": {},
   "outputs": [],
   "source": [
    "trawno_venues = getNearbyVenues(names=result['Neighborhood'],\n",
    "                                   latitudes= result['Latitude'],\n",
    "                                   longitudes=result['Longitude']\n",
    "                                  )"
   ]
  },
  {
   "cell_type": "code",
   "execution_count": null,
   "metadata": {},
   "outputs": [],
   "source": [
    "trawno_venues.head()"
   ]
  },
  {
   "cell_type": "code",
   "execution_count": null,
   "metadata": {},
   "outputs": [],
   "source": [
    "print('There are {} unique categories.'.format(len(trawno_venues['Venue Category'].unique())))"
   ]
  },
  {
   "source": [
    "#### One Hot encoding for later grouping by mean."
   ],
   "cell_type": "markdown",
   "metadata": {}
  },
  {
   "cell_type": "code",
   "execution_count": null,
   "metadata": {},
   "outputs": [],
   "source": [
    "# one hot encoding\n",
    "trawno_onehot = pd.get_dummies(trawno_venues[['Venue Category']], prefix=\"\", prefix_sep=\"\")\n",
    "\n",
    "# add neighborhood column back to dataframe\n",
    "trawno_onehot['Neighborhood'] = trawno_venues['Neighborhood'] \n",
    "\n",
    "# move neighborhood column to the first column\n",
    "fixed_columns = [trawno_onehot.columns[-1]] + list(trawno_onehot.columns[:-1])\n",
    "trawno_onehot = trawno_onehot[fixed_columns]\n",
    "\n",
    "trawno_onehot.head()"
   ]
  },
  {
   "cell_type": "code",
   "execution_count": null,
   "metadata": {},
   "outputs": [],
   "source": [
    "trawno_grouped = trawno_onehot.groupby('Neighborhood').mean().reset_index()\n",
    "trawno_grouped"
   ]
  },
  {
   "source": [
    "#### the code below grabs the top 5 venues for each neighborhood and prints the frequency of each venue "
   ],
   "cell_type": "markdown",
   "metadata": {}
  },
  {
   "cell_type": "code",
   "execution_count": null,
   "metadata": {
    "tags": [
     "outputPrepend"
    ]
   },
   "outputs": [],
   "source": [
    "num_top_venues = 5\n",
    "\n",
    "for hood in trawno_grouped['Neighborhood']:\n",
    "    print(\"----\"+hood+\"----\")\n",
    "    temp = trawno_grouped[trawno_grouped['Neighborhood'] == hood].T.reset_index()\n",
    "    temp.columns = ['venue','freq']\n",
    "    temp = temp.iloc[1:]\n",
    "    temp['freq'] = temp['freq'].astype(float)\n",
    "    temp = temp.round({'freq': 2})\n",
    "    print(temp.sort_values('freq', ascending=False).reset_index(drop=True).head(num_top_venues))\n",
    "    print('\\n')"
   ]
  },
  {
   "source": [
    "#### Grab the most common venues, limit by 10."
   ],
   "cell_type": "markdown",
   "metadata": {}
  },
  {
   "cell_type": "code",
   "execution_count": null,
   "metadata": {},
   "outputs": [],
   "source": [
    "def return_most_common_venues(row, num_top_venues):\n",
    "    row_categories = row.iloc[1:]\n",
    "    row_categories_sorted = row_categories.sort_values(ascending=False)\n",
    "    \n",
    "    return row_categories_sorted.index.values[0:num_top_venues]"
   ]
  },
  {
   "cell_type": "code",
   "execution_count": null,
   "metadata": {},
   "outputs": [],
   "source": [
    "num_top_venues = 10\n",
    "\n",
    "indicators = ['st', 'nd', 'rd']\n",
    "\n",
    "# create columns according to number of top venues\n",
    "columns = ['Neighborhood']\n",
    "for ind in np.arange(num_top_venues):\n",
    "    try:\n",
    "        columns.append('{}{} Most Common Venue'.format(ind+1, indicators[ind]))\n",
    "    except:\n",
    "        columns.append('{}th Most Common Venue'.format(ind+1))\n",
    "\n",
    "# create a new dataframe\n",
    "neighborhoods_venues_sorted = pd.DataFrame(columns=columns)\n",
    "neighborhoods_venues_sorted['Neighborhood'] = trawno_grouped['Neighborhood']\n",
    "\n",
    "for ind in np.arange(trawno_grouped.shape[0]):\n",
    "    neighborhoods_venues_sorted.iloc[ind, 1:] = return_most_common_venues(trawno_grouped.iloc[ind, :], num_top_venues)\n",
    "\n",
    "neighborhoods_venues_sorted.head()"
   ]
  },
  {
   "source": [
    "#### Clustering Analysis"
   ],
   "cell_type": "markdown",
   "metadata": {}
  },
  {
   "cell_type": "code",
   "execution_count": null,
   "metadata": {},
   "outputs": [],
   "source": [
    "# set number of clusters\n",
    "kclusters = 5\n",
    "\n",
    "trawno_grouped_clustering = trawno_grouped.drop('Neighborhood', 1)\n",
    "\n",
    "# run k-means clustering\n",
    "kmeans = KMeans(n_clusters=kclusters, random_state=0).fit(trawno_grouped_clustering)\n",
    "\n",
    "# check cluster labels generated for each row in the dataframe\n",
    "kmeans.labels_[0:10] "
   ]
  },
  {
   "cell_type": "code",
   "execution_count": null,
   "metadata": {},
   "outputs": [],
   "source": [
    "# add clustering labels\n",
    "neighborhoods_venues_sorted.insert(0, 'Cluster Labels', kmeans.labels_)\n",
    "\n",
    "trawno_merged = result\n",
    "\n",
    "# merge trawno_grouped with trawno_data to add latitude/longitude for each neighborhood\n",
    "trawno_merged = trawno_merged.join(neighborhoods_venues_sorted.set_index('Neighborhood'), on='Neighborhood')\n",
    "\n",
    "trawno_merged.head() # check the last columns!"
   ]
  },
  {
   "cell_type": "code",
   "execution_count": null,
   "metadata": {},
   "outputs": [],
   "source": [
    "#For some reason the Cluster Labels are converted to float which won't work with the mapping,so convert to ints.\n",
    "trawno_merged['Cluster Labels'] = trawno_merged['Cluster Labels'].fillna(0.0).astype(int)\n",
    "trawno_merged.head()\n",
    "\n",
    "\n",
    "\n",
    "\n",
    "\n",
    "\n",
    "\n"
   ]
  },
  {
   "source": [
    "#### Map out each Cluster."
   ],
   "cell_type": "markdown",
   "metadata": {}
  },
  {
   "cell_type": "code",
   "execution_count": null,
   "metadata": {},
   "outputs": [],
   "source": [
    "# create map\n",
    "map_clusters = folium.Map(location=[latitude, longitude], zoom_start=11)\n",
    "\n",
    "\n",
    "# set color scheme for the clusters\n",
    "x = np.arange(kclusters)\n",
    "ys = [i + x + (i*x)**2 for i in range(kclusters)]\n",
    "colors_array = cm.rainbow(np.linspace(0, 1, len(ys)))\n",
    "rainbow = [colors.rgb2hex(i) for i in colors_array]\n",
    "\n",
    "# add markers to the map\n",
    "markers_colors = []\n",
    "for lat, lon, poi, cluster in zip(trawno_merged['Latitude'], trawno_merged['Longitude'], trawno_merged['Neighborhood'], trawno_merged['Cluster Labels']):\n",
    "    label = folium.Popup(str(poi) + ' Cluster ' + str(cluster), parse_html=True)\n",
    "    folium.CircleMarker(\n",
    "        [lat, lon],\n",
    "        radius=5,\n",
    "        popup=label,\n",
    "        color=rainbow[cluster-1],\n",
    "        fill=True,\n",
    "        fill_color=rainbow[cluster-1],\n",
    "        fill_opacity=0.7).add_to(map_clusters)\n",
    "       \n",
    "map_clusters"
   ]
  },
  {
   "cell_type": "code",
   "execution_count": null,
   "metadata": {},
   "outputs": [],
   "source": [
    "trawno_merged.loc[trawno_merged['Cluster Labels'] == 0, trawno_merged.columns[[1] + list(range(5, trawno_merged.shape[1]))]]\n",
    "\n",
    "\n"
   ]
  },
  {
   "cell_type": "code",
   "execution_count": null,
   "metadata": {},
   "outputs": [],
   "source": [
    "trawno_merged.loc[trawno_merged['Cluster Labels'] == 1, trawno_merged.columns[[1] + list(range(5, trawno_merged.shape[1]))]]\n"
   ]
  },
  {
   "cell_type": "code",
   "execution_count": null,
   "metadata": {},
   "outputs": [],
   "source": [
    "trawno_merged.loc[trawno_merged['Cluster Labels'] == 2, trawno_merged.columns[[1] + list(range(5, trawno_merged.shape[1]))]]\n"
   ]
  },
  {
   "cell_type": "code",
   "execution_count": null,
   "metadata": {},
   "outputs": [],
   "source": [
    "trawno_merged.loc[trawno_merged['Cluster Labels'] == 3, trawno_merged.columns[[1] + list(range(5, trawno_merged.shape[1]))]]\n"
   ]
  },
  {
   "cell_type": "code",
   "execution_count": null,
   "metadata": {},
   "outputs": [],
   "source": [
    "trawno_merged.loc[trawno_merged['Cluster Labels'] == 4, trawno_merged.columns[[1] + list(range(5, trawno_merged.shape[1]))]]\n"
   ]
  },
  {
   "source": [
    "## Cluster Data Analysis\n",
    "\n",
    "Cluster 0: Most likely very dense, very people focused areas, as there are a lot of food joints, restaurants and cafes in the area, and not a lot of parks in many neighborhoods, implying that there isn't a lot of space for parks.\n",
    "\n",
    "Cluster 1: Maybe a lot of immigrants, considering that there are a lot of mexican and middle eastern restaurants in the area. Might also not be as dense as cluster 0, considering there are a lot more parks than food destinations in the area.\n",
    "\n",
    "Cluster 2: Seems further away from city center, as there are more parks and trails, and some of these neighborhoods might be closer to the airports seeing as there is an airport as a venue in one of the boroughs.\n",
    "\n",
    "Cluster 3: Maybe more suburban as it has more variety in venues, as well as more pools, baseball fields, and a variety of services and restaurants\n",
    "\n",
    "Cluster 4: Not really sure about the distinguishing feature in this cluster, but I would assume that this is in a more dense area, becasue of the restuaruants and the gyms in the area. "
   ],
   "cell_type": "markdown",
   "metadata": {}
  },
  {
   "source": [
    "##"
   ],
   "cell_type": "markdown",
   "metadata": {}
  },
  {
   "source": [
    "## Week 4 and 5 Capstone Project - The Battle of Neighborhoods\n",
    "\n",
    "### For this project, I want to find out which City, New York City or Toronto, is more vegan friendly, so that I can build a vegan restaruant in the city that is more receptive towards vegan restaurants, and would therefore want a vegan restaurant more. \n"
   ],
   "cell_type": "markdown",
   "metadata": {}
  },
  {
   "source": [
    "## Firstly, we need to make a table for New York and Toronto, which contains the Neighborhoods of each city, the postal codes/zip codes, borough, and the Lat-Long coordinates for each neighborhood.\n"
   ],
   "cell_type": "markdown",
   "metadata": {}
  },
  {
   "cell_type": "code",
   "execution_count": 2,
   "metadata": {
    "tags": []
   },
   "outputs": [
    {
     "output_type": "stream",
     "name": "stdout",
     "text": [
      "https://cf-courses-data.s3.us.cloud-object-storage.appdomain.cloud/IBMDeveloperSkillsNetwork-DS0701EN-SkillsNetwork/labs/newyork_data.json\n"
     ]
    },
    {
     "output_type": "execute_result",
     "data": {
      "text/plain": [
       "  Borough Neighborhood   Latitude  Longitude\n",
       "0   Bronx    Wakefield  40.894705 -73.847201\n",
       "1   Bronx   Co-op City  40.874294 -73.829939\n",
       "2   Bronx  Eastchester  40.887556 -73.827806\n",
       "3   Bronx    Fieldston  40.895437 -73.905643\n",
       "4   Bronx    Riverdale  40.890834 -73.912585"
      ],
      "text/html": "<div>\n<style scoped>\n    .dataframe tbody tr th:only-of-type {\n        vertical-align: middle;\n    }\n\n    .dataframe tbody tr th {\n        vertical-align: top;\n    }\n\n    .dataframe thead th {\n        text-align: right;\n    }\n</style>\n<table border=\"1\" class=\"dataframe\">\n  <thead>\n    <tr style=\"text-align: right;\">\n      <th></th>\n      <th>Borough</th>\n      <th>Neighborhood</th>\n      <th>Latitude</th>\n      <th>Longitude</th>\n    </tr>\n  </thead>\n  <tbody>\n    <tr>\n      <th>0</th>\n      <td>Bronx</td>\n      <td>Wakefield</td>\n      <td>40.894705</td>\n      <td>-73.847201</td>\n    </tr>\n    <tr>\n      <th>1</th>\n      <td>Bronx</td>\n      <td>Co-op City</td>\n      <td>40.874294</td>\n      <td>-73.829939</td>\n    </tr>\n    <tr>\n      <th>2</th>\n      <td>Bronx</td>\n      <td>Eastchester</td>\n      <td>40.887556</td>\n      <td>-73.827806</td>\n    </tr>\n    <tr>\n      <th>3</th>\n      <td>Bronx</td>\n      <td>Fieldston</td>\n      <td>40.895437</td>\n      <td>-73.905643</td>\n    </tr>\n    <tr>\n      <th>4</th>\n      <td>Bronx</td>\n      <td>Riverdale</td>\n      <td>40.890834</td>\n      <td>-73.912585</td>\n    </tr>\n  </tbody>\n</table>\n</div>"
     },
     "metadata": {},
     "execution_count": 2
    }
   ],
   "source": [
    "#New York\n",
    "\n",
    "# #grab URL and store it in a URL variable\n",
    "NURL = \"https://cf-courses-data.s3.us.cloud-object-storage.appdomain.cloud/IBMDeveloperSkillsNetwork-DS0701EN-SkillsNetwork/labs/newyork_data.json\"\n",
    "\n",
    "print(NURL)\n",
    "\n",
    "# #obtain raw html\n",
    "nyr = requests.get(NURL).json()\n",
    "\n",
    "nydata = nyr[\"features\"]\n",
    "\n",
    "# define the dataframe columns\n",
    "column_names = ['Borough', 'Neighborhood', 'Latitude', 'Longitude'] \n",
    "\n",
    "# instantiate the dataframe\n",
    "nyneigh = pd.DataFrame(columns=column_names)    \n",
    "\n",
    "for data in nydata:\n",
    "    borough = neighborhood_name = data['properties']['borough'] \n",
    "    neighborhood_name = data['properties']['name']\n",
    "        \n",
    "    neighborhood_latlon = data['geometry']['coordinates']\n",
    "    neighborhood_lat = neighborhood_latlon[1]\n",
    "    neighborhood_lon = neighborhood_latlon[0]\n",
    "    \n",
    "    nyneigh = nyneigh.append({'Borough': borough,\n",
    "                                          'Neighborhood': neighborhood_name,\n",
    "                                          'Latitude': neighborhood_lat,\n",
    "                                          'Longitude': neighborhood_lon}, ignore_index=True)\n",
    "\n",
    "nyneigh.head()\n"
   ]
  },
  {
   "cell_type": "code",
   "execution_count": 8,
   "metadata": {},
   "outputs": [
    {
     "output_type": "stream",
     "name": "stderr",
     "text": [
      "/Users/shreyasiyengar/Library/Python/3.9/lib/python/site-packages/IPython/core/interactiveshell.py:3441: FutureWarning: In a future version of pandas all arguments of read_csv except for the argument 'filepath_or_buffer' will be keyword-only\n  exec(code_obj, self.user_global_ns, self.user_ns)\n"
     ]
    },
    {
     "output_type": "execute_result",
     "data": {
      "text/plain": [
       "  Postal Code           Borough                      Neighborhood   Latitude  \\\n",
       "0         M3A        North York                         Parkwoods  43.753259   \n",
       "1         M4A        North York                  Victoria Village  43.725882   \n",
       "2         M5A  Downtown Toronto         Regent Park, Harbourfront  43.654260   \n",
       "3         M6A        North York  Lawrence Manor, Lawrence Heights  43.718518   \n",
       "4         M7A      Queen's Park     Ontario Provincial Government  43.662301   \n",
       "\n",
       "   Longitude  \n",
       "0 -79.329656  \n",
       "1 -79.315572  \n",
       "2 -79.360636  \n",
       "3 -79.464763  \n",
       "4 -79.389494  "
      ],
      "text/html": "<div>\n<style scoped>\n    .dataframe tbody tr th:only-of-type {\n        vertical-align: middle;\n    }\n\n    .dataframe tbody tr th {\n        vertical-align: top;\n    }\n\n    .dataframe thead th {\n        text-align: right;\n    }\n</style>\n<table border=\"1\" class=\"dataframe\">\n  <thead>\n    <tr style=\"text-align: right;\">\n      <th></th>\n      <th>Postal Code</th>\n      <th>Borough</th>\n      <th>Neighborhood</th>\n      <th>Latitude</th>\n      <th>Longitude</th>\n    </tr>\n  </thead>\n  <tbody>\n    <tr>\n      <th>0</th>\n      <td>M3A</td>\n      <td>North York</td>\n      <td>Parkwoods</td>\n      <td>43.753259</td>\n      <td>-79.329656</td>\n    </tr>\n    <tr>\n      <th>1</th>\n      <td>M4A</td>\n      <td>North York</td>\n      <td>Victoria Village</td>\n      <td>43.725882</td>\n      <td>-79.315572</td>\n    </tr>\n    <tr>\n      <th>2</th>\n      <td>M5A</td>\n      <td>Downtown Toronto</td>\n      <td>Regent Park, Harbourfront</td>\n      <td>43.654260</td>\n      <td>-79.360636</td>\n    </tr>\n    <tr>\n      <th>3</th>\n      <td>M6A</td>\n      <td>North York</td>\n      <td>Lawrence Manor, Lawrence Heights</td>\n      <td>43.718518</td>\n      <td>-79.464763</td>\n    </tr>\n    <tr>\n      <th>4</th>\n      <td>M7A</td>\n      <td>Queen's Park</td>\n      <td>Ontario Provincial Government</td>\n      <td>43.662301</td>\n      <td>-79.389494</td>\n    </tr>\n  </tbody>\n</table>\n</div>"
     },
     "metadata": {},
     "execution_count": 8
    }
   ],
   "source": [
    "#toronto\n",
    "\n",
    "#grab URL and store it in a URL variable\n",
    "URL = \"https://en.wikipedia.org/wiki/List_of_postal_codes_of_Canada:_M\"\n",
    "\n",
    "#obtain raw html\n",
    "r = requests.get(URL)\n",
    "#parse into beautifulsoup \n",
    "soup = BeautifulSoup(r.content) \n",
    "#find required content\n",
    "table = soup.findAll('table',attrs ={'rules':'all','cellspacing':0,}) \n",
    "#convert to text\n",
    "a = table[0].text\n",
    "\n",
    "\"\"\"\n",
    "beautiful soup text has a lot of newlines. split by new line, and then run through\n",
    "the rest of the code to remove the newline and replace it with an empty char\n",
    "\"\"\"\n",
    "b = a.split(\"\\n\")\n",
    "for word in b:\n",
    "    word.replace(\"\\n\", \"\")\n",
    "    word.replace(\"\\n\", \"\")\n",
    "    word.replace(\"\\n\", \"\")\n",
    "#create a list\n",
    "c = []\n",
    "#now only add stuff that isn't an empty char or does not contain Not Assigned\n",
    "for word in b:\n",
    "    if \"Not assigned\" not in word and word != \"\":\n",
    "        c.append(word)\n",
    "#create a new table to store results\n",
    "table_contents=[]\n",
    "\n",
    "for word in c:\n",
    "    #dict to store values for each neighborhood\n",
    "    cell = {}\n",
    "    #Since each postal code is 3 digits, go till the third digit and set it as the postal code value\n",
    "    cell['Postal Code'] = word[:3]\n",
    "    #set a temp variable equal to the rest of the word, which has the borough and the neighborhood\n",
    "    temp = word.replace(word[:3], '')\n",
    "    #split by the parenthesis, and grab the first half which is the borough, set it to the borough of the cell\n",
    "    cell['Borough'] = temp.split('(')[0]\n",
    "    #same logic for the neighborhood, just strip all the uneeded characters\n",
    "    cell['Neighborhood'] = (((((temp).split('(')[1]).strip(')')).replace(' /',',')).replace(')',' ')).strip(' ')\n",
    "    #append the dict to the table\n",
    "    table_contents.append(cell)\n",
    "#convert to trawneigh\n",
    "trawneigh=pd.DataFrame(table_contents)\n",
    "#handle special cases\n",
    "trawneigh['Borough']=trawneigh['Borough'].replace({'Downtown TorontoStn A PO Boxes25 The Esplanade':'Downtown Toronto Stn A',\n",
    "                                             'East TorontoBusiness reply mail Processing Centre969 Eastern':'East Toronto Business',\n",
    "                                             'EtobicokeNorthwest':'Etobicoke Northwest','East YorkEast Toronto':'East York/East Toronto',\n",
    "                                             'MississaugaCanada Post Gateway Processing Centre':'Mississauga'})\n",
    "\n",
    "f = open(\"/Users/shreyasiyengar/VSC/Coursera_Capstone/Geospatial_Coordinates.csv\", \"r\")\n",
    "trawnocoords = pd.read_csv(\"/Users/shreyasiyengar/VSC/Coursera_Capstone/Geospatial_Coordinates.csv\",\",\",header = 0)\n",
    "\n",
    "\n",
    "\n",
    "trawneigh.head()\n",
    "    \n",
    "trawneigh = pd.merge(trawneigh, trawnocoords[['Postal Code', 'Latitude', 'Longitude']], )\n",
    "trawneigh.head()\n",
    "    "
   ]
  },
  {
   "source": [
    "### Now that we have the neighborhood tables for NYC and Toronto, we need to grab the foursquare venue tables for each city."
   ],
   "cell_type": "markdown",
   "metadata": {}
  },
  {
   "source": [
    "#### Foursquare Credential Prep"
   ],
   "cell_type": "markdown",
   "metadata": {}
  },
  {
   "cell_type": "code",
   "execution_count": 12,
   "metadata": {},
   "outputs": [
    {
     "output_type": "stream",
     "name": "stdout",
     "text": [
      "Your credentials:\nCLIENT_ID: KOGTV4EAQCBU054ZKLCRMAINCATFAHUJWLHPTAUZ4A3N33SG\nCLIENT_SECRET:4UAMZ5NN21XIQHRK0MRSJ20TYYMF5MABJLQAQEDLRLEPTWGA\n"
     ]
    }
   ],
   "source": [
    "\n",
    "CLIENT_ID = 'KOGTV4EAQCBU054ZKLCRMAINCATFAHUJWLHPTAUZ4A3N33SG' # your Foursquare ID\n",
    "CLIENT_SECRET = '4UAMZ5NN21XIQHRK0MRSJ20TYYMF5MABJLQAQEDLRLEPTWGA' # your Foursquare Secret\n",
    "VERSION = '20180605' # Foursquare API version\n",
    "LIMIT = 100 # A default Foursquare API limit value\n",
    "\n",
    "print('Your credentials:')\n",
    "print('CLIENT_ID: ' + CLIENT_ID)\n",
    "print('CLIENT_SECRET:' + CLIENT_SECRET)"
   ]
  },
  {
   "source": [
    "#### The following code, following the New York Lab, gets the nearby venues for a neighborhood using the lat-long, we then use this function to grab the nearby venues for each neighborhood in our dataset."
   ],
   "cell_type": "markdown",
   "metadata": {}
  },
  {
   "cell_type": "code",
   "execution_count": 13,
   "metadata": {},
   "outputs": [],
   "source": [
    "def getNearbyVenues(names, latitudes, longitudes, radius=500):\n",
    "    \n",
    "    venues_list=[]\n",
    "    for name, lat, lng in zip(names, latitudes, longitudes):\n",
    "        print(name)\n",
    "            \n",
    "        # create the API request URL\n",
    "        url = 'https://api.foursquare.com/v2/venues/explore?&client_id={}&client_secret={}&v={}&ll={},{}&radius={}&limit={}'.format(\n",
    "            CLIENT_ID, \n",
    "            CLIENT_SECRET, \n",
    "            VERSION, \n",
    "            lat, \n",
    "            lng, \n",
    "            radius, \n",
    "            LIMIT)\n",
    "            \n",
    "        # make the GET request\n",
    "        results = requests.get(url).json()[\"response\"]['groups'][0]['items']\n",
    "        \n",
    "        # return only relevant information for each nearby venue\n",
    "        venues_list.append([(\n",
    "            name, \n",
    "            lat, \n",
    "            lng, \n",
    "            v['venue']['name'], \n",
    "            v['venue']['location']['lat'], \n",
    "            v['venue']['location']['lng'],  \n",
    "            v['venue']['categories'][0]['name']) for v in results])\n",
    "\n",
    "    nearby_venues = pd.DataFrame([item for venue_list in venues_list for item in venue_list])\n",
    "    nearby_venues.columns = ['Neighborhood', \n",
    "                  'Neighborhood Latitude', \n",
    "                  'Neighborhood Longitude', \n",
    "                  'Venue', \n",
    "                  'Venue Latitude', \n",
    "                  'Venue Longitude', \n",
    "                  'Venue Category']\n",
    "    \n",
    "    return(nearby_venues)\n",
    "\n",
    "    "
   ]
  },
  {
   "cell_type": "code",
   "execution_count": 14,
   "metadata": {},
   "outputs": [
    {
     "output_type": "stream",
     "name": "stdout",
     "text": [
      "Parkwoods\n",
      "Victoria Village\n",
      "Regent Park, Harbourfront\n",
      "Lawrence Manor, Lawrence Heights\n",
      "Ontario Provincial Government\n",
      "Islington Avenue\n",
      "Malvern, Rouge\n",
      "Don Mills North\n",
      "Parkview Hill, Woodbine Gardens\n",
      "Garden District, Ryerson\n",
      "Glencairn\n",
      "West Deane Park, Princess Gardens, Martin Grove, Islington, Cloverdale\n",
      "Rouge Hill, Port Union, Highland Creek\n",
      "Don Mills South\n",
      "Woodbine Heights\n",
      "St. James Town\n",
      "Humewood-Cedarvale\n",
      "Eringate, Bloordale Gardens, Old Burnhamthorpe, Markland Wood\n",
      "Guildwood, Morningside, West Hill\n",
      "The Beaches\n",
      "Berczy Park\n",
      "Caledonia-Fairbanks\n",
      "Woburn\n",
      "Leaside\n",
      "Central Bay Street\n",
      "Christie\n",
      "Cedarbrae\n",
      "Hillcrest Village\n",
      "Bathurst Manor, Wilson Heights, Downsview North\n",
      "Thorncliffe Park\n",
      "Richmond, Adelaide, King\n",
      "Dufferin, Dovercourt Village\n",
      "Scarborough Village\n",
      "Fairview, Henry Farm, Oriole\n",
      "Northwood Park, York University\n",
      "The Danforth  East\n",
      "Harbourfront East, Union Station, Toronto Islands\n",
      "Little Portugal, Trinity\n",
      "Kennedy Park, Ionview, East Birchmount Park\n",
      "Bayview Village\n",
      "Downsview East\n",
      "The Danforth West, Riverdale\n",
      "Toronto Dominion Centre, Design Exchange\n",
      "Brockton, Parkdale Village, Exhibition Place\n",
      "Golden Mile, Clairlea, Oakridge\n",
      "York Mills, Silver Hills\n",
      "Downsview West\n",
      "India Bazaar, The Beaches West\n",
      "Commerce Court, Victoria Hotel\n",
      "North Park, Maple Leaf Park, Upwood Park\n",
      "Humber Summit\n",
      "Cliffside, Cliffcrest, Scarborough Village West\n",
      "Willowdale, Newtonbrook\n",
      "Downsview Central\n",
      "Studio District\n",
      "Bedford Park, Lawrence Manor East\n",
      "Del Ray, Mount Dennis, Keelsdale and Silverthorn\n",
      "Humberlea, Emery\n",
      "Birch Cliff, Cliffside West\n",
      "Willowdale South\n",
      "Downsview Northwest\n",
      "Lawrence Park\n",
      "Roselawn\n",
      "Runnymede, The Junction North\n",
      "Weston\n",
      "Dorset Park, Wexford Heights, Scarborough Town Centre\n",
      "York Mills West\n",
      "Davisville North\n",
      "Forest Hill North & West\n",
      "High Park, The Junction South\n",
      "Westmount\n",
      "Wexford, Maryvale\n",
      "Willowdale West\n",
      "North Toronto West\n",
      "The Annex, North Midtown, Yorkville\n",
      "Parkdale, Roncesvalles\n",
      "Enclave of L4W\n",
      "Kingsview Village, St. Phillips, Martin Grove Gardens, Richview Gardens\n",
      "Agincourt\n",
      "Davisville\n",
      "University of Toronto, Harbord\n",
      "Runnymede, Swansea\n",
      "Clarks Corners, Tam O'Shanter, Sullivan\n",
      "Moore Park, Summerhill East\n",
      "Kensington Market, Chinatown, Grange Park\n",
      "Milliken, Agincourt North, Steeles East, L'Amoreaux East\n",
      "Summerhill West, Rathnelly, South Hill, Forest Hill SE, Deer Park\n",
      "CN Tower, King and Spadina, Railway Lands, Harbourfront West, Bathurst Quay, South Niagara, Island airport\n",
      "New Toronto, Mimico South, Humber Bay Shores\n",
      "South Steeles, Silverstone, Humbergate, Jamestown, Mount Olive, Beaumond Heights, Thistletown, Albion Gardens\n",
      "Steeles West, L'Amoreaux West\n",
      "Rosedale\n",
      "Enclave of M5E\n",
      "Alderwood, Long Branch\n",
      "Clairville, Humberwood, Woodbine Downs, West Humber, Kipling Heights, Rexdale, Elms, Tandridge, Old Rexdale\n",
      "Upper Rouge\n",
      "St. James Town, Cabbagetown\n",
      "First Canadian Place, Underground city\n",
      "The Kingsway, Montgomery Road, Old Mill North\n",
      "Church and Wellesley\n",
      "Enclave of M4L\n",
      "Old Mill South, King's Mill Park, Sunnylea, Humber Bay, Mimico NE, The Queensway East, Royal York South East, Kingsway Park South East\n",
      "Mimico NW, The Queensway West, South of Bloor, Kingsway Park South West, Royal York South West\n",
      "Wakefield\n",
      "Co-op City\n",
      "Eastchester\n",
      "Fieldston\n",
      "Riverdale\n",
      "Kingsbridge\n",
      "Marble Hill\n",
      "Woodlawn\n",
      "Norwood\n",
      "Williamsbridge\n",
      "Baychester\n",
      "Pelham Parkway\n",
      "City Island\n",
      "Bedford Park\n",
      "University Heights\n",
      "Morris Heights\n",
      "Fordham\n",
      "East Tremont\n",
      "West Farms\n",
      "High  Bridge\n",
      "Melrose\n",
      "Mott Haven\n",
      "Port Morris\n",
      "Longwood\n",
      "Hunts Point\n",
      "Morrisania\n",
      "Soundview\n",
      "Clason Point\n",
      "Throgs Neck\n",
      "Country Club\n",
      "Parkchester\n",
      "Westchester Square\n",
      "Van Nest\n",
      "Morris Park\n",
      "Belmont\n",
      "Spuyten Duyvil\n",
      "North Riverdale\n",
      "Pelham Bay\n",
      "Schuylerville\n",
      "Edgewater Park\n",
      "Castle Hill\n",
      "Olinville\n",
      "Pelham Gardens\n",
      "Concourse\n",
      "Unionport\n",
      "Edenwald\n",
      "Bay Ridge\n",
      "Bensonhurst\n",
      "Sunset Park\n",
      "Greenpoint\n",
      "Gravesend\n",
      "Brighton Beach\n",
      "Sheepshead Bay\n",
      "Manhattan Terrace\n",
      "Flatbush\n",
      "Crown Heights\n",
      "East Flatbush\n",
      "Kensington\n",
      "Windsor Terrace\n",
      "Prospect Heights\n",
      "Brownsville\n",
      "Williamsburg\n",
      "Bushwick\n",
      "Bedford Stuyvesant\n",
      "Brooklyn Heights\n",
      "Cobble Hill\n",
      "Carroll Gardens\n",
      "Red Hook\n",
      "Gowanus\n",
      "Fort Greene\n",
      "Park Slope\n",
      "Cypress Hills\n",
      "East New York\n",
      "Starrett City\n",
      "Canarsie\n",
      "Flatlands\n",
      "Mill Island\n",
      "Manhattan Beach\n",
      "Coney Island\n",
      "Bath Beach\n",
      "Borough Park\n",
      "Dyker Heights\n",
      "Gerritsen Beach\n",
      "Marine Park\n",
      "Clinton Hill\n",
      "Sea Gate\n",
      "Downtown\n",
      "Boerum Hill\n",
      "Prospect Lefferts Gardens\n",
      "Ocean Hill\n",
      "City Line\n",
      "Bergen Beach\n",
      "Midwood\n",
      "Prospect Park South\n",
      "Georgetown\n",
      "East Williamsburg\n",
      "North Side\n",
      "South Side\n",
      "Ocean Parkway\n",
      "Fort Hamilton\n",
      "Chinatown\n",
      "Washington Heights\n",
      "Inwood\n",
      "Hamilton Heights\n",
      "Manhattanville\n",
      "Central Harlem\n",
      "East Harlem\n",
      "Upper East Side\n",
      "Yorkville\n",
      "Lenox Hill\n",
      "Roosevelt Island\n",
      "Upper West Side\n",
      "Lincoln Square\n",
      "Clinton\n",
      "Midtown\n",
      "Murray Hill\n",
      "Chelsea\n",
      "Greenwich Village\n",
      "East Village\n",
      "Lower East Side\n",
      "Tribeca\n",
      "Little Italy\n",
      "Soho\n",
      "West Village\n",
      "Manhattan Valley\n",
      "Morningside Heights\n",
      "Gramercy\n",
      "Battery Park City\n",
      "Financial District\n",
      "Astoria\n",
      "Woodside\n",
      "Jackson Heights\n",
      "Elmhurst\n",
      "Howard Beach\n",
      "Corona\n",
      "Forest Hills\n",
      "Kew Gardens\n",
      "Richmond Hill\n",
      "Flushing\n",
      "Long Island City\n",
      "Sunnyside\n",
      "East Elmhurst\n",
      "Maspeth\n",
      "Ridgewood\n",
      "Glendale\n",
      "Rego Park\n",
      "Woodhaven\n",
      "Ozone Park\n",
      "South Ozone Park\n",
      "College Point\n",
      "Whitestone\n",
      "Bayside\n",
      "Auburndale\n",
      "Little Neck\n",
      "Douglaston\n",
      "Glen Oaks\n",
      "Bellerose\n",
      "Kew Gardens Hills\n",
      "Fresh Meadows\n",
      "Briarwood\n",
      "Jamaica Center\n",
      "Oakland Gardens\n",
      "Queens Village\n",
      "Hollis\n",
      "South Jamaica\n",
      "St. Albans\n",
      "Rochdale\n",
      "Springfield Gardens\n",
      "Cambria Heights\n",
      "Rosedale\n",
      "Far Rockaway\n",
      "Broad Channel\n",
      "Breezy Point\n",
      "Steinway\n",
      "Beechhurst\n",
      "Bay Terrace\n",
      "Edgemere\n",
      "Arverne\n",
      "Rockaway Beach\n",
      "Neponsit\n",
      "Murray Hill\n",
      "Floral Park\n",
      "Holliswood\n",
      "Jamaica Estates\n",
      "Queensboro Hill\n",
      "Hillcrest\n",
      "Ravenswood\n",
      "Lindenwood\n",
      "Laurelton\n",
      "Lefrak City\n",
      "Belle Harbor\n",
      "Rockaway Park\n",
      "Somerville\n",
      "Brookville\n",
      "Bellaire\n",
      "North Corona\n",
      "Forest Hills Gardens\n",
      "St. George\n",
      "New Brighton\n",
      "Stapleton\n",
      "Rosebank\n",
      "West Brighton\n",
      "Grymes Hill\n",
      "Todt Hill\n",
      "South Beach\n",
      "Port Richmond\n",
      "Mariner's Harbor\n",
      "Port Ivory\n",
      "Castleton Corners\n",
      "New Springville\n",
      "Travis\n",
      "New Dorp\n",
      "Oakwood\n",
      "Great Kills\n",
      "Eltingville\n",
      "Annadale\n",
      "Woodrow\n",
      "Tottenville\n",
      "Tompkinsville\n",
      "Silver Lake\n",
      "Sunnyside\n",
      "Ditmas Park\n",
      "Wingate\n",
      "Rugby\n",
      "Park Hill\n",
      "Westerleigh\n",
      "Graniteville\n",
      "Arlington\n",
      "Arrochar\n",
      "Grasmere\n",
      "Old Town\n",
      "Dongan Hills\n",
      "Midland Beach\n",
      "Grant City\n",
      "New Dorp Beach\n",
      "Bay Terrace\n",
      "Huguenot\n",
      "Pleasant Plains\n",
      "Butler Manor\n",
      "Charleston\n",
      "Rossville\n",
      "Arden Heights\n",
      "Greenridge\n",
      "Heartland Village\n",
      "Chelsea\n",
      "Bloomfield\n",
      "Bulls Head\n",
      "Carnegie Hill\n",
      "Noho\n",
      "Civic Center\n",
      "Midtown South\n",
      "Richmond Town\n",
      "Shore Acres\n",
      "Clifton\n",
      "Concord\n",
      "Emerson Hill\n",
      "Randall Manor\n",
      "Howland Hook\n",
      "Elm Park\n",
      "Remsen Village\n",
      "New Lots\n",
      "Paerdegat Basin\n",
      "Mill Basin\n",
      "Jamaica Hills\n",
      "Utopia\n",
      "Pomonok\n",
      "Astoria Heights\n",
      "Claremont Village\n",
      "Concourse Village\n",
      "Mount Eden\n",
      "Mount Hope\n",
      "Sutton Place\n",
      "Hunters Point\n",
      "Turtle Bay\n",
      "Tudor City\n",
      "Stuyvesant Town\n",
      "Flatiron\n",
      "Sunnyside Gardens\n",
      "Blissville\n",
      "Fulton Ferry\n",
      "Vinegar Hill\n",
      "Weeksville\n",
      "Broadway Junction\n",
      "Dumbo\n",
      "Manor Heights\n",
      "Willowbrook\n",
      "Sandy Ground\n",
      "Egbertville\n",
      "Roxbury\n",
      "Homecrest\n",
      "Middle Village\n",
      "Prince's Bay\n",
      "Lighthouse Hill\n",
      "Richmond Valley\n",
      "Malba\n",
      "Highland Park\n",
      "Madison\n",
      "Bronxdale\n",
      "Allerton\n",
      "Kingsbridge Heights\n",
      "Erasmus\n",
      "Hudson Yards\n",
      "Hammels\n",
      "Bayswater\n",
      "Queensbridge\n",
      "Fox Hills\n"
     ]
    }
   ],
   "source": [
    "trawno_venues = getNearbyVenues(names=trawneigh['Neighborhood'],\n",
    "                                   latitudes= trawneigh['Latitude'],\n",
    "                                   longitudes=trawneigh['Longitude']\n",
    "                                  )\n",
    "nyc_venues = getNearbyVenues(names=nyneigh['Neighborhood'],\n",
    "                                   latitudes= nyneigh['Latitude'],\n",
    "                                   longitudes=nyneigh['Longitude']\n",
    "                                  )                                 "
   ]
  },
  {
   "cell_type": "code",
   "execution_count": 16,
   "metadata": {},
   "outputs": [
    {
     "output_type": "execute_result",
     "data": {
      "text/plain": [
       "       Neighborhood  Neighborhood Latitude  Neighborhood Longitude  \\\n",
       "0         Parkwoods              43.753259              -79.329656   \n",
       "1         Parkwoods              43.753259              -79.329656   \n",
       "2         Parkwoods              43.753259              -79.329656   \n",
       "3  Victoria Village              43.725882              -79.315572   \n",
       "4  Victoria Village              43.725882              -79.315572   \n",
       "\n",
       "                    Venue  Venue Latitude  Venue Longitude  \\\n",
       "0         Brookbanks Park       43.751976       -79.332140   \n",
       "1                     KFC       43.754387       -79.333021   \n",
       "2           Variety Store       43.751974       -79.333114   \n",
       "3  Victoria Village Arena       43.723481       -79.315635   \n",
       "4             Tim Hortons       43.725517       -79.313103   \n",
       "\n",
       "         Venue Category  \n",
       "0                  Park  \n",
       "1  Fast Food Restaurant  \n",
       "2     Food & Drink Shop  \n",
       "3          Hockey Arena  \n",
       "4           Coffee Shop  "
      ],
      "text/html": "<div>\n<style scoped>\n    .dataframe tbody tr th:only-of-type {\n        vertical-align: middle;\n    }\n\n    .dataframe tbody tr th {\n        vertical-align: top;\n    }\n\n    .dataframe thead th {\n        text-align: right;\n    }\n</style>\n<table border=\"1\" class=\"dataframe\">\n  <thead>\n    <tr style=\"text-align: right;\">\n      <th></th>\n      <th>Neighborhood</th>\n      <th>Neighborhood Latitude</th>\n      <th>Neighborhood Longitude</th>\n      <th>Venue</th>\n      <th>Venue Latitude</th>\n      <th>Venue Longitude</th>\n      <th>Venue Category</th>\n    </tr>\n  </thead>\n  <tbody>\n    <tr>\n      <th>0</th>\n      <td>Parkwoods</td>\n      <td>43.753259</td>\n      <td>-79.329656</td>\n      <td>Brookbanks Park</td>\n      <td>43.751976</td>\n      <td>-79.332140</td>\n      <td>Park</td>\n    </tr>\n    <tr>\n      <th>1</th>\n      <td>Parkwoods</td>\n      <td>43.753259</td>\n      <td>-79.329656</td>\n      <td>KFC</td>\n      <td>43.754387</td>\n      <td>-79.333021</td>\n      <td>Fast Food Restaurant</td>\n    </tr>\n    <tr>\n      <th>2</th>\n      <td>Parkwoods</td>\n      <td>43.753259</td>\n      <td>-79.329656</td>\n      <td>Variety Store</td>\n      <td>43.751974</td>\n      <td>-79.333114</td>\n      <td>Food &amp; Drink Shop</td>\n    </tr>\n    <tr>\n      <th>3</th>\n      <td>Victoria Village</td>\n      <td>43.725882</td>\n      <td>-79.315572</td>\n      <td>Victoria Village Arena</td>\n      <td>43.723481</td>\n      <td>-79.315635</td>\n      <td>Hockey Arena</td>\n    </tr>\n    <tr>\n      <th>4</th>\n      <td>Victoria Village</td>\n      <td>43.725882</td>\n      <td>-79.315572</td>\n      <td>Tim Hortons</td>\n      <td>43.725517</td>\n      <td>-79.313103</td>\n      <td>Coffee Shop</td>\n    </tr>\n  </tbody>\n</table>\n</div>"
     },
     "metadata": {},
     "execution_count": 16
    }
   ],
   "source": [
    "trawno_venues.head()"
   ]
  },
  {
   "cell_type": "code",
   "execution_count": 17,
   "metadata": {},
   "outputs": [
    {
     "output_type": "execute_result",
     "data": {
      "text/plain": [
       "  Neighborhood  Neighborhood Latitude  Neighborhood Longitude  \\\n",
       "0    Wakefield              40.894705              -73.847201   \n",
       "1    Wakefield              40.894705              -73.847201   \n",
       "2    Wakefield              40.894705              -73.847201   \n",
       "3    Wakefield              40.894705              -73.847201   \n",
       "4    Wakefield              40.894705              -73.847201   \n",
       "\n",
       "              Venue  Venue Latitude  Venue Longitude  Venue Category  \n",
       "0  Lollipops Gelato       40.894123       -73.845892    Dessert Shop  \n",
       "1          Rite Aid       40.896649       -73.844846        Pharmacy  \n",
       "2  Carvel Ice Cream       40.890487       -73.848568  Ice Cream Shop  \n",
       "3         Walgreens       40.896528       -73.844700        Pharmacy  \n",
       "4           Dunkin'       40.890459       -73.849089      Donut Shop  "
      ],
      "text/html": "<div>\n<style scoped>\n    .dataframe tbody tr th:only-of-type {\n        vertical-align: middle;\n    }\n\n    .dataframe tbody tr th {\n        vertical-align: top;\n    }\n\n    .dataframe thead th {\n        text-align: right;\n    }\n</style>\n<table border=\"1\" class=\"dataframe\">\n  <thead>\n    <tr style=\"text-align: right;\">\n      <th></th>\n      <th>Neighborhood</th>\n      <th>Neighborhood Latitude</th>\n      <th>Neighborhood Longitude</th>\n      <th>Venue</th>\n      <th>Venue Latitude</th>\n      <th>Venue Longitude</th>\n      <th>Venue Category</th>\n    </tr>\n  </thead>\n  <tbody>\n    <tr>\n      <th>0</th>\n      <td>Wakefield</td>\n      <td>40.894705</td>\n      <td>-73.847201</td>\n      <td>Lollipops Gelato</td>\n      <td>40.894123</td>\n      <td>-73.845892</td>\n      <td>Dessert Shop</td>\n    </tr>\n    <tr>\n      <th>1</th>\n      <td>Wakefield</td>\n      <td>40.894705</td>\n      <td>-73.847201</td>\n      <td>Rite Aid</td>\n      <td>40.896649</td>\n      <td>-73.844846</td>\n      <td>Pharmacy</td>\n    </tr>\n    <tr>\n      <th>2</th>\n      <td>Wakefield</td>\n      <td>40.894705</td>\n      <td>-73.847201</td>\n      <td>Carvel Ice Cream</td>\n      <td>40.890487</td>\n      <td>-73.848568</td>\n      <td>Ice Cream Shop</td>\n    </tr>\n    <tr>\n      <th>3</th>\n      <td>Wakefield</td>\n      <td>40.894705</td>\n      <td>-73.847201</td>\n      <td>Walgreens</td>\n      <td>40.896528</td>\n      <td>-73.844700</td>\n      <td>Pharmacy</td>\n    </tr>\n    <tr>\n      <th>4</th>\n      <td>Wakefield</td>\n      <td>40.894705</td>\n      <td>-73.847201</td>\n      <td>Dunkin'</td>\n      <td>40.890459</td>\n      <td>-73.849089</td>\n      <td>Donut Shop</td>\n    </tr>\n  </tbody>\n</table>\n</div>"
     },
     "metadata": {},
     "execution_count": 17
    }
   ],
   "source": [
    "nyc_venues.head()"
   ]
  },
  {
   "cell_type": "code",
   "execution_count": 30,
   "metadata": {},
   "outputs": [
    {
     "output_type": "execute_result",
     "data": {
      "text/plain": [
       "(17, 7)"
      ]
     },
     "metadata": {},
     "execution_count": 30
    }
   ],
   "source": [
    "trawveg = trawno_venues.loc[trawno_venues['Venue Category'] == 'Vegetarian / Vegan Restaurant']\n",
    "trawveg.shape"
   ]
  },
  {
   "cell_type": "code",
   "execution_count": 31,
   "metadata": {},
   "outputs": [
    {
     "output_type": "execute_result",
     "data": {
      "text/plain": [
       "(39, 7)"
      ]
     },
     "metadata": {},
     "execution_count": 31
    }
   ],
   "source": [
    "nyveg = nyc_venues.loc[nyc_venues['Venue Category'] == 'Vegetarian / Vegan Restaurant']\n",
    "nyveg.shape"
   ]
  },
  {
   "cell_type": "code",
   "execution_count": null,
   "metadata": {},
   "outputs": [],
   "source": []
  }
 ]
}